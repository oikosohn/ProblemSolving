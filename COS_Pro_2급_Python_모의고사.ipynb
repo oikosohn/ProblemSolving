{
  "nbformat": 4,
  "nbformat_minor": 0,
  "metadata": {
    "colab": {
      "name": "COS Pro 2급 Python 모의고사.ipynb",
      "provenance": [],
      "collapsed_sections": [],
      "toc_visible": true
    },
    "kernelspec": {
      "name": "python3",
      "display_name": "Python 3"
    }
  },
  "cells": [
    {
      "cell_type": "markdown",
      "metadata": {
        "id": "y38OhautUe3n"
      },
      "source": [
        "# COS Pro 2급 Python 모의고사\r\n",
        "\r\n",
        "https://programmers.co.kr/learn/courses/33"
      ]
    },
    {
      "cell_type": "markdown",
      "metadata": {
        "id": "9ahcRWkIYusR"
      },
      "source": [
        "## 파트1. 빈 칸 채우기"
      ]
    },
    {
      "cell_type": "markdown",
      "metadata": {
        "id": "DkRrjWQYTuxg"
      },
      "source": [
        "### [YBM]n부터 m까지 자연수의 합\r\n",
        "\r\n",
        "https://programmers.co.kr/learn/courses/33/lessons/1855"
      ]
    },
    {
      "cell_type": "code",
      "metadata": {
        "id": "Vcm_HxypTtmP"
      },
      "source": [
        "def func_a(k):\r\n",
        "    sum = 0\r\n",
        "    for i in range(1,k+1):\r\n",
        "        sum += i\r\n",
        "    return sum\r\n",
        "\r\n",
        "def solution(n, m):\r\n",
        "    sum_to_m = func_a(m)\r\n",
        "    sum_to_n = func_a(n-1)\r\n",
        "    answer = sum_to_m - sum_to_n\r\n",
        "    return answer"
      ],
      "execution_count": null,
      "outputs": []
    },
    {
      "cell_type": "markdown",
      "metadata": {
        "id": "FU73ySqoUXcO"
      },
      "source": [
        "### [YBM]총점\r\n",
        "\r\n",
        "https://programmers.co.kr/learn/courses/33/lessons/1856"
      ]
    },
    {
      "cell_type": "code",
      "metadata": {
        "id": "iuzitHP8UK1f"
      },
      "source": [
        "def func_a(s):\r\n",
        "    ret = 0\r\n",
        "    for i in s:\r\n",
        "        if i > ret:\r\n",
        "            ret = i\r\n",
        "    return ret\r\n",
        "\r\n",
        "def func_b(s):\r\n",
        "    ret = 0\r\n",
        "    for i in s:\r\n",
        "        ret += i\r\n",
        "    return ret\r\n",
        "\r\n",
        "def func_c(s):\r\n",
        "    ret = 101\r\n",
        "    for i in s:\r\n",
        "        if i < ret:\r\n",
        "            ret = i\r\n",
        "    return ret\r\n",
        "\r\n",
        "\r\n",
        "def solution(scores):\r\n",
        "    sum = func_b(scores)\r\n",
        "    max_score = func_a(scores)\r\n",
        "    min_score = func_c(scores)\r\n",
        "    return sum - max_score - min_score"
      ],
      "execution_count": null,
      "outputs": []
    },
    {
      "cell_type": "markdown",
      "metadata": {
        "id": "MzWpvV_KUnLw"
      },
      "source": [
        "### [YBM]공항 방문객\r\n",
        "\r\n",
        "https://programmers.co.kr/learn/courses/33/lessons/1857"
      ]
    },
    {
      "cell_type": "code",
      "metadata": {
        "id": "AhLV9Jl5Unb3"
      },
      "source": [
        "def func_a(arr, n):\r\n",
        "    ret = []\r\n",
        "    for x in arr:\r\n",
        "        if x != n:\r\n",
        "            ret.append(x)\r\n",
        "    return ret\r\n",
        "\r\n",
        "def func_b(a, b):\r\n",
        "    if a >= b:\r\n",
        "        return a - b\r\n",
        "    else:\r\n",
        "        return b - a\r\n",
        "\r\n",
        "def func_c(arr):\r\n",
        "    ret = -1\r\n",
        "    for x in arr:\r\n",
        "        if ret < x:\r\n",
        "            ret = x\r\n",
        "    return ret\r\n",
        "\r\n",
        "def solution(visitor):\r\n",
        "    max_first = func_c(visitor)\r\n",
        "    visitor_removed = func_a(visitor, max_first )\r\n",
        "    max_second = func_c(visitor_removed)\r\n",
        "    answer = func_b(max_first, max_second)\r\n",
        "    return answer"
      ],
      "execution_count": null,
      "outputs": []
    },
    {
      "cell_type": "markdown",
      "metadata": {
        "id": "zpBcEE9cUns-"
      },
      "source": [
        "### [YBM]학점 계산\r\n",
        "\r\n",
        "https://programmers.co.kr/learn/courses/33/lessons/1858"
      ]
    },
    {
      "cell_type": "code",
      "metadata": {
        "id": "AzbkvLyBUn8u"
      },
      "source": [
        "def solution(scores):\r\n",
        "    grade_counter = [0 for i in range(5)]\r\n",
        "    for x in scores:\r\n",
        "        if x>=85:\r\n",
        "            grade_counter[0] += 1\r\n",
        "        elif x>=70:\r\n",
        "            grade_counter[1] += 1\r\n",
        "        elif x>=55:\r\n",
        "            grade_counter[2] += 1\r\n",
        "        elif x>=40:\r\n",
        "            grade_counter[3] += 1\r\n",
        "        else:\r\n",
        "            grade_counter[4] += 1\r\n",
        "    return grade_counter"
      ],
      "execution_count": null,
      "outputs": []
    },
    {
      "cell_type": "markdown",
      "metadata": {
        "id": "GDKLWul9UoLe"
      },
      "source": [
        "### [YBM]개구리\r\n",
        "\r\n",
        "https://programmers.co.kr/learn/courses/33/lessons/1859"
      ]
    },
    {
      "cell_type": "code",
      "metadata": {
        "id": "XJ9TSsqgUogG"
      },
      "source": [
        "def solution(stones):\r\n",
        "    cnt = 0\r\n",
        "    current = 0\r\n",
        "    n = len(stones)\r\n",
        "    while current<n:\r\n",
        "        current += stones[current]\r\n",
        "        cnt += 1\r\n",
        "    return cnt"
      ],
      "execution_count": null,
      "outputs": []
    },
    {
      "cell_type": "markdown",
      "metadata": {
        "id": "QQvZksSFYsMb"
      },
      "source": [
        "## 파트2. 한 줄 바꾸기"
      ]
    },
    {
      "cell_type": "markdown",
      "metadata": {
        "id": "JjE2esInY_Ka"
      },
      "source": [
        "### [YBM]키가 K보다 큰 사람\r\n",
        "\r\n",
        "https://programmers.co.kr/learn/courses/33/lessons/1862"
      ]
    },
    {
      "cell_type": "code",
      "metadata": {
        "id": "z1z9NM4sYsiZ"
      },
      "source": [
        "def solution(height, k):\r\n",
        "    answer = 0\r\n",
        "    n = len(height)\r\n",
        "    for h in height:\r\n",
        "        if h > k:\r\n",
        "            answer += 1\r\n",
        "    return answer"
      ],
      "execution_count": null,
      "outputs": []
    },
    {
      "cell_type": "markdown",
      "metadata": {
        "id": "Q_oR8fL8YtAh"
      },
      "source": [
        "### [YBM]알파벳 바꾸기\r\n",
        "\r\n",
        "https://programmers.co.kr/learn/courses/33/lessons/1860"
      ]
    },
    {
      "cell_type": "code",
      "metadata": {
        "id": "xjA1jjZJYtTR"
      },
      "source": [
        "def solution(s):\r\n",
        "    s_lst = list(s)\r\n",
        "    n = len(s)\r\n",
        "    for i in range(n):\r\n",
        "        if s_lst[i] == 'a':\r\n",
        "            s_lst[i] = 'z'\r\n",
        "        elif s_lst[i] == 'z':\r\n",
        "            s_lst[i] =  'a'\r\n",
        "    return \"\".join(s_lst)"
      ],
      "execution_count": null,
      "outputs": []
    },
    {
      "cell_type": "markdown",
      "metadata": {
        "id": "ly6ppaeCY_e4"
      },
      "source": [
        "### [YBM]이름에 \"j\" 또는 \"k\"가 들어가는 사람\r\n",
        "\r\n",
        "https://programmers.co.kr/learn/courses/33/lessons/1861"
      ]
    },
    {
      "cell_type": "code",
      "metadata": {
        "id": "FGCVnjjDY_tJ"
      },
      "source": [
        "def solution(name_list):\r\n",
        "    answer = 0\r\n",
        "    for name in name_list:\r\n",
        "        for n in name:\r\n",
        "            if n == 'j' or n == 'k':\r\n",
        "                answer += 1\r\n",
        "                break\r\n",
        "    return answer"
      ],
      "execution_count": null,
      "outputs": []
    },
    {
      "cell_type": "markdown",
      "metadata": {
        "id": "L8OLBD8nZAAh"
      },
      "source": [
        "## 파트3. 함수 작성 \r\n"
      ]
    },
    {
      "cell_type": "markdown",
      "metadata": {
        "id": "8SobbXbNZGQh"
      },
      "source": [
        "### [YBM]거스름돈\r\n",
        "\r\n",
        "https://programmers.co.kr/learn/courses/33/lessons/1863"
      ]
    },
    {
      "cell_type": "code",
      "metadata": {
        "id": "1eGMeVaiZGh6"
      },
      "source": [
        "def solution(price, money):\r\n",
        "    return money-sum(price) if money>=sum(price) else -1"
      ],
      "execution_count": null,
      "outputs": []
    },
    {
      "cell_type": "code",
      "metadata": {
        "id": "CBtDOI01a8yd"
      },
      "source": [
        "def solution(price, money):\r\n",
        "    if money>=sum(price):\r\n",
        "        answer = money-sum(price)\r\n",
        "    else:\r\n",
        "        answer = -1\r\n",
        "    return answer"
      ],
      "execution_count": null,
      "outputs": []
    },
    {
      "cell_type": "markdown",
      "metadata": {
        "id": "9mPDar2VZGya"
      },
      "source": [
        "### [YBM]k번째로 작은 수\r\n",
        "\r\n",
        "https://programmers.co.kr/learn/courses/33/lessons/1864"
      ]
    },
    {
      "cell_type": "code",
      "metadata": {
        "id": "w8lUV9PBZHAq"
      },
      "source": [
        "def solution(arr, k):\r\n",
        "    answer = sum(arr, [])\r\n",
        "    return sorted(answer)[k-1]"
      ],
      "execution_count": null,
      "outputs": []
    },
    {
      "cell_type": "code",
      "metadata": {
        "id": "hzcTh_UTdWO-"
      },
      "source": [
        "my_list = [[1, 2], [3, 4], [5, 6]]\r\n",
        "# 방법 1 - sum 함수\r\n",
        "answer = sum(my_list, [])"
      ],
      "execution_count": 1,
      "outputs": []
    },
    {
      "cell_type": "code",
      "metadata": {
        "id": "rSi_T44hdxZN"
      },
      "source": [
        ""
      ],
      "execution_count": null,
      "outputs": []
    }
  ]
}