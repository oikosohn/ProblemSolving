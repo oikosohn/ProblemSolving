{
  "nbformat": 4,
  "nbformat_minor": 0,
  "metadata": {
    "colab": {
      "name": "파이썬 입문.ipynb",
      "provenance": [],
      "collapsed_sections": []
    },
    "kernelspec": {
      "name": "python3",
      "display_name": "Python 3"
    }
  },
  "cells": [
    {
      "cell_type": "markdown",
      "metadata": {
        "id": "R9aDJ24liAER"
      },
      "source": [
        "# 파이썬 입문\r\n",
        "\r\n",
        "https://programmers.co.kr/learn/courses/2"
      ]
    },
    {
      "cell_type": "markdown",
      "metadata": {
        "id": "kPzeY1uJjmN5"
      },
      "source": [
        "## 파트2. 변수와 계산"
      ]
    },
    {
      "cell_type": "markdown",
      "metadata": {
        "id": "UXhcacWCi-nK"
      },
      "source": [
        "### REPL\r\n",
        "\r\n",
        "https://programmers.co.kr/learn/courses/2/lessons/56\r\n",
        "\r\n",
        "REPL= Read-Eval-Print Loop\r\n",
        "- Powershell에서 파일 이름 없이 python이라고만 입력하면 나오는 창\r\n",
        "- 파이썬 코드를 한 줄씩 입력해 가면서 테스트 해 볼 수 있는 입력창\r\n",
        "- REPL창을 종료하려면 exit()라고 입력\r\n",
        "\r\n"
      ]
    },
    {
      "cell_type": "markdown",
      "metadata": {
        "id": "qpSkKNFojMkJ"
      },
      "source": [
        "### Shell 사용법\r\n",
        "\r\n",
        "https://programmers.co.kr/learn/courses/2/lessons/174\r\n",
        "\r\n",
        "Shell 명령어\r\n",
        "- pwd(pring working directory): 현재 폴더 경로 출력\r\n",
        "- ls(list segment): 현재 폴더 내용물 출력\r\n",
        "- cd(change directory) <폴더명>: 다른 폴더로 이동\r\n",
        "- cd .. : 상위 폴더로 이동\r\n",
        "- cp(copy): 파일을 다른 이름으로 복사\r\n",
        "- rm(remove): 파일을 삭제\r\n",
        "\r\n",
        "파일이름 자동완성\r\n",
        "\r\n",
        "- 파일 이름을 입력할때는 앞 1~2글자만 입력하고 tab키를 누르면 자동 완성되는 기능"
      ]
    },
    {
      "cell_type": "markdown",
      "metadata": {
        "id": "47rijPIgj9Vw"
      },
      "source": [
        "## 파트3. 조건문"
      ]
    },
    {
      "cell_type": "markdown",
      "metadata": {
        "id": "rDvHd9Q7k-go"
      },
      "source": [
        "### 조건식 - 실습(1)\r\n"
      ]
    },
    {
      "cell_type": "code",
      "metadata": {
        "id": "XqJd1H7VHZV3"
      },
      "source": [
        "from datetime import datetime \r\n",
        "hour = datetime.now().hour\r\n",
        "\r\n",
        "#현재 시간이 12시보다 작을때만 print문을 실행하도록 이 아래줄에 if문을 추가하세요.\r\n",
        "if hour < 12:\r\n",
        "    print('오전입니다.')#if문을 추가한 이후 이 줄은 들여쓰기 되어야 합니다."
      ],
      "execution_count": null,
      "outputs": []
    },
    {
      "cell_type": "markdown",
      "metadata": {
        "id": "ZRKLHyROH1N-"
      },
      "source": [
        "### 조건식 - 실습(3)\r\n"
      ]
    },
    {
      "cell_type": "code",
      "metadata": {
        "id": "t6v_QbTEHg2-"
      },
      "source": [
        "#현재 시간이 6의 배수일 때만 print문이 실행되도록 아래줄에 if문을 추가하세요\r\n",
        "if hour % 6 == 0:\r\n",
        "    print('종이 울립니다.')#if문을 추가한 이후 이 줄은 들여쓰기 되어야 합니다."
      ],
      "execution_count": null,
      "outputs": []
    },
    {
      "cell_type": "markdown",
      "metadata": {
        "id": "6k0TVjdMJz_A"
      },
      "source": [
        "## 파트5. 자료형"
      ]
    },
    {
      "cell_type": "markdown",
      "metadata": {
        "id": "hXiXxHmOKGkJ"
      },
      "source": [
        "### format\r\n",
        "\r\n",
        "문자열.format()\r\n",
        "\r\n",
        "- 문자열의 대괄호 자리에 format 뒤의 괄호안에 들어있는 값을 하나씩 넣는다\r\n",
        "- 문자열에 포함된 대괄호 개수 보다 format안에 들어 있는 값의 수가 많으면 정상 동작\r\n",
        "  - print('{} 번 손님'.format(number,greeting))\r\n",
        "- 문자열에 포함된 대괄호 개수 보다 format안에 들어 있는 값의 수가 적으면 에러\r\n",
        "  - print('{} 번 손님 {}'.format(number))"
      ]
    },
    {
      "cell_type": "markdown",
      "metadata": {
        "id": "hOCR5CUhJ1ER"
      },
      "source": [
        "### format - 실습\r\n",
        "\r\n",
        "https://programmers.co.kr/learn/courses/2/lessons/64"
      ]
    },
    {
      "cell_type": "code",
      "metadata": {
        "colab": {
          "base_uri": "https://localhost:8080/"
        },
        "id": "fidn67f8KC6g",
        "outputId": "a2512b7a-7139-44ff-b6e5-2eb9c1de75f0"
      },
      "source": [
        "number = 20\r\n",
        "welcome = '환영합니다'\r\n",
        "base = '{} 번 손님 {}'\r\n",
        "\r\n",
        "# 아래 3개의 print는 같은 값을 출력합니다.\r\n",
        "print(number,'번 손님',welcome)\r\n",
        "print(base.format(number,welcome))\r\n",
        "print('{} 번 손님 {}'.format(number,welcome))\r\n",
        "# => 20 번 손님 환영합니다"
      ],
      "execution_count": null,
      "outputs": [
        {
          "output_type": "stream",
          "text": [
            "20 번 손님 환영합니다\n",
            "20 번 손님 환영합니다\n",
            "20 번 손님 환영합니다\n"
          ],
          "name": "stdout"
        }
      ]
    },
    {
      "cell_type": "code",
      "metadata": {
        "colab": {
          "base_uri": "https://localhost:8080/"
        },
        "id": "r9chILj7H_3-",
        "outputId": "fb2a0d4d-6731-47da-940c-7281fbb354a9"
      },
      "source": [
        "name = '땡땡'\r\n",
        "color = '파랑'\r\n",
        "print('안녕하세요. 제 이름은 {}이고 좋아하는 색상은 {}입니다.'.format(name,color))"
      ],
      "execution_count": null,
      "outputs": [
        {
          "output_type": "stream",
          "text": [
            "안녕하세요. 제 이름은 땡땡이고 좋아하는 색상은 파랑입니다.\n"
          ],
          "name": "stdout"
        }
      ]
    },
    {
      "cell_type": "markdown",
      "metadata": {
        "id": "lTC0WnRzKYDx"
      },
      "source": [
        "### 문자열\r\n",
        "\r\n",
        "' 또는 \"로 문자열 만들기\r\n",
        "\r\n",
        "- ' 또는 \"로 글의 양쪽을 감싸면 문자열로 인식\r\n",
        "- '로 감싼 문자열 안에는 \"를 쓸 수 있다.\r\n",
        "- \"로 감싼 문자열 안에는 '를 쓸 수 있다.\r\n",
        "\r\n",
        "```\r\n",
        "string1 = '따옴표로 싼 문자열 안에는 큰따옴표(\")를 사용할 수 있다.'\r\n",
        "string2 = \"큰따옴표로 싼 문자열 안에는 따옴표(')를 사용할 수 있다.\"\r\n",
        "```\r\n",
        "\r\n",
        "따옴표/큰따옴표 3개로 문자열 만들기\r\n",
        "\r\n",
        "\r\n",
        "- 줄 바꿈도 인식 가능\r\n",
        "- 따옴표와 큰따옴표를 섞어 쓸 수 있다.\r\n",
        "\r\n",
        "```\r\n",
        "string3=\"\"\"줄도 바꾸고\r\n",
        "큰따옴표\"와 따옴표'를 마음대로 쓸 수 있음\"\"\"\r\n",
        "```"
      ]
    },
    {
      "cell_type": "code",
      "metadata": {
        "colab": {
          "base_uri": "https://localhost:8080/"
        },
        "id": "ARbEUgNPK7dd",
        "outputId": "42652210-055c-4066-cdef-5e8295010d11"
      },
      "source": [
        "string3=\"\"\"줄도 바꾸고\r\n",
        "큰따옴표\"와 따옴표'를 마음대로 쓸 수 있음\"\"\"\r\n",
        "print(string3)"
      ],
      "execution_count": null,
      "outputs": [
        {
          "output_type": "stream",
          "text": [
            "줄도 바꾸고\n",
            "큰따옴표\"와 따옴표'를 마음대로 쓸 수 있음\n"
          ],
          "name": "stdout"
        }
      ]
    },
    {
      "cell_type": "markdown",
      "metadata": {
        "id": "8kRClAXgLOXK"
      },
      "source": [
        "### 문자열 - 실습\r\n",
        "\r\n",
        "https://programmers.co.kr/learn/courses/2/lessons/66"
      ]
    },
    {
      "cell_type": "code",
      "metadata": {
        "colab": {
          "base_uri": "https://localhost:8080/"
        },
        "id": "a1bP6ACjLNrh",
        "outputId": "b473d0dd-3930-49db-d908-df13cb28b2ca"
      },
      "source": [
        "#string1을 선언하세요.\r\n",
        "string1 = \"\"\"다스베이더가 말했다.\r\n",
        "\"내가 니 애비다!\"\r\n",
        "그 말을 들은 루크는 '깜짝' 놀랐다.\"\"\"\r\n",
        "\r\n",
        "print(string1)"
      ],
      "execution_count": null,
      "outputs": [
        {
          "output_type": "stream",
          "text": [
            "다스베이더가 말했다.\n",
            "\"내가 니 애비다!\"\n",
            "그 말을 들은 루크는 '깜짝' 놀랐다.\n"
          ],
          "name": "stdout"
        }
      ]
    },
    {
      "cell_type": "markdown",
      "metadata": {
        "id": "0mZXOt94Lcad"
      },
      "source": [
        "### 정수와 실수\r\n",
        "\r\n",
        "정수\r\n",
        "- 영어로 integer, 줄여서 파이썬에서는 int라고 표현\r\n",
        "- 정수끼리 더하거나 곱하거나 빼면 정수\r\n",
        "- 정수끼리 나누면 실수가 나올 수 있으나, 나눗샘의 몫만을 구하려면 //연산자를 이용\r\n",
        "```\r\n",
        "a = 5//3 #계산결과 a=1\r\n",
        "```\r\n",
        "-\r\n",
        " 실수를 정수로 바꾸려면 int를 이용\r\n",
        "  - a=int(5.4)라고 하면 a는 5를 값으로 가지게 된다.\r\n",
        "\r\n",
        "실수\r\n",
        "\r\n",
        "- 부동소수점이라는 표현법을 이용해 소숫점을 표시할 수 있는 숫자\r\n",
        "- **어느정도의 계산 정확도는 가지지만, 계산에 있어서 완벽한 정확성은 가지지 않는다.**\r\n",
        "\r\n",
        "```\r\n",
        "0.1+0.1+0.1 == 0.3 #FALSE\r\n",
        "```\r\n",
        "- 정수를 실수로 바꾸려면 float를 사용\r\n",
        "  - a=float(5)라고 하면 a는 5.0을 값으로 가지게 된다."
      ]
    },
    {
      "cell_type": "code",
      "metadata": {
        "colab": {
          "base_uri": "https://localhost:8080/"
        },
        "id": "AfdZVPtYLcui",
        "outputId": "fc2ad439-2baa-43cc-9fec-52ca56118691"
      },
      "source": [
        "# 정수\r\n",
        "print(5//3)\r\n",
        "print(int(5.4))"
      ],
      "execution_count": null,
      "outputs": [
        {
          "output_type": "stream",
          "text": [
            "1\n",
            "5\n"
          ],
          "name": "stdout"
        }
      ]
    },
    {
      "cell_type": "code",
      "metadata": {
        "colab": {
          "base_uri": "https://localhost:8080/"
        },
        "id": "pBtZxc5ZL3sS",
        "outputId": "4c43efdc-133e-45fa-b246-06688a5c0bbb"
      },
      "source": [
        "# 실수\r\n",
        "print(0.1*3 == 0.3)\r\n",
        "print(0.1+0.1+0.1 == 0.3)\r\n",
        "print(0.1*10 == 1)"
      ],
      "execution_count": null,
      "outputs": [
        {
          "output_type": "stream",
          "text": [
            "False\n",
            "False\n",
            "True\n"
          ],
          "name": "stdout"
        }
      ]
    },
    {
      "cell_type": "markdown",
      "metadata": {
        "id": "d2HIqximLc_q"
      },
      "source": [
        "### 정수와 실수 - 실습(2)\r\n",
        "\r\n",
        "https://programmers.co.kr/learn/courses/2/lessons/877"
      ]
    },
    {
      "cell_type": "code",
      "metadata": {
        "colab": {
          "base_uri": "https://localhost:8080/"
        },
        "id": "Vr5BPegyLdZx",
        "outputId": "b5215cad-c703-4529-c37c-2f67fc51a487"
      },
      "source": [
        "div1 = 6 / 5    # div = 1.2\r\n",
        "div2 = 6 // 5   # div = 1\r\n",
        "\r\n",
        "print(div1, div2)\r\n",
        "\r\n",
        "a=23\r\n",
        "b=5\r\n",
        "\r\n",
        "div = a//b\r\n",
        "\r\n",
        "print(\"변수 div는 {}입니다.\".format(div))"
      ],
      "execution_count": null,
      "outputs": [
        {
          "output_type": "stream",
          "text": [
            "1.2 1\n",
            "변수 div는 4입니다.\n"
          ],
          "name": "stdout"
        }
      ]
    },
    {
      "cell_type": "markdown",
      "metadata": {
        "id": "mkBKLrKRNGQf"
      },
      "source": [
        "### 사용자 입력 받기\r\n",
        "\r\n",
        "프로그래밍의 3단계\r\n",
        "- 사용자 입력\r\n",
        "- 자료 처리\r\n",
        "- 결과 출력\r\n",
        "\r\n",
        "input()\r\n",
        "- 사용자의 키보드 입력을 return\r\n",
        "```\r\n",
        "print('가위 바위 보 중 하나를 내주세요> ', end = ' ')\r\n",
        "mine = input()\r\n",
        "print('mine:', mine)\r\n",
        "```\r\n",
        "\r\n",
        "- 간단한 print기능을 내장\r\n",
        "```\r\n",
        "mine = input('가위 바위 보 중 하나를 내주세요> ')\r\n",
        "print('mine:', mine)\r\n",
        "```\r\n",
        "\r\n",
        "Ctrl + c\r\n",
        "- 프로그램 즉시 종료"
      ]
    },
    {
      "cell_type": "code",
      "metadata": {
        "colab": {
          "base_uri": "https://localhost:8080/"
        },
        "id": "rOi4SESwNVD2",
        "outputId": "b618d7f8-5f89-4a69-e162-f1bb3af713ed"
      },
      "source": [
        "print('가위 바위 보 중 하나를 내주세요> ', end = ' ')\r\n",
        "mine = input()\r\n",
        "print('mine:', mine)"
      ],
      "execution_count": null,
      "outputs": [
        {
          "output_type": "stream",
          "text": [
            "가위 바위 보 중 하나를 내주세요>  가위\n",
            "mine: 가위\n"
          ],
          "name": "stdout"
        }
      ]
    },
    {
      "cell_type": "code",
      "metadata": {
        "colab": {
          "base_uri": "https://localhost:8080/"
        },
        "id": "mGSDSo_zNjwz",
        "outputId": "b6e31ae4-ee87-43ef-8cce-19ea9de2f8ef"
      },
      "source": [
        "mine = input('가위 바위 보 중 하나를 내주세요> ')\r\n",
        "print('mine:', mine)"
      ],
      "execution_count": null,
      "outputs": [
        {
          "output_type": "stream",
          "text": [
            "가위 바위 보 중 하나를 내주세요> 바위\n",
            "mine: 바위\n"
          ],
          "name": "stdout"
        }
      ]
    },
    {
      "cell_type": "markdown",
      "metadata": {
        "id": "SWwfv8kJNVaD"
      },
      "source": [
        "## 파트6. 리스트"
      ]
    },
    {
      "cell_type": "markdown",
      "metadata": {
        "id": "K3t8mfalO9fl"
      },
      "source": [
        "### 리스트 수정\r\n",
        "리스트에 새로운 값을 추가하는 방법\r\n",
        "- list1=[1,2,3]이라고 할 때 append를 이용\r\n",
        "  - `list1.append(4)`\r\n",
        "  - append를 이용하면 리스트에 새로운 값이 추가된다.\r\n",
        "- 뒤에 새로운 리스트를 더하기\r\n",
        "  - `list2=list1+[4]`\r\n",
        "  - list1은 그대로 두고, 새로운 리스트를 만들어 낸다.\r\n",
        "\r\n",
        "리스트에 값이 들어있는지 확인하는 방법\r\n",
        "- in 연산을 이용\r\n",
        "```\r\n",
        "#12라는 값이 리스트에 들어있는지 확인하는 코드\r\n",
        "n=12\r\n",
        "if n in list1:\r\n",
        "    print('{}가 리스트에 있다.'.format(n))\r\n",
        "```\r\n",
        "\r\n",
        "리스트에서 필요 없는 값을 지우는 방법\r\n",
        "\r\n",
        "- del을 이용해서 특정 위치의 값을 지우기\r\n",
        "  - del list1[10] 리스트의 10번째 값을 지워라\r\n",
        "- remove를 이용해서 특정 값을 지우기\r\n",
        "  - list1.remove(40)을 하면 리스트에 40이라는 값이 있는경우 삭제\r\n",
        "  - 여러개의 값이 있는 경우 가장 앞에 있는 하나만 지워짐"
      ]
    },
    {
      "cell_type": "code",
      "metadata": {
        "colab": {
          "base_uri": "https://localhost:8080/"
        },
        "id": "-M4Nr-sSO8o8",
        "outputId": "5d3852d7-5349-4cd6-94a0-389029537c08"
      },
      "source": [
        "list1 = [1,2,3]\r\n",
        "list1.append(4)\r\n",
        "print(list1)\r\n",
        "\r\n",
        "list2 = list1+[4]\r\n",
        "print(list2)"
      ],
      "execution_count": null,
      "outputs": [
        {
          "output_type": "stream",
          "text": [
            "[1, 2, 3, 4]\n",
            "[1, 2, 3, 4, 4]\n"
          ],
          "name": "stdout"
        }
      ]
    },
    {
      "cell_type": "markdown",
      "metadata": {
        "id": "Yk_Jx2beP2c-"
      },
      "source": [
        "### 리스트 수정 - 실습(3)\r\n",
        "\r\n",
        "https://programmers.co.kr/learn/courses/2/lessons/860"
      ]
    },
    {
      "cell_type": "code",
      "metadata": {
        "colab": {
          "base_uri": "https://localhost:8080/"
        },
        "id": "kmFN-0tlP2tO",
        "outputId": "d9fae2f6-1fbf-48b4-aa65-874503b39406"
      },
      "source": [
        "numbers = [1,2,3,4,5]\r\n",
        "if 5 in numbers :\r\n",
        "  print(\"5가 있다\")"
      ],
      "execution_count": null,
      "outputs": [
        {
          "output_type": "stream",
          "text": [
            "5가 있다\n"
          ],
          "name": "stdout"
        }
      ]
    },
    {
      "cell_type": "markdown",
      "metadata": {
        "id": "wzDdkwqJNb5L"
      },
      "source": [
        "### 리스트 수정 - 실습(4)\r\n",
        "\r\n",
        "https://programmers.co.kr/learn/courses/2/lessons/861"
      ]
    },
    {
      "cell_type": "code",
      "metadata": {
        "colab": {
          "base_uri": "https://localhost:8080/"
        },
        "id": "9GOqBZCfQNA1",
        "outputId": "1368d9ef-0de4-47f0-e0d5-00b78958fbd7"
      },
      "source": [
        "list1=[1,2,3]\r\n",
        "# 여기에 코드를 추가해 보세요.\r\n",
        "# list1.remove(2) # 리스트 안에 일치하는 값을 삭제\r\n",
        "del list1[1] # 인덱스에 해당하는 값 삭제\r\n",
        "print(list1)"
      ],
      "execution_count": null,
      "outputs": [
        {
          "output_type": "stream",
          "text": [
            "[1, 3]\n"
          ],
          "name": "stdout"
        }
      ]
    },
    {
      "cell_type": "markdown",
      "metadata": {
        "id": "55PTmpmHQfbG"
      },
      "source": [
        "## 파트7. for 반복문"
      ]
    },
    {
      "cell_type": "markdown",
      "metadata": {
        "id": "CbCitluUQifc"
      },
      "source": [
        "### for in range\r\n",
        "\r\n",
        "https://programmers.co.kr/learn/courses/2/lessons/183\r\n",
        "\r\n",
        "range 함수\r\n",
        "- 필요한 만큼의 숫자를 만들어내는 유용한 기능\r\n",
        "```\r\n",
        "for i in range(5):\r\n",
        "    print(i)\r\n",
        "```\r\n",
        "\r\n",
        "enumerate\r\n",
        "- 리스트가 있는 경우 순서와 리스트의 값을 전달하는 기능\r\n",
        "```\r\n",
        "names = ['철수', '영희', '영수']\r\n",
        "for i, name in enumerate(names):\r\n",
        "    print('{}번: {}'.format(i + 1, name))\r\n",
        "```"
      ]
    },
    {
      "cell_type": "markdown",
      "metadata": {
        "id": "X0NDpo0fRDEs"
      },
      "source": [
        "### for in range - 실습(3)\r\n",
        "\r\n",
        "https://programmers.co.kr/learn/courses/2/lessons/871\r\n",
        "\r\n",
        "enumerate는 리스트가 있는 경우 순서와 리스트의 값을 전달하는 기능을 합니다. 아래의 예를 참고하여 문제를 해결해 보세요."
      ]
    },
    {
      "cell_type": "code",
      "metadata": {
        "colab": {
          "base_uri": "https://localhost:8080/"
        },
        "id": "98GTcbrtQivC",
        "outputId": "63bce522-b8be-46e0-f717-b521ea8c0e53"
      },
      "source": [
        "rainbow=[\"빨\",\"주\",\"노\",\"초\",\"파\",\"남\",\"보\"]\r\n",
        "for i,color in enumerate(rainbow) :\r\n",
        "    print('{}번째 색은 {}'.format(i+1,color))"
      ],
      "execution_count": null,
      "outputs": [
        {
          "output_type": "stream",
          "text": [
            "1번째 색은 빨\n",
            "2번째 색은 주\n",
            "3번째 색은 노\n",
            "4번째 색은 초\n",
            "5번째 색은 파\n",
            "6번째 색은 남\n",
            "7번째 색은 보\n"
          ],
          "name": "stdout"
        }
      ]
    },
    {
      "cell_type": "markdown",
      "metadata": {
        "id": "Vtlb6NFpRtkV"
      },
      "source": [
        "### for in range - 실습(4)\r\n",
        "\r\n",
        "https://programmers.co.kr/learn/courses/2/lessons/872"
      ]
    },
    {
      "cell_type": "code",
      "metadata": {
        "colab": {
          "base_uri": "https://localhost:8080/"
        },
        "id": "EZE6q1i0Rt2I",
        "outputId": "0ffaade8-bf1e-4636-95ba-b2a8b1af2e92"
      },
      "source": [
        "days = [31,29,31,30,31,30,31,31,30,31,30,31]\r\n",
        "\r\n",
        "\r\n",
        "for mon, day in enumerate(days):\r\n",
        "    print('{}월의 날짜수는 {}일 입니다.'.format(mon+1,day))"
      ],
      "execution_count": null,
      "outputs": [
        {
          "output_type": "stream",
          "text": [
            "1월의 날짜수는 31일 입니다.\n",
            "2월의 날짜수는 29일 입니다.\n",
            "3월의 날짜수는 31일 입니다.\n",
            "4월의 날짜수는 30일 입니다.\n",
            "5월의 날짜수는 31일 입니다.\n",
            "6월의 날짜수는 30일 입니다.\n",
            "7월의 날짜수는 31일 입니다.\n",
            "8월의 날짜수는 31일 입니다.\n",
            "9월의 날짜수는 30일 입니다.\n",
            "10월의 날짜수는 31일 입니다.\n",
            "11월의 날짜수는 30일 입니다.\n",
            "12월의 날짜수는 31일 입니다.\n"
          ],
          "name": "stdout"
        }
      ]
    },
    {
      "cell_type": "markdown",
      "metadata": {
        "id": "9iJrRpg8RQjP"
      },
      "source": [
        "## 파트8. 모듈"
      ]
    },
    {
      "cell_type": "markdown",
      "metadata": {
        "id": "zjW8-GBlRSp1"
      },
      "source": [
        "### 모듈 사용하기\r\n",
        "\r\n",
        "모듈\r\n",
        "- 미리 만들어진 코드를 가져와 쓰는 방법\r\n",
        "- import 모듈이름\r\n",
        "- **사용 방법: 모듈이름.모듈안의 구성요소**\r\n",
        "```\r\n",
        "math.pi\r\n",
        "random.choice()\r\n",
        "```\r\n",
        "\r\n",
        "모듈의 예\r\n",
        "- import math\r\n",
        "  - 수학과 관련된 기능\r\n",
        "- import random\r\n",
        "  - 무작위와 관련된 기능\r\n",
        "- import urllib.request\r\n",
        "  - 인터넷의 내용을 가져오는 기능\r\n",
        "\r\n",
        "\r\n",
        "url = http:// + 도메인"
      ]
    },
    {
      "cell_type": "code",
      "metadata": {
        "colab": {
          "base_uri": "https://localhost:8080/"
        },
        "id": "RLSsat9vRS5z",
        "outputId": "91eade13-ac61-48e0-922f-f59f4e70771e"
      },
      "source": [
        "import random\r\n",
        "random.seed(100) # 난수 고정\r\n",
        "candidates = ['가위','바위','보']\r\n",
        "selected = random.choice(candidates)\r\n",
        "print(selected)"
      ],
      "execution_count": null,
      "outputs": [
        {
          "output_type": "stream",
          "text": [
            "가위\n"
          ],
          "name": "stdout"
        }
      ]
    },
    {
      "cell_type": "code",
      "metadata": {
        "colab": {
          "base_uri": "https://localhost:8080/"
        },
        "id": "XwzFXHIyTNPv",
        "outputId": "3d636ef6-668e-43ac-f6b0-dee73bf7f0a4"
      },
      "source": [
        "def get_web(url):\r\n",
        "  \"\"\"URL을 넣으면 페이지 내용을 돌려주는 함수\"\"\"\r\n",
        "  import urllib.request\r\n",
        "  response = urllib.request.urlopen(url) # URL 열기\r\n",
        "  data = response.read() # 데이터 읽기\r\n",
        "  decoded = data.decode('utf-8') # 복호화\r\n",
        "  return decoded\r\n",
        "\r\n",
        "url = input('웹 페이지 주소?: ')\r\n",
        "content = get_web(url)\r\n",
        "print(content)"
      ],
      "execution_count": null,
      "outputs": [
        {
          "output_type": "stream",
          "text": [
            "웹 페이지 주소?: http://example.com/\n",
            "<!doctype html>\n",
            "<html>\n",
            "<head>\n",
            "    <title>Example Domain</title>\n",
            "\n",
            "    <meta charset=\"utf-8\" />\n",
            "    <meta http-equiv=\"Content-type\" content=\"text/html; charset=utf-8\" />\n",
            "    <meta name=\"viewport\" content=\"width=device-width, initial-scale=1\" />\n",
            "    <style type=\"text/css\">\n",
            "    body {\n",
            "        background-color: #f0f0f2;\n",
            "        margin: 0;\n",
            "        padding: 0;\n",
            "        font-family: -apple-system, system-ui, BlinkMacSystemFont, \"Segoe UI\", \"Open Sans\", \"Helvetica Neue\", Helvetica, Arial, sans-serif;\n",
            "        \n",
            "    }\n",
            "    div {\n",
            "        width: 600px;\n",
            "        margin: 5em auto;\n",
            "        padding: 2em;\n",
            "        background-color: #fdfdff;\n",
            "        border-radius: 0.5em;\n",
            "        box-shadow: 2px 3px 7px 2px rgba(0,0,0,0.02);\n",
            "    }\n",
            "    a:link, a:visited {\n",
            "        color: #38488f;\n",
            "        text-decoration: none;\n",
            "    }\n",
            "    @media (max-width: 700px) {\n",
            "        div {\n",
            "            margin: 0 auto;\n",
            "            width: auto;\n",
            "        }\n",
            "    }\n",
            "    </style>    \n",
            "</head>\n",
            "\n",
            "<body>\n",
            "<div>\n",
            "    <h1>Example Domain</h1>\n",
            "    <p>This domain is for use in illustrative examples in documents. You may use this\n",
            "    domain in literature without prior coordination or asking for permission.</p>\n",
            "    <p><a href=\"https://www.iana.org/domains/example\">More information...</a></p>\n",
            "</div>\n",
            "</body>\n",
            "</html>\n",
            "\n"
          ],
          "name": "stdout"
        }
      ]
    },
    {
      "cell_type": "markdown",
      "metadata": {
        "id": "6-7K118mTEBA"
      },
      "source": [
        "### 모듈 만들기\r\n",
        "\r\n",
        "모듈 만들기\r\n",
        "- 사용할 함수, 메소드 코드를 작성한 모듈 파일을 생성\r\n",
        "- 모듈이 쓰일 파일에 import를 사용하여 모듈을 호출\r\n",
        "- 사용 방법은 기존의 모듈과 동일\r\n",
        "- 주의할 점은 사용자가 만든 모듈과 모듈을 쓸 파일이 같은 폴더에 있어야 한다."
      ]
    },
    {
      "cell_type": "code",
      "metadata": {
        "colab": {
          "base_uri": "https://localhost:8080/"
        },
        "id": "nE2zY4iPVFlg",
        "outputId": "9c63fca1-03ed-467b-9445-3a8210dd9beb"
      },
      "source": [
        "#1. 드라이브에 모듈 저장하는 방법\r\n",
        "\r\n",
        "# 콜랩에 자신의 드라이브 연결하기\r\n",
        "\r\n",
        "from google.colab import drive \r\n",
        "drive.mount('/content/gdrive')\r\n",
        "\r\n",
        "#코드를 실행하고 아이디를 선택하여 연결 할 수 있다.\r\n",
        "#연결하게 되면 드라이브 기본 경로(path)는 \"/content/gdrive\"가 된다.\r\n",
        "#제사한 사항 https://colab.research.google.com/notebooks/io.ipynb"
      ],
      "execution_count": null,
      "outputs": [
        {
          "output_type": "stream",
          "text": [
            "Drive already mounted at /content/gdrive; to attempt to forcibly remount, call drive.mount(\"/content/gdrive\", force_remount=True).\n"
          ],
          "name": "stdout"
        }
      ]
    },
    {
      "cell_type": "code",
      "metadata": {
        "colab": {
          "base_uri": "https://localhost:8080/"
        },
        "id": "OmyWy8KqWkdx",
        "outputId": "2a8a4e5d-0e45-461a-942e-4e52cacfd341"
      },
      "source": [
        "%cd /content/gdrive/My Drive/Problem-Solving"
      ],
      "execution_count": null,
      "outputs": [
        {
          "output_type": "stream",
          "text": [
            "/content/gdrive/My Drive/Problem-Solving\n"
          ],
          "name": "stdout"
        }
      ]
    },
    {
      "cell_type": "code",
      "metadata": {
        "colab": {
          "base_uri": "https://localhost:8080/",
          "height": 35
        },
        "id": "ElwCuGvJaLgq",
        "outputId": "81fedc5a-e845-46c5-d630-053b5959a2d3"
      },
      "source": [
        "%pwd"
      ],
      "execution_count": null,
      "outputs": [
        {
          "output_type": "execute_result",
          "data": {
            "application/vnd.google.colaboratory.intrinsic+json": {
              "type": "string"
            },
            "text/plain": [
              "'/content/gdrive/My Drive/Problem-Solving'"
            ]
          },
          "metadata": {
            "tags": []
          },
          "execution_count": 107
        }
      ]
    },
    {
      "cell_type": "code",
      "metadata": {
        "colab": {
          "base_uri": "https://localhost:8080/"
        },
        "id": "uOp3BJaAVG_P",
        "outputId": "dbf289f8-ab42-4bfc-d831-167e36f06f96"
      },
      "source": [
        "#sys 함수 import 후 path 삽입\r\n",
        "\r\n",
        "import sys\r\n",
        "sys.path.append(\"/content/gdrive/My Drive/Problem-Solving\") #구글 드라이브 최상위 폴더에 module이라는 파일을 만들었다.\r\n",
        "sys.path"
      ],
      "execution_count": null,
      "outputs": [
        {
          "output_type": "execute_result",
          "data": {
            "text/plain": [
              "['',\n",
              " '/env/python',\n",
              " '/usr/lib/python36.zip',\n",
              " '/usr/lib/python3.6',\n",
              " '/usr/lib/python3.6/lib-dynload',\n",
              " '/usr/local/lib/python3.6/dist-packages',\n",
              " '/usr/lib/python3/dist-packages',\n",
              " '/usr/local/lib/python3.6/dist-packages/IPython/extensions',\n",
              " '/root/.ipython',\n",
              " '/content/gdrive/My Drive/module',\n",
              " '/content/gdrive/My Drive',\n",
              " '/content/gdrive/My Drive',\n",
              " '/content/gdrive/My Drive',\n",
              " '/content/gdrive/My Drive/Problem-Solving']"
            ]
          },
          "metadata": {
            "tags": []
          },
          "execution_count": 98
        }
      ]
    },
    {
      "cell_type": "code",
      "metadata": {
        "id": "-bUyE19EZ30K"
      },
      "source": [
        "# sys.path.remove('/content/gdrive/My Drive/module')"
      ],
      "execution_count": null,
      "outputs": []
    },
    {
      "cell_type": "code",
      "metadata": {
        "colab": {
          "base_uri": "https://localhost:8080/"
        },
        "id": "WNH-lmcmV6q1",
        "outputId": "ad711a3b-8d9a-4bce-eb96-4fc50db93b4a"
      },
      "source": [
        "%%writefile my_module.py\r\n",
        "def random_rap():\r\n",
        "  \"\"\"무작위로 가위바위보를 낸다\"\"\"\r\n",
        "  import random\r\n",
        "  return random.choice(['가위','바위','보'])\r\n",
        "\r\n",
        "ROCK = '바위'\r\n",
        "SCISSOR = '가위'\r\n",
        "PAPER = '보'"
      ],
      "execution_count": null,
      "outputs": [
        {
          "output_type": "stream",
          "text": [
            "Writing my_module.py\n"
          ],
          "name": "stdout"
        }
      ]
    },
    {
      "cell_type": "code",
      "metadata": {
        "colab": {
          "base_uri": "https://localhost:8080/"
        },
        "id": "4ZSh2gr7WsjY",
        "outputId": "84844f7b-8c19-49f5-8385-cd5ef52b7801"
      },
      "source": [
        "!ls"
      ],
      "execution_count": null,
      "outputs": [
        {
          "output_type": "stream",
          "text": [
            "'COS Pro 2급 Python 모의고사.ipynb'\n",
            "'파이썬 입문.ipynb'\n",
            "'알고리즘 문제 해설.ipynb'\n",
            "'파이썬을 파이썬답게.ipynb'\n",
            " 정규표현식.ipynb\n",
            "'프로그래머스 LV1.ipynb'\n",
            " 프로그래머스_LV2.ipynb\n",
            "'SQL 고득점 Kit.ipynb'\n",
            "'프로그래머스 SQL 고득점 Kit 문제 풀이.pdf'\n"
          ],
          "name": "stdout"
        }
      ]
    },
    {
      "cell_type": "code",
      "metadata": {
        "colab": {
          "base_uri": "https://localhost:8080/"
        },
        "id": "SeiG7qG0X4Kz",
        "outputId": "dcb6eabf-128a-4c49-ba61-2958ad63be0a"
      },
      "source": [
        "!cat my_module.py "
      ],
      "execution_count": null,
      "outputs": [
        {
          "output_type": "stream",
          "text": [
            "def random_rap():\n",
            "  \"\"\"무작위로 가위바위보를 낸다\"\"\"\n",
            "  import random\n",
            "  return random.choice(['가위','바위','보'])\n",
            "\n",
            "ROCK = '바위'\n",
            "SCISSOR = '가위'\n",
            "PAPER = '보'"
          ],
          "name": "stdout"
        }
      ]
    },
    {
      "cell_type": "code",
      "metadata": {
        "colab": {
          "base_uri": "https://localhost:8080/",
          "height": 208
        },
        "id": "Cd1gGN9eUvgu",
        "outputId": "967a66ce-4000-4993-9a5b-2cc980c13839"
      },
      "source": [
        "import my_module\r\n",
        "rsp = my_module.random_rap()\r\n",
        "for i in range(5):\r\n",
        "  # print(my_module.random_rap())\r\n",
        "  print('가위?', my_module.PAPER ==rsp)"
      ],
      "execution_count": null,
      "outputs": [
        {
          "output_type": "error",
          "ename": "AttributeError",
          "evalue": "ignored",
          "traceback": [
            "\u001b[0;31m---------------------------------------------------------------------------\u001b[0m",
            "\u001b[0;31mAttributeError\u001b[0m                            Traceback (most recent call last)",
            "\u001b[0;32m<ipython-input-111-4216a4359132>\u001b[0m in \u001b[0;36m<module>\u001b[0;34m()\u001b[0m\n\u001b[1;32m      3\u001b[0m \u001b[0;32mfor\u001b[0m \u001b[0mi\u001b[0m \u001b[0;32min\u001b[0m \u001b[0mrange\u001b[0m\u001b[0;34m(\u001b[0m\u001b[0;36m5\u001b[0m\u001b[0;34m)\u001b[0m\u001b[0;34m:\u001b[0m\u001b[0;34m\u001b[0m\u001b[0;34m\u001b[0m\u001b[0m\n\u001b[1;32m      4\u001b[0m   \u001b[0;31m# print(my_module.random_rap())\u001b[0m\u001b[0;34m\u001b[0m\u001b[0;34m\u001b[0m\u001b[0;34m\u001b[0m\u001b[0m\n\u001b[0;32m----> 5\u001b[0;31m   \u001b[0mprint\u001b[0m\u001b[0;34m(\u001b[0m\u001b[0;34m'가위?'\u001b[0m\u001b[0;34m,\u001b[0m \u001b[0mmy_module\u001b[0m\u001b[0;34m.\u001b[0m\u001b[0mPAPER\u001b[0m \u001b[0;34m==\u001b[0m\u001b[0mrsp\u001b[0m\u001b[0;34m)\u001b[0m\u001b[0;34m\u001b[0m\u001b[0;34m\u001b[0m\u001b[0m\n\u001b[0m",
            "\u001b[0;31mAttributeError\u001b[0m: module 'my_module' has no attribute 'PAPER'"
          ]
        }
      ]
    },
    {
      "cell_type": "markdown",
      "metadata": {
        "id": "LINDFHsWUO4k"
      },
      "source": [
        "## 파트9. 활용하기\r\n",
        "\r\n"
      ]
    },
    {
      "cell_type": "markdown",
      "metadata": {
        "id": "7dSR-FBMUR0u"
      },
      "source": [
        "### 검색하기\r\n",
        "\r\n",
        "프로그래밍 검색 요령\r\n",
        "1. 검색은 구글\r\n",
        "2. 키워드에 파이썬3 또는 python3을 포함하라\r\n",
        "3. 코드를 포함한 글을 찾도록 하라\r\n",
        "4. 간단한 예제는 REPL을 사용하여 예제를 테스트 해보라\r\n",
        "5. 영어를 못해도 영어로 검색하라"
      ]
    },
    {
      "cell_type": "markdown",
      "metadata": {
        "id": "kXVFjExvazZE"
      },
      "source": [
        "### datetime - 실습\r\n",
        "\r\n",
        "https://programmers.co.kr/learn/courses/2/lessons/194\r\n",
        "\r\n",
        "코랩 시간대 변경 : https://stackoverflow.com/questions/55918562/changing-the-system-time-in-google-colaboratory"
      ]
    },
    {
      "cell_type": "code",
      "metadata": {
        "id": "RDZwz6sabj6K"
      },
      "source": [
        "# !ls -al /usr/share/zoneinfo/Asia"
      ],
      "execution_count": null,
      "outputs": []
    },
    {
      "cell_type": "code",
      "metadata": {
        "colab": {
          "base_uri": "https://localhost:8080/"
        },
        "id": "rB4qHDkuUSGg",
        "outputId": "d1902f3b-bf02-451f-bba5-ad4c45e029a8"
      },
      "source": [
        "# import datetime\r\n",
        "# print(datetime.date.today())"
      ],
      "execution_count": null,
      "outputs": [
        {
          "output_type": "stream",
          "text": [
            "2020-12-22\n"
          ],
          "name": "stdout"
        }
      ]
    },
    {
      "cell_type": "code",
      "metadata": {
        "colab": {
          "base_uri": "https://localhost:8080/"
        },
        "id": "BjSCOrjabHTy",
        "outputId": "876c1bae-8fba-4271-abb0-8b6c1ec3d4e0"
      },
      "source": [
        "# !rm /etc/localtime\r\n",
        "# !ln -s /usr/share/zoneinfo/ROK\r\n",
        "# !date"
      ],
      "execution_count": null,
      "outputs": [
        {
          "output_type": "stream",
          "text": [
            "Tue Dec 22 17:14:18 UTC 2020\n"
          ],
          "name": "stdout"
        }
      ]
    },
    {
      "cell_type": "code",
      "metadata": {
        "colab": {
          "base_uri": "https://localhost:8080/"
        },
        "id": "r_peKaZgbOuE",
        "outputId": "892a67dc-590a-494c-b06a-dc38aa45d896"
      },
      "source": [
        "import time\r\n",
        "time.localtime(time.time())"
      ],
      "execution_count": null,
      "outputs": [
        {
          "output_type": "execute_result",
          "data": {
            "text/plain": [
              "time.struct_time(tm_year=2020, tm_mon=12, tm_mday=22, tm_hour=17, tm_min=10, tm_sec=16, tm_wday=1, tm_yday=357, tm_isdst=0)"
            ]
          },
          "metadata": {
            "tags": []
          },
          "execution_count": 121
        }
      ]
    },
    {
      "cell_type": "code",
      "metadata": {
        "colab": {
          "base_uri": "https://localhost:8080/"
        },
        "id": "WQtvXiQ7c_jk",
        "outputId": "c45ab039-c922-4e0b-8c70-2aee16d3d7c4"
      },
      "source": [
        "import datetime\r\n",
        "print(datetime.date.today())"
      ],
      "execution_count": null,
      "outputs": [
        {
          "output_type": "stream",
          "text": [
            "2020-12-22\n"
          ],
          "name": "stdout"
        }
      ]
    },
    {
      "cell_type": "markdown",
      "metadata": {
        "id": "wvPAHq8cUSdu"
      },
      "source": [
        "### 문서찾기\r\n",
        "공식문서\r\n",
        "- 필요한 내용을 둘러보고 싶을때\r\n",
        "- 파이썬 내장 모듈과 함수의 정보가 필요할 때\r\n",
        "\r\n",
        "구글 또는 stackoverflow.com\r\n",
        "\r\n",
        "- 문제의 구체적인 해결 방법이 알고 싶을 때\r\n",
        "- 구글 검색시 사이트 제한 기능 활용 site:stackoverflow.com"
      ]
    },
    {
      "cell_type": "markdown",
      "metadata": {
        "id": "0vg0TmrldJds"
      },
      "source": [
        "### random - 실습(1)\r\n",
        "\r\n",
        "https://programmers.co.kr/learn/courses/2/lessons/197"
      ]
    },
    {
      "cell_type": "code",
      "metadata": {
        "id": "K_D9Mr9pUStX"
      },
      "source": [
        "import random\r\n",
        "list = [\"빨\",\"주\",\"노\",\"초\",\"파\",\"남\",\"보\"]\r\n",
        "random_element = \r\n",
        "random.choice(list)\r\n",
        "\r\n",
        "\r\n",
        "print(random_element)"
      ],
      "execution_count": null,
      "outputs": []
    },
    {
      "cell_type": "markdown",
      "metadata": {
        "id": "KPhbAkSSdPm0"
      },
      "source": [
        "### random - 실습(2)\r\n",
        "\r\n",
        "https://programmers.co.kr/learn/courses/2/lessons/865"
      ]
    },
    {
      "cell_type": "code",
      "metadata": {
        "colab": {
          "base_uri": "https://localhost:8080/"
        },
        "id": "NmRMEvO3dP8d",
        "outputId": "f4415b26-d90b-453a-b024-0b5d5f1f59a0"
      },
      "source": [
        "import random\r\n",
        "# random.randint(2,5) => 2가 최소 3가 최대\r\n",
        "random_number = random.randint(2,3)\r\n",
        "\r\n",
        "print(random_number)"
      ],
      "execution_count": null,
      "outputs": [
        {
          "output_type": "stream",
          "text": [
            "2\n"
          ],
          "name": "stdout"
        }
      ]
    },
    {
      "cell_type": "markdown",
      "metadata": {
        "id": "Uk5K-dAHdQVF"
      },
      "source": [
        "### random - 실습(3)\r\n",
        "\r\n",
        "https://programmers.co.kr/learn/courses/2/lessons/866"
      ]
    },
    {
      "cell_type": "code",
      "metadata": {
        "id": "j04qZc_edQm6"
      },
      "source": [
        "import random\r\n",
        "list = [\"빨\",\"주\",\"노\",\"초\",\"파\",\"남\",\"보\"]\r\n",
        "# 여기에 코드를 작성해 보세요.\r\n",
        "random.shuffle(list)\r\n",
        "print(list)"
      ],
      "execution_count": null,
      "outputs": []
    },
    {
      "cell_type": "markdown",
      "metadata": {
        "id": "DalE6u65eTfc"
      },
      "source": [
        "## 파트10. 딕셔너리와 튜플"
      ]
    },
    {
      "cell_type": "markdown",
      "metadata": {
        "id": "P28eHzZXeUIL"
      },
      "source": [
        "### 딕셔너리 만들기\r\n",
        "\r\n",
        "딕셔너리\r\n",
        "\r\n",
        "- 여러 값을 저장해 두고 필요한 값을 꺼내 쓰는 기능\r\n",
        "- 이름표를 이용하여 값을 꺼내 사용\r\n",
        "- 사용할 때는 리스트와 비슷한 방식\r\n",
        "\r\n",
        "```\r\n",
        "wintable = {\r\n",
        "    '가위' : '보',\r\n",
        "    '바위' : '가위',\r\n",
        "    '보' : '바위',\r\n",
        "}\r\n",
        "\r\n",
        "print(wintable['가위'])\r\n",
        "```"
      ]
    },
    {
      "cell_type": "code",
      "metadata": {
        "id": "AWDhEsUeeUTi",
        "colab": {
          "base_uri": "https://localhost:8080/"
        },
        "outputId": "536807df-af5a-4747-f17d-b5e9afc94db7"
      },
      "source": [
        "wintable = {\r\n",
        "    '가위' : '보',\r\n",
        "    '바위' : '가위',\r\n",
        "    '보' : '바위',\r\n",
        "}\r\n",
        "\r\n",
        "print(wintable['가위'])"
      ],
      "execution_count": null,
      "outputs": [
        {
          "output_type": "stream",
          "text": [
            "보\n"
          ],
          "name": "stdout"
        }
      ]
    },
    {
      "cell_type": "markdown",
      "metadata": {
        "id": "LQOxX16KeWQj"
      },
      "source": [
        "### 딕셔너리 만들기 - 실습(1)\r\n",
        "\r\n",
        "https://programmers.co.kr/learn/courses/2/lessons/305"
      ]
    },
    {
      "cell_type": "code",
      "metadata": {
        "id": "a_wTbdZSeWrE"
      },
      "source": [
        "days_in_month = {\r\n",
        "    #여기에 코드를 완성해 보세요.\r\n",
        "    '1월': 31,\r\n",
        "    '2월': 28,\r\n",
        "    '3월': 31\r\n",
        " }\r\n",
        "\r\n",
        "print(days_in_month['1월'])"
      ],
      "execution_count": null,
      "outputs": []
    },
    {
      "cell_type": "markdown",
      "metadata": {
        "id": "6YK242VyeW4-"
      },
      "source": [
        "### 딕셔너리 만들기 - 실습(2)\r\n",
        "\r\n",
        "딕셔너리의 이름표에는 문자열과 숫자형, 튜플을 사용할 수 있으며, 값으로는 어떤 자료형이 오던 상관 없습니다. 이번 문제에서는 값에 들어갈 자료형으로 리스트를 사용할 수 있음을 보여줍니다. 다음 코드를 실행해서 확인해 보세요.\r\n",
        "\r\n",
        "https://programmers.co.kr/learn/courses/2/lessons/855"
      ]
    },
    {
      "cell_type": "code",
      "metadata": {
        "id": "ce-v5FgveXRB",
        "colab": {
          "base_uri": "https://localhost:8080/"
        },
        "outputId": "67fd3625-3b18-452e-fd54-33964c411438"
      },
      "source": [
        "#            ↓ 이름표는 문자열 또는 숫자를 주로 사용하지만\r\n",
        "dict = {     \"이름표\"    :    [1,2,3] }\r\n",
        "#                           ↑ 값은 리스트를 포함해서 무엇이든 올 수 있습니다.\r\n",
        "\r\n",
        "print( dict[\"이름표\"] )"
      ],
      "execution_count": null,
      "outputs": [
        {
          "output_type": "stream",
          "text": [
            "[1, 2, 3]\n"
          ],
          "name": "stdout"
        }
      ]
    },
    {
      "cell_type": "markdown",
      "metadata": {
        "id": "pYOo2J-UGGxd"
      },
      "source": [
        "### 딕셔너리 수정하기\r\n",
        "\r\n",
        "https://programmers.co.kr/learn/courses/2/lessons/284\r\n",
        "\r\n",
        "- 추가\r\n",
        "```\r\n",
        "dict['three'] = 3\r\n",
        "```\r\n",
        "\r\n",
        "- 수정\r\n",
        "```\r\n",
        "dict['one'] = 11\r\n",
        "```\r\n",
        "\r\n",
        "- 삭제\r\n",
        "```\r\n",
        "del(dict['one'])\r\n",
        "dict.pop('two')\r\n",
        "```"
      ]
    },
    {
      "cell_type": "markdown",
      "metadata": {
        "id": "M6EUWDcgG39g"
      },
      "source": [
        "리스트"
      ]
    },
    {
      "cell_type": "code",
      "metadata": {
        "colab": {
          "base_uri": "https://localhost:8080/"
        },
        "id": "Xwh_ZbsdGHBN",
        "outputId": "0dc0c404-b4b2-4487-ead4-c8fb266b1370"
      },
      "source": [
        "list = [1,2,3,4,5]\r\n",
        "list"
      ],
      "execution_count": null,
      "outputs": [
        {
          "output_type": "execute_result",
          "data": {
            "text/plain": [
              "[1, 2, 3, 4, 5]"
            ]
          },
          "metadata": {
            "tags": []
          },
          "execution_count": 7
        }
      ]
    },
    {
      "cell_type": "code",
      "metadata": {
        "colab": {
          "base_uri": "https://localhost:8080/"
        },
        "id": "NVULBwzTG0N_",
        "outputId": "ae288251-ae6b-46ab-aed8-06604f2d9bc6"
      },
      "source": [
        "list[2] = 33\r\n",
        "list"
      ],
      "execution_count": null,
      "outputs": [
        {
          "output_type": "execute_result",
          "data": {
            "text/plain": [
              "[1, 2, 33, 4, 5]"
            ]
          },
          "metadata": {
            "tags": []
          },
          "execution_count": 8
        }
      ]
    },
    {
      "cell_type": "code",
      "metadata": {
        "colab": {
          "base_uri": "https://localhost:8080/",
          "height": 190
        },
        "id": "ALf0lgtzG3SD",
        "outputId": "3c1396ad-9d79-4efb-9aea-5a65f6d2a0e5"
      },
      "source": [
        "# 인덱스 에러\r\n",
        "list[5] = 6"
      ],
      "execution_count": null,
      "outputs": [
        {
          "output_type": "error",
          "ename": "IndexError",
          "evalue": "ignored",
          "traceback": [
            "\u001b[0;31m---------------------------------------------------------------------------\u001b[0m",
            "\u001b[0;31mIndexError\u001b[0m                                Traceback (most recent call last)",
            "\u001b[0;32m<ipython-input-9-1af6081c7846>\u001b[0m in \u001b[0;36m<module>\u001b[0;34m()\u001b[0m\n\u001b[1;32m      1\u001b[0m \u001b[0;31m# 인덱스 에러\u001b[0m\u001b[0;34m\u001b[0m\u001b[0;34m\u001b[0m\u001b[0;34m\u001b[0m\u001b[0m\n\u001b[0;32m----> 2\u001b[0;31m \u001b[0mlist\u001b[0m\u001b[0;34m[\u001b[0m\u001b[0;36m5\u001b[0m\u001b[0;34m]\u001b[0m \u001b[0;34m=\u001b[0m \u001b[0;36m6\u001b[0m\u001b[0;34m\u001b[0m\u001b[0;34m\u001b[0m\u001b[0m\n\u001b[0m",
            "\u001b[0;31mIndexError\u001b[0m: list assignment index out of range"
          ]
        }
      ]
    },
    {
      "cell_type": "code",
      "metadata": {
        "colab": {
          "base_uri": "https://localhost:8080/"
        },
        "id": "NIT-h_6qG9bF",
        "outputId": "a729c61e-0196-47f6-a573-df323ad6330a"
      },
      "source": [
        "list.append(6)\r\n",
        "list"
      ],
      "execution_count": null,
      "outputs": [
        {
          "output_type": "execute_result",
          "data": {
            "text/plain": [
              "[1, 2, 33, 4, 5, 6]"
            ]
          },
          "metadata": {
            "tags": []
          },
          "execution_count": 10
        }
      ]
    },
    {
      "cell_type": "code",
      "metadata": {
        "colab": {
          "base_uri": "https://localhost:8080/"
        },
        "id": "tHo2fNHdHjm4",
        "outputId": "2afd7b9e-eb04-4947-c258-73356934dd14"
      },
      "source": [
        "del(list[0])\r\n",
        "list"
      ],
      "execution_count": null,
      "outputs": [
        {
          "output_type": "execute_result",
          "data": {
            "text/plain": [
              "[2, 33, 4, 5, 6]"
            ]
          },
          "metadata": {
            "tags": []
          },
          "execution_count": 14
        }
      ]
    },
    {
      "cell_type": "code",
      "metadata": {
        "colab": {
          "base_uri": "https://localhost:8080/"
        },
        "id": "Ousqu6x5HuzS",
        "outputId": "0c1611f7-2978-4ef9-a066-15210777f617"
      },
      "source": [
        "# 지우면서 해당하는 값 리턴\r\n",
        "print(list.pop(0))"
      ],
      "execution_count": null,
      "outputs": [
        {
          "output_type": "stream",
          "text": [
            "2\n"
          ],
          "name": "stdout"
        }
      ]
    },
    {
      "cell_type": "code",
      "metadata": {
        "colab": {
          "base_uri": "https://localhost:8080/"
        },
        "id": "4TdSjFqbHzhd",
        "outputId": "3eac5a48-ef46-4f1d-efc7-da72a9df2130"
      },
      "source": [
        "list"
      ],
      "execution_count": null,
      "outputs": [
        {
          "output_type": "execute_result",
          "data": {
            "text/plain": [
              "[33, 4, 5, 6]"
            ]
          },
          "metadata": {
            "tags": []
          },
          "execution_count": 18
        }
      ]
    },
    {
      "cell_type": "markdown",
      "metadata": {
        "id": "QmiqMPRwHBqg"
      },
      "source": [
        "딕셔너리"
      ]
    },
    {
      "cell_type": "code",
      "metadata": {
        "colab": {
          "base_uri": "https://localhost:8080/"
        },
        "id": "jy2t8t46HFzL",
        "outputId": "b9dfec00-ea03-4010-8179-67e0e0ae10b6"
      },
      "source": [
        "dict = {'one':1, 'two':2}\r\n",
        "dict"
      ],
      "execution_count": null,
      "outputs": [
        {
          "output_type": "execute_result",
          "data": {
            "text/plain": [
              "{'one': 1, 'two': 2}"
            ]
          },
          "metadata": {
            "tags": []
          },
          "execution_count": 19
        }
      ]
    },
    {
      "cell_type": "code",
      "metadata": {
        "colab": {
          "base_uri": "https://localhost:8080/"
        },
        "id": "3cUMHjskHbVF",
        "outputId": "8147b760-12b7-4bc9-f513-3c7fd225e8f5"
      },
      "source": [
        "dict['one'] = 11\r\n",
        "dict"
      ],
      "execution_count": null,
      "outputs": [
        {
          "output_type": "execute_result",
          "data": {
            "text/plain": [
              "{'one': 11, 'two': 2}"
            ]
          },
          "metadata": {
            "tags": []
          },
          "execution_count": 20
        }
      ]
    },
    {
      "cell_type": "code",
      "metadata": {
        "colab": {
          "base_uri": "https://localhost:8080/"
        },
        "id": "jYIW04iXHdXt",
        "outputId": "ac491575-4d8c-4a30-c5ee-db7594ffaae4"
      },
      "source": [
        "# 딕셔너리 append 함수 없음\r\n",
        "dict['three'] = 3\r\n",
        "dict"
      ],
      "execution_count": null,
      "outputs": [
        {
          "output_type": "execute_result",
          "data": {
            "text/plain": [
              "{'one': 11, 'three': 3, 'two': 2}"
            ]
          },
          "metadata": {
            "tags": []
          },
          "execution_count": 21
        }
      ]
    },
    {
      "cell_type": "code",
      "metadata": {
        "colab": {
          "base_uri": "https://localhost:8080/"
        },
        "id": "xFL9Ze50GuMg",
        "outputId": "c138bcf7-a465-4329-b2fa-1b06a6101e18"
      },
      "source": [
        "del(dict['one'])\r\n",
        "dict"
      ],
      "execution_count": null,
      "outputs": [
        {
          "output_type": "execute_result",
          "data": {
            "text/plain": [
              "{'three': 3, 'two': 2}"
            ]
          },
          "metadata": {
            "tags": []
          },
          "execution_count": 22
        }
      ]
    },
    {
      "cell_type": "code",
      "metadata": {
        "colab": {
          "base_uri": "https://localhost:8080/"
        },
        "id": "lU1GhC06HnND",
        "outputId": "608b883c-5e20-4ecf-c8ba-6252c9119b9a"
      },
      "source": [
        "print(dict.pop('two'))\r\n",
        "dict"
      ],
      "execution_count": null,
      "outputs": [
        {
          "output_type": "stream",
          "text": [
            "2\n"
          ],
          "name": "stdout"
        },
        {
          "output_type": "execute_result",
          "data": {
            "text/plain": [
              "{'three': 3}"
            ]
          },
          "metadata": {
            "tags": []
          },
          "execution_count": 23
        }
      ]
    },
    {
      "cell_type": "markdown",
      "metadata": {
        "id": "r55AgXCsGHt7"
      },
      "source": [
        "딕셔너리 수정하기 - 실습(1)\r\n",
        "\r\n",
        "https://programmers.co.kr/learn/courses/2/lessons/306"
      ]
    },
    {
      "cell_type": "code",
      "metadata": {
        "id": "xtbj7ErAGH9U"
      },
      "source": [
        "days_in_month = {\"1월\":31, \"2월\":28, \"3월\":31}\r\n",
        "days_in_month['2월']=29\r\n",
        "\r\n",
        "print(days_in_month)"
      ],
      "execution_count": null,
      "outputs": []
    },
    {
      "cell_type": "markdown",
      "metadata": {
        "id": "4MZ0scPLIbZ2"
      },
      "source": [
        "딕셔너리 수정하기 - 실습(2)\r\n",
        "\r\n",
        "https://programmers.co.kr/learn/courses/2/lessons/873"
      ]
    },
    {
      "cell_type": "code",
      "metadata": {
        "id": "-iZOQtVRIbrH"
      },
      "source": [
        "days_in_month = {\"1월\":31, \"2월\":28, \"3월\":31,\"-1월\":97889789}\r\n",
        "days_in_month .pop('-1월')\r\n",
        "\r\n",
        "print(days_in_month)"
      ],
      "execution_count": null,
      "outputs": []
    },
    {
      "cell_type": "markdown",
      "metadata": {
        "id": "zDP6ClrzIhsC"
      },
      "source": [
        "### 딕셔너리와 반복문\r\n",
        "\r\n",
        "https://programmers.co.kr/learn/courses/2/lessons/285\r\n",
        "\r\n",
        "딕셔너리 반복문 활용\r\n",
        "- 경우에 따라 가져올 값을 정할 수있다.\r\n",
        "```\r\n",
        "for key in ages.keys(): # keys() 생략 가능\r\n",
        "    print(key)\r\n",
        "```\r\n",
        "```\r\n",
        "for value in ages.values():\r\n",
        "    print(value)\r\n",
        "```\r\n",
        "\r\n",
        "- key와 value 둘다 가져올 수 있다.\r\n",
        "```\r\n",
        "for key, value in ages.items():\r\n",
        "    print('{}의 나이는 {} 입니다'.format(key, value))\r\n",
        "```\r\n",
        "\r\n",
        "- 딕셔너리 3.6 버전부터는 입력순으로 순서가 저장된다.\r\n",
        "\r\n"
      ]
    },
    {
      "cell_type": "code",
      "metadata": {
        "colab": {
          "base_uri": "https://localhost:8080/"
        },
        "id": "Jt4rWmsgJdYI",
        "outputId": "2ac1b881-df64-419a-e6c5-208aaac3e875"
      },
      "source": [
        "ages = {'Tod':35, 'Jane':23, 'Paul':62}\r\n",
        "\r\n",
        "for key in ages.keys():\r\n",
        "  print(key)\r\n",
        "for value in ages.values():\r\n",
        "  print(value)"
      ],
      "execution_count": null,
      "outputs": [
        {
          "output_type": "stream",
          "text": [
            "Tod\n",
            "Jane\n",
            "Paul\n",
            "35\n",
            "23\n",
            "62\n"
          ],
          "name": "stdout"
        }
      ]
    },
    {
      "cell_type": "code",
      "metadata": {
        "colab": {
          "base_uri": "https://localhost:8080/"
        },
        "id": "vqOTBR0ZLRrN",
        "outputId": "f844d20e-080c-4da8-bc32-a048aeb447de"
      },
      "source": [
        "for key in ages:\r\n",
        "  print(key)"
      ],
      "execution_count": null,
      "outputs": [
        {
          "output_type": "stream",
          "text": [
            "Tod\n",
            "Jane\n",
            "Paul\n"
          ],
          "name": "stdout"
        }
      ]
    },
    {
      "cell_type": "code",
      "metadata": {
        "colab": {
          "base_uri": "https://localhost:8080/"
        },
        "id": "6vouwhwILANR",
        "outputId": "26629607-a398-49f2-bfda-48cfbe495b00"
      },
      "source": [
        "for key, value in ages.items():\r\n",
        "  print('{}의 나이는 {} 입니다.'.format(key,value))"
      ],
      "execution_count": null,
      "outputs": [
        {
          "output_type": "stream",
          "text": [
            "Tod의 나이는 35 입니다.\n",
            "Jane의 나이는 23 입니다.\n",
            "Paul의 나이는 62 입니다.\n"
          ],
          "name": "stdout"
        }
      ]
    },
    {
      "cell_type": "markdown",
      "metadata": {
        "id": "BzZdE6fULpqy"
      },
      "source": [
        "딕셔너리와 반복문 - 실습(1)\r\n",
        "\r\n",
        "https://programmers.co.kr/learn/courses/2/lessons/307"
      ]
    },
    {
      "cell_type": "code",
      "metadata": {
        "colab": {
          "base_uri": "https://localhost:8080/"
        },
        "id": "ZVoFG7KgLtvj",
        "outputId": "9427e40d-019d-465e-b3a2-7e70dd76fe42"
      },
      "source": [
        "days_in_month = {\"1월\":31, \"2월\":28, \"3월\":31, \"4월\":30, \"5월\":31}\r\n",
        "\r\n",
        "for key in days_in_month:\r\n",
        "    print(key)"
      ],
      "execution_count": null,
      "outputs": [
        {
          "output_type": "stream",
          "text": [
            "1월\n",
            "2월\n",
            "3월\n",
            "4월\n",
            "5월\n"
          ],
          "name": "stdout"
        }
      ]
    },
    {
      "cell_type": "markdown",
      "metadata": {
        "id": "b7vc1EblLqdJ"
      },
      "source": [
        "### 딕셔너리와 반복문 - 실습(2)\r\n",
        "\r\n",
        "https://programmers.co.kr/learn/courses/2/lessons/878"
      ]
    },
    {
      "cell_type": "code",
      "metadata": {
        "colab": {
          "base_uri": "https://localhost:8080/"
        },
        "id": "MYFcX2LsLqGS",
        "outputId": "606148c7-4cea-4542-8274-6bbd3df8869d"
      },
      "source": [
        "days_in_month = {\"1월\":31, \"2월\":28, \"3월\":31, \"4월\":30, \"5월\":31}\r\n",
        "\r\n",
        "#출력 형식은 아래 print함수를 참고하세요\r\n",
        "for key, value in days_in_month.items():\r\n",
        "    print(\"{}은 {}일이 있습니다.\".format(key, value))"
      ],
      "execution_count": null,
      "outputs": [
        {
          "output_type": "stream",
          "text": [
            "1월은 31일이 있습니다.\n",
            "2월은 28일이 있습니다.\n",
            "3월은 31일이 있습니다.\n",
            "4월은 30일이 있습니다.\n",
            "5월은 31일이 있습니다.\n"
          ],
          "name": "stdout"
        }
      ]
    },
    {
      "cell_type": "markdown",
      "metadata": {
        "id": "JFVWFRbPLqx1"
      },
      "source": [
        "### 리스트와 비교\r\n",
        "\r\n",
        "https://programmers.co.kr/learn/courses/2/lessons/286\r\n",
        "\r\n",
        "공통점\r\n",
        "\r\n",
        "||List|Dictionary|\r\n",
        "|:---:|:---:|:---:|\r\n",
        "|생성|list = [ 1, 2 ,3 ]|dict = { 'one':1, 'two':2 }|\r\n",
        "|호출|list[0]|dict['one']|\r\n",
        "|삭제|del(list[0])|del(dict[ 'one' ])|\r\n",
        "|개수 확인|len(list)|len(dict)|\r\n",
        "|값 확인|2 in list|'two' in dict.keys()|\r\n",
        "|전부 삭제|list.clear()|dict.clear()|\r\n",
        "\r\n",
        "\r\n",
        "\r\n",
        "차이점\r\n",
        "\r\n",
        "||List|Dictionary|\r\n",
        "|:---:|:---:|:---:|\r\n",
        "|순서|삭제 시 순서가 바뀌기 때문에 인덱스에 대한 값이 바뀐다|key로 값을 가져오기 때문에 삭제 여부와 상관없다|\r\n",
        "|결합|list1+list2|dict1.update(dict2)|"
      ]
    },
    {
      "cell_type": "code",
      "metadata": {
        "colab": {
          "base_uri": "https://localhost:8080/"
        },
        "id": "hGmbz-mMLrBL",
        "outputId": "d5026219-2484-4269-83ef-6becc5819fd9"
      },
      "source": [
        "list = [1,2,3,4,5]\r\n",
        "dict = {'one':1, 'two':2}\r\n",
        "\r\n",
        "print(list[2])\r\n",
        "list.pop(0)\r\n",
        "print(list)\r\n",
        "list[2]"
      ],
      "execution_count": null,
      "outputs": [
        {
          "output_type": "stream",
          "text": [
            "3\n",
            "[2, 3, 4, 5]\n"
          ],
          "name": "stdout"
        },
        {
          "output_type": "execute_result",
          "data": {
            "text/plain": [
              "4"
            ]
          },
          "metadata": {
            "tags": []
          },
          "execution_count": 32
        }
      ]
    },
    {
      "cell_type": "code",
      "metadata": {
        "colab": {
          "base_uri": "https://localhost:8080/"
        },
        "id": "X7Fo5usoN26h",
        "outputId": "d9f0d5db-98d3-4321-ab61-3ff76eb63b8a"
      },
      "source": [
        "dict.pop('one')"
      ],
      "execution_count": null,
      "outputs": [
        {
          "output_type": "execute_result",
          "data": {
            "text/plain": [
              "1"
            ]
          },
          "metadata": {
            "tags": []
          },
          "execution_count": 33
        }
      ]
    },
    {
      "cell_type": "code",
      "metadata": {
        "colab": {
          "base_uri": "https://localhost:8080/"
        },
        "id": "hq27H6mcN-YJ",
        "outputId": "59d16de4-c1fc-4ef4-fe65-35de3c3c4660"
      },
      "source": [
        "dict['two']"
      ],
      "execution_count": null,
      "outputs": [
        {
          "output_type": "execute_result",
          "data": {
            "text/plain": [
              "2"
            ]
          },
          "metadata": {
            "tags": []
          },
          "execution_count": 34
        }
      ]
    },
    {
      "cell_type": "code",
      "metadata": {
        "colab": {
          "base_uri": "https://localhost:8080/"
        },
        "id": "DO1aZnUTOCXY",
        "outputId": "c09f34a4-16bb-4305-b965-4d032ec42886"
      },
      "source": [
        "big_list = [1,2,3]+[4,5,6]\r\n",
        "big_list"
      ],
      "execution_count": null,
      "outputs": [
        {
          "output_type": "execute_result",
          "data": {
            "text/plain": [
              "[1, 2, 3, 4, 5, 6]"
            ]
          },
          "metadata": {
            "tags": []
          },
          "execution_count": 35
        }
      ]
    },
    {
      "cell_type": "code",
      "metadata": {
        "colab": {
          "base_uri": "https://localhost:8080/"
        },
        "id": "RN19SRKiOKYh",
        "outputId": "c2935b90-62aa-4510-e5df-330ce333b16c"
      },
      "source": [
        "dict1 = {1:100, 2:200}\r\n",
        "dict2 = {1:1000, 3:300}\r\n",
        "dict1.update(dict2)\r\n",
        "dict1"
      ],
      "execution_count": null,
      "outputs": [
        {
          "output_type": "execute_result",
          "data": {
            "text/plain": [
              "{1: 1000, 2: 200, 3: 300}"
            ]
          },
          "metadata": {
            "tags": []
          },
          "execution_count": 39
        }
      ]
    },
    {
      "cell_type": "code",
      "metadata": {
        "colab": {
          "base_uri": "https://localhost:8080/"
        },
        "id": "KNC6j6jAOidU",
        "outputId": "8c1acd92-28c4-4fd9-d75b-c8b616fd3b1b"
      },
      "source": [
        "dict1 = {1:100, 2:200}\r\n",
        "dict2 = {1:1000, 3:300}\r\n",
        "dict2.update(dict1)\r\n",
        "dict2"
      ],
      "execution_count": null,
      "outputs": [
        {
          "output_type": "execute_result",
          "data": {
            "text/plain": [
              "{1: 100, 2: 200, 3: 300}"
            ]
          },
          "metadata": {
            "tags": []
          },
          "execution_count": 40
        }
      ]
    },
    {
      "cell_type": "markdown",
      "metadata": {
        "id": "pUfJVkwiOhK4"
      },
      "source": [
        "### 리스트와 비교 - 실습(1)\r\n",
        "\r\n",
        "https://programmers.co.kr/learn/courses/2/lessons/308"
      ]
    },
    {
      "cell_type": "code",
      "metadata": {
        "id": "UH012Xn9Oha6"
      },
      "source": [
        "def check_and_clear(box):\r\n",
        "    if '불량품' in box.keys():\r\n",
        "        box.clear()\r\n",
        "        print(\"불량품이 있으면 box를 clear합니다.\")\r\n",
        "    else:\r\n",
        "        print(box)\r\n",
        "\r\n",
        "box1 = {\"불량품\" : 10}\r\n",
        "check_and_clear(box1)\r\n",
        "\r\n",
        "box2 = {\"정상품\": 10}\r\n",
        "check_and_clear(box2)"
      ],
      "execution_count": null,
      "outputs": []
    },
    {
      "cell_type": "markdown",
      "metadata": {
        "id": "s6QFkO02Oh2N"
      },
      "source": [
        "### 리스트와 비교 - 실습(2)\r\n",
        "\r\n",
        "https://programmers.co.kr/learn/courses/2/lessons/879"
      ]
    },
    {
      "cell_type": "code",
      "metadata": {
        "id": "zT2wR5ilOiH0"
      },
      "source": [
        "products = {\"풀\":800, \"딱풀\":1200, \"색종이\":1000,\"색연필\":5000,\"스케치북\":3500}\r\n",
        "\r\n",
        "catalog = {\"겨울용 실내화\":12000, \"잠자리채\":8000, \"딱풀\":1400}\r\n",
        "\r\n",
        "products.update(catalog)\r\n",
        "print(products)"
      ],
      "execution_count": null,
      "outputs": []
    },
    {
      "cell_type": "markdown",
      "metadata": {
        "id": "3IDi6drOPmOI"
      },
      "source": [
        "### 튜플 만들기\r\n",
        "\r\n",
        "https://programmers.co.kr/learn/courses/2/lessons/287\r\n",
        "\r\n",
        "튜플 : 변수 간의 값을 바꿀 때나 여러 값을 한번에 전달할 때 유용\r\n",
        "\r\n",
        "- 한번 정해진 순서를 바꿀 수 없다.\r\n",
        "- 튜플 선언\r\n",
        "\r\n",
        "```\r\n",
        "tuple1 = (1, 2, 3, 4)\r\n",
        "\r\n",
        "tuple2 = 1, 2, 3, 4\r\n",
        "\r\n",
        "mylist = [1,2,3,4]\r\n",
        "tuple3 = tuple(mylist)\r\n",
        "```\r\n",
        "\r\n",
        "- 튜플은 값의 변경과 삭제가 불가능"
      ]
    },
    {
      "cell_type": "code",
      "metadata": {
        "colab": {
          "base_uri": "https://localhost:8080/"
        },
        "id": "ZYqsLJ5UPmhp",
        "outputId": "3543dc0f-b63c-471d-9214-0c06fe27dbe7"
      },
      "source": [
        "tuple1 = (1,2,3,4)\r\n",
        "mylist = [1,2,3,4]\r\n",
        "tuple2 = tuple(mylist)\r\n",
        "tuple2"
      ],
      "execution_count": null,
      "outputs": [
        {
          "output_type": "execute_result",
          "data": {
            "text/plain": [
              "(1, 2, 3, 4)"
            ]
          },
          "metadata": {
            "tags": []
          },
          "execution_count": 41
        }
      ]
    },
    {
      "cell_type": "code",
      "metadata": {
        "colab": {
          "base_uri": "https://localhost:8080/"
        },
        "id": "LOAaEzDSQDAM",
        "outputId": "8390ddb6-9ccb-4bad-8270-22505abb25f0"
      },
      "source": [
        "tuple3 = 1,2,3\r\n",
        "print(tuple3)\r\n",
        "print(type(tuple3))"
      ],
      "execution_count": null,
      "outputs": [
        {
          "output_type": "stream",
          "text": [
            "(1, 2, 3)\n",
            "<class 'tuple'>\n"
          ],
          "name": "stdout"
        }
      ]
    },
    {
      "cell_type": "code",
      "metadata": {
        "colab": {
          "base_uri": "https://localhost:8080/"
        },
        "id": "i3GHwO6hQQ2G",
        "outputId": "94441421-b402-4101-9013-6db11817aa91"
      },
      "source": [
        "tuple3[0]"
      ],
      "execution_count": null,
      "outputs": [
        {
          "output_type": "execute_result",
          "data": {
            "text/plain": [
              "1"
            ]
          },
          "metadata": {
            "tags": []
          },
          "execution_count": 43
        }
      ]
    },
    {
      "cell_type": "code",
      "metadata": {
        "colab": {
          "base_uri": "https://localhost:8080/",
          "height": 172
        },
        "id": "KF0BZDI8QUM4",
        "outputId": "f86bf2e8-a567-4899-e50b-6eca1e26b0db"
      },
      "source": [
        "tuple3[0] = 5"
      ],
      "execution_count": null,
      "outputs": [
        {
          "output_type": "error",
          "ename": "TypeError",
          "evalue": "ignored",
          "traceback": [
            "\u001b[0;31m---------------------------------------------------------------------------\u001b[0m",
            "\u001b[0;31mTypeError\u001b[0m                                 Traceback (most recent call last)",
            "\u001b[0;32m<ipython-input-44-ad688c62c5d4>\u001b[0m in \u001b[0;36m<module>\u001b[0;34m()\u001b[0m\n\u001b[0;32m----> 1\u001b[0;31m \u001b[0mtuple3\u001b[0m\u001b[0;34m[\u001b[0m\u001b[0;36m0\u001b[0m\u001b[0;34m]\u001b[0m \u001b[0;34m=\u001b[0m \u001b[0;36m5\u001b[0m\u001b[0;34m\u001b[0m\u001b[0;34m\u001b[0m\u001b[0m\n\u001b[0m",
            "\u001b[0;31mTypeError\u001b[0m: 'tuple' object does not support item assignment"
          ]
        }
      ]
    },
    {
      "cell_type": "markdown",
      "metadata": {
        "id": "AaTzk0CoQj4f"
      },
      "source": [
        "### 튜플 만들기 - 실습(1)\r\n",
        "\r\n",
        "https://programmers.co.kr/learn/courses/2/lessons/309"
      ]
    },
    {
      "cell_type": "code",
      "metadata": {
        "id": "VohvsmKfQkHw"
      },
      "source": [
        "tuple1 = (1,2,3)\r\n",
        "tuple2 = 1,2,3\r\n",
        "list3 = [1,2,3]\r\n",
        "tuple3 = tuple(list3)\r\n",
        "\r\n",
        "if tuple1 == tuple2 == tuple3:\r\n",
        "    print(\"tuple1과 tuple2와 tuple3은 모두 같습니다.\")"
      ],
      "execution_count": null,
      "outputs": []
    },
    {
      "cell_type": "markdown",
      "metadata": {
        "id": "JaSKfJnjQkUg"
      },
      "source": [
        "### 튜플 만들기 - 실습(2)\r\n",
        "\r\n",
        "https://programmers.co.kr/learn/courses/2/lessons/881"
      ]
    },
    {
      "cell_type": "code",
      "metadata": {
        "id": "eu-yqFDXQklK"
      },
      "source": [
        "tuple1 = (11, 22, 33)\r\n",
        "for i in range(len(tuple1)):\r\n",
        "    print(tuple1[i])"
      ],
      "execution_count": null,
      "outputs": []
    },
    {
      "cell_type": "markdown",
      "metadata": {
        "id": "cH-qi-64QlVB"
      },
      "source": [
        "### packing, unpacking\r\n",
        "\r\n",
        "https://programmers.co.kr/learn/courses/2/lessons/288\r\n",
        "\r\n",
        "packing\r\n",
        "- 하나의 변수에 여러개의 값을 넣는 것\r\n",
        "\r\n",
        "unpacking\r\n",
        "- 패킹된 변수에서 여러개의 값을 꺼내오는 것\r\n",
        "```\r\n",
        "c = (3, 4)\r\n",
        "d, e = c    # c의 값을 언패킹하여 d, e에 값을 넣었다\r\n",
        "f = d, e    # 변수 d와 e를 f에 패킹\r\n",
        "```\r\n",
        "\r\n",
        "튜플의 활용\r\n",
        "- **두 변수의 값을 바꿀 때 임시변수가 필요 없다.**\r\n",
        "- **함수의 리턴 값으로 여러 값을 전달할 수 있다.**"
      ]
    },
    {
      "cell_type": "code",
      "metadata": {
        "colab": {
          "base_uri": "https://localhost:8080/"
        },
        "id": "SC0MMBs9QlkI",
        "outputId": "add6e0e0-2e8b-4e38-f88e-ec85fc7b65cb"
      },
      "source": [
        "c = (3, 4)\r\n",
        "d, e = c    # c의 값을 언패킹하여 d, e에 값을 넣었다\r\n",
        "f = d, e    # 변수 d와 e를 f에 패킹\r\n",
        "f"
      ],
      "execution_count": null,
      "outputs": [
        {
          "output_type": "execute_result",
          "data": {
            "text/plain": [
              "(3, 4)"
            ]
          },
          "metadata": {
            "tags": []
          },
          "execution_count": 45
        }
      ]
    },
    {
      "cell_type": "code",
      "metadata": {
        "colab": {
          "base_uri": "https://localhost:8080/"
        },
        "id": "lLkjldvIRrXD",
        "outputId": "7faae628-94b1-44cf-a232-95b32233d423"
      },
      "source": [
        "x,y = 5, 10\r\n",
        "x,y = y,x\r\n",
        "print(x,y)"
      ],
      "execution_count": null,
      "outputs": [
        {
          "output_type": "stream",
          "text": [
            "10 5\n"
          ],
          "name": "stdout"
        }
      ]
    },
    {
      "cell_type": "code",
      "metadata": {
        "colab": {
          "base_uri": "https://localhost:8080/"
        },
        "id": "QP2MLOfaRyjU",
        "outputId": "3fa31baf-8efb-4dd2-f9aa-9b31f5a05a54"
      },
      "source": [
        "# 파이썬은 함수의 리턴 값을 튜플로 반환한다. => 여러 개 값을 전달하기 편해서\r\n",
        "def tuple_func():\r\n",
        "  return 1,3\r\n",
        "\r\n",
        "q,w = tuple_func()\r\n",
        "print(q,w)"
      ],
      "execution_count": null,
      "outputs": [
        {
          "output_type": "stream",
          "text": [
            "1 3\n"
          ],
          "name": "stdout"
        }
      ]
    },
    {
      "cell_type": "markdown",
      "metadata": {
        "id": "P7ebX1eWQmAM"
      },
      "source": [
        "### packing, unpacking - 실습(1)\r\n",
        "\r\n",
        "https://programmers.co.kr/learn/courses/2/lessons/310"
      ]
    },
    {
      "cell_type": "code",
      "metadata": {
        "colab": {
          "base_uri": "https://localhost:8080/"
        },
        "id": "5_J1sSRqQmWL",
        "outputId": "84e589bc-f81b-4573-a3cb-684e15b695bb"
      },
      "source": [
        "x = 3\r\n",
        "y = 5\r\n",
        "\r\n",
        "position = x,y\r\n",
        "\r\n",
        "print(\"x, y로 이루어진 튜플 position의 값은 {}입니다.\".format(position))"
      ],
      "execution_count": null,
      "outputs": [
        {
          "output_type": "stream",
          "text": [
            "x, y로 이루어진 튜플 position의 값은 (3, 5)입니다.\n"
          ],
          "name": "stdout"
        }
      ]
    },
    {
      "cell_type": "markdown",
      "metadata": {
        "id": "soHpiCVGQm15"
      },
      "source": [
        "### packing, unpacking - 실습(2)\r\n",
        "\r\n",
        "https://programmers.co.kr/learn/courses/2/lessons/882\r\n"
      ]
    },
    {
      "cell_type": "code",
      "metadata": {
        "colab": {
          "base_uri": "https://localhost:8080/"
        },
        "id": "MwXhvzyEQnHH",
        "outputId": "c70a7368-4626-4127-ef71-592b5ff3a048"
      },
      "source": [
        "a = 1\r\n",
        "b = 2\r\n",
        "\r\n",
        "#코드를 작성해 보세요.\r\n",
        "a, b = b,a\r\n",
        "\r\n",
        "print(\"a : {}, b : {}\".format(a, b))"
      ],
      "execution_count": null,
      "outputs": [
        {
          "output_type": "stream",
          "text": [
            "a : 2, b : 1\n"
          ],
          "name": "stdout"
        }
      ]
    },
    {
      "cell_type": "markdown",
      "metadata": {
        "id": "jzeoSvFFRWXk"
      },
      "source": [
        "### 튜플을 이용한 함수의 리턴값\r\n",
        "\r\n",
        "https://programmers.co.kr/learn/courses/2/lessons/289\r\n",
        "\r\n",
        "튜플 리스트 활용\r\n",
        "```\r\n",
        "for a in enumerate(list):\r\n",
        "    print('{}번째 값: {}'.format(a[0], a[1]))\r\n",
        "\r\n",
        "for a in enumerate(list):\r\n",
        "    print('{}번째 값: {}'.format(*a))\r\n",
        "```\r\n",
        "\r\n",
        "튜플 딕셔너리 활용\r\n",
        "```\r\n",
        "for a in dict.items():\r\n",
        "    print('{}의 나이는:{}'.format(a[0], a[1]))\r\n",
        "\r\n",
        "for a in dict.items():\r\n",
        "    print('{}의 나이는:{}'.format(*a))\r\n",
        "```"
      ]
    },
    {
      "cell_type": "code",
      "metadata": {
        "colab": {
          "base_uri": "https://localhost:8080/"
        },
        "id": "41RSg-U1RWlT",
        "outputId": "8ae0d863-00b2-4517-860a-3527b5da9379"
      },
      "source": [
        "list = [1,2,3,4,5]\r\n",
        "for i,v in enumerate(list):\r\n",
        "  print('{}번째 값: {}'.format(i,v))"
      ],
      "execution_count": null,
      "outputs": [
        {
          "output_type": "stream",
          "text": [
            "0번째 값: 1\n",
            "1번째 값: 2\n",
            "2번째 값: 3\n",
            "3번째 값: 4\n",
            "4번째 값: 5\n"
          ],
          "name": "stdout"
        }
      ]
    },
    {
      "cell_type": "code",
      "metadata": {
        "colab": {
          "base_uri": "https://localhost:8080/"
        },
        "id": "FfuXCWHcS0U6",
        "outputId": "b49189f2-5796-40d8-8a6b-91f4fb004bb5"
      },
      "source": [
        "list = [1,2,3,4,5]\r\n",
        "for a in enumerate(list):\r\n",
        "  print('{}번째 값: {}'.format(a[0],a[1]))"
      ],
      "execution_count": null,
      "outputs": [
        {
          "output_type": "stream",
          "text": [
            "0번째 값: 1\n",
            "1번째 값: 2\n",
            "2번째 값: 3\n",
            "3번째 값: 4\n",
            "4번째 값: 5\n"
          ],
          "name": "stdout"
        }
      ]
    },
    {
      "cell_type": "code",
      "metadata": {
        "colab": {
          "base_uri": "https://localhost:8080/"
        },
        "id": "rWmCAKm4S7wg",
        "outputId": "1576d6c5-1861-4994-cf92-9c6187f1c381"
      },
      "source": [
        "list = [1,2,3,4,5]\r\n",
        "for a in enumerate(list):\r\n",
        "  print('{}번째 값: {}'.format(*a))"
      ],
      "execution_count": null,
      "outputs": [
        {
          "output_type": "stream",
          "text": [
            "0번째 값: 1\n",
            "1번째 값: 2\n",
            "2번째 값: 3\n",
            "3번째 값: 4\n",
            "4번째 값: 5\n"
          ],
          "name": "stdout"
        }
      ]
    },
    {
      "cell_type": "code",
      "metadata": {
        "colab": {
          "base_uri": "https://localhost:8080/"
        },
        "id": "8WbVgnHXS_g6",
        "outputId": "0da78bb5-4b71-4b03-fd10-2641895c20ae"
      },
      "source": [
        "ages = {'Tod':35, 'Jane':23, 'Paul':62}\r\n",
        "for key, value in ages.items():\r\n",
        "  print('{}의 나이는 {}살'.format(key, value))"
      ],
      "execution_count": null,
      "outputs": [
        {
          "output_type": "stream",
          "text": [
            "Tod의 나이는 35살\n",
            "Jane의 나이는 23살\n",
            "Paul의 나이는 62살\n"
          ],
          "name": "stdout"
        }
      ]
    },
    {
      "cell_type": "code",
      "metadata": {
        "colab": {
          "base_uri": "https://localhost:8080/"
        },
        "id": "Symq5RQjTSrA",
        "outputId": "afc2e1b3-a833-401c-c1cc-fa9e9fdfaf4b"
      },
      "source": [
        "ages = {'Tod':35, 'Jane':23, 'Paul':62}\r\n",
        "for a in ages.items():\r\n",
        "  print('{}의 나이는 {}살'.format(a[0], a[1]))"
      ],
      "execution_count": null,
      "outputs": [
        {
          "output_type": "stream",
          "text": [
            "Tod의 나이는 35살\n",
            "Jane의 나이는 23살\n",
            "Paul의 나이는 62살\n"
          ],
          "name": "stdout"
        }
      ]
    },
    {
      "cell_type": "code",
      "metadata": {
        "colab": {
          "base_uri": "https://localhost:8080/"
        },
        "id": "k9uBQaW0TV7a",
        "outputId": "99a784d0-29b0-427e-d570-1f908c06cea0"
      },
      "source": [
        "ages = {'Tod':35, 'Jane':23, 'Paul':62}\r\n",
        "for a in ages.items():\r\n",
        "  print('{}의 나이는 {}살'.format(*a))"
      ],
      "execution_count": null,
      "outputs": [
        {
          "output_type": "stream",
          "text": [
            "Tod의 나이는 35살\n",
            "Jane의 나이는 23살\n",
            "Paul의 나이는 62살\n"
          ],
          "name": "stdout"
        }
      ]
    },
    {
      "cell_type": "markdown",
      "metadata": {
        "id": "2Mnz7Ov1RaJ8"
      },
      "source": [
        "### 튜플을 이용한 함수의 리턴값 - 실습\r\n",
        "\r\n",
        "https://programmers.co.kr/learn/courses/2/lessons/311"
      ]
    },
    {
      "cell_type": "code",
      "metadata": {
        "colab": {
          "base_uri": "https://localhost:8080/"
        },
        "id": "-76A1PlwRZns",
        "outputId": "2d2bcf12-13be-4d29-8c8f-3c1e9327e9f1"
      },
      "source": [
        "products = {\"풀\" : 800, \"색종이\": 1000}\r\n",
        "\r\n",
        "for product_detail in products.items():\r\n",
        "  print(\"{}의 가격: {}원\".format(*product_detail))"
      ],
      "execution_count": null,
      "outputs": [
        {
          "output_type": "stream",
          "text": [
            "풀의 가격: 800원\n",
            "색종이의 가격: 1000원\n"
          ],
          "name": "stdout"
        }
      ]
    },
    {
      "cell_type": "markdown",
      "metadata": {
        "id": "pRbRVsPnTmgA"
      },
      "source": [
        "## 파트11. while문과 반복 제어"
      ]
    },
    {
      "cell_type": "markdown",
      "metadata": {
        "id": "6fPPPDhETlxs"
      },
      "source": [
        "### while문 쓰기\r\n",
        "\r\n",
        "https://programmers.co.kr/learn/courses/2/lessons/290\r\n",
        "\r\n",
        "while문\r\n",
        "- 조건이 참인 경우 계속 실행하는 반복문\r\n",
        "\r\n",
        "```\r\n",
        "while selected not in ['가위', '바위', '보']:\r\n",
        "    selected = input('가위, 바위, 보 중에 선택하세요>')\r\n",
        "```\r\n",
        "- **for 반복문으로 작성한 코드는 while 반복문으로 작성 할 수 있다.**"
      ]
    },
    {
      "cell_type": "code",
      "metadata": {
        "colab": {
          "base_uri": "https://localhost:8080/"
        },
        "id": "Q_Az4YlATmDr",
        "outputId": "d8023e3a-878f-4f9a-9e41-99d7ac316e38"
      },
      "source": [
        "selected = None\r\n",
        "while selected not in ['가위','바위','보']:\r\n",
        "  selected = input('가위, 바위, 보 중에 선택하세요:')\r\n",
        "\r\n",
        "print('선택된 값은:',selected)"
      ],
      "execution_count": null,
      "outputs": [
        {
          "output_type": "stream",
          "text": [
            "가위, 바위, 보 중에 선택하세요:가\n",
            "가위, 바위, 보 중에 선택하세요:가\n",
            "가위, 바위, 보 중에 선택하세요:바위\n",
            "선택된 값은: 바위\n"
          ],
          "name": "stdout"
        }
      ]
    },
    {
      "cell_type": "code",
      "metadata": {
        "colab": {
          "base_uri": "https://localhost:8080/"
        },
        "id": "68_Inp6fVAOb",
        "outputId": "a2dd3605-7bee-45d7-a71c-fcb68500c4fb"
      },
      "source": [
        "selected = None\r\n",
        "if selected not in ['가위','바위','보']:\r\n",
        "  selected = input('가위, 바위, 보 중에 선택하세요:')\r\n",
        "\r\n",
        "print('선택된 값은:',selected)"
      ],
      "execution_count": null,
      "outputs": [
        {
          "output_type": "stream",
          "text": [
            "가위, 바위, 보 중에 선택하세요:가\n",
            "선택된 값은: 가\n"
          ],
          "name": "stdout"
        }
      ]
    },
    {
      "cell_type": "code",
      "metadata": {
        "colab": {
          "base_uri": "https://localhost:8080/"
        },
        "id": "4-Rri_StVeyr",
        "outputId": "3b7d638a-1b2c-45a6-9912-b26369c17596"
      },
      "source": [
        "patterns = ['가위','바위','보']\r\n",
        "for pattern in patterns:\r\n",
        "  print(pattern)"
      ],
      "execution_count": null,
      "outputs": [
        {
          "output_type": "stream",
          "text": [
            "가위\n",
            "바위\n",
            "보\n"
          ],
          "name": "stdout"
        }
      ]
    },
    {
      "cell_type": "code",
      "metadata": {
        "colab": {
          "base_uri": "https://localhost:8080/"
        },
        "id": "Nz2dYiinVk2Q",
        "outputId": "b0152459-3f7c-4b63-9db1-e5adb5606a64"
      },
      "source": [
        "for i in range(len(patterns)):\r\n",
        "  print(patterns[i])"
      ],
      "execution_count": null,
      "outputs": [
        {
          "output_type": "stream",
          "text": [
            "가위\n",
            "바위\n",
            "보\n"
          ],
          "name": "stdout"
        }
      ]
    },
    {
      "cell_type": "code",
      "metadata": {
        "colab": {
          "base_uri": "https://localhost:8080/"
        },
        "id": "qFn3SCj2Vwoy",
        "outputId": "f3b9979e-982d-4238-c70d-0f638bdf9d92"
      },
      "source": [
        "length = len(patterns)\r\n",
        "i = 0\r\n",
        "while i < length:\r\n",
        "  print(patterns[i])\r\n",
        "  i += 1"
      ],
      "execution_count": null,
      "outputs": [
        {
          "output_type": "stream",
          "text": [
            "가위\n",
            "바위\n",
            "보\n"
          ],
          "name": "stdout"
        }
      ]
    },
    {
      "cell_type": "markdown",
      "metadata": {
        "id": "RGdNqFWoT0zq"
      },
      "source": [
        "### while문 - 실습\r\n",
        "\r\n",
        "https://programmers.co.kr/learn/courses/2/lessons/312"
      ]
    },
    {
      "cell_type": "code",
      "metadata": {
        "colab": {
          "base_uri": "https://localhost:8080/"
        },
        "id": "Nm8RAJyLT1GM",
        "outputId": "dcf8e7bf-585a-4926-df8a-3991485a826f"
      },
      "source": [
        "numbers = [1,2,3]\r\n",
        "length = len(numbers)\r\n",
        "i = 0\r\n",
        "while i<length:\r\n",
        "  print(numbers[i])\r\n",
        "  i = i + 1"
      ],
      "execution_count": null,
      "outputs": [
        {
          "output_type": "stream",
          "text": [
            "1\n",
            "2\n",
            "3\n"
          ],
          "name": "stdout"
        }
      ]
    },
    {
      "cell_type": "markdown",
      "metadata": {
        "id": "NjU64rhST1YN"
      },
      "source": [
        "### break, continue\r\n",
        "\r\n",
        "break\r\n",
        "- 반복문을 종료시키는 기능\r\n",
        "\r\n",
        "continue\r\n",
        "- 반복문의 나머지 부분을 보지 않고, 반복문의 처음으로 돌아가는 기능\r\n",
        "\r\n",
        "https://programmers.co.kr/learn/courses/2/lessons/291"
      ]
    },
    {
      "cell_type": "code",
      "metadata": {
        "colab": {
          "base_uri": "https://localhost:8080/"
        },
        "id": "0iFFWuaJT1pU",
        "outputId": "78fffacd-e124-4f21-8ffc-226abbcd2a68"
      },
      "source": [
        "for i in range(10):\r\n",
        "  if i%2 == 0: # 깊은 블록 방지해 핵심을 알아보기 싶다.\r\n",
        "    continue\r\n",
        "  print(i)\r\n",
        "  print(i)\r\n",
        "  print(i)\r\n",
        "  print(i)"
      ],
      "execution_count": null,
      "outputs": [
        {
          "output_type": "stream",
          "text": [
            "1\n",
            "1\n",
            "1\n",
            "1\n",
            "3\n",
            "3\n",
            "3\n",
            "3\n",
            "5\n",
            "5\n",
            "5\n",
            "5\n",
            "7\n",
            "7\n",
            "7\n",
            "7\n",
            "9\n",
            "9\n",
            "9\n",
            "9\n"
          ],
          "name": "stdout"
        }
      ]
    },
    {
      "cell_type": "markdown",
      "metadata": {
        "id": "f4Rr_M6MWOj_"
      },
      "source": [
        "### break, continue - 실습(1)\r\n",
        "\r\n",
        "https://programmers.co.kr/learn/courses/2/lessons/313"
      ]
    },
    {
      "cell_type": "code",
      "metadata": {
        "colab": {
          "base_uri": "https://localhost:8080/"
        },
        "id": "nMmunF80WjF3",
        "outputId": "9dfe4160-0e5c-4c24-94b7-a5dc218e30b3"
      },
      "source": [
        "sizes = [33,35,34,37,32,35,39,32,35,29]\r\n",
        "for i,size in enumerate(sizes):\r\n",
        "    if size == 32:\r\n",
        "        print(\"사이즈 32인 바지는 {}번째에 있다.\".format(i+1))\r\n",
        "        # 여기에 코드를 추가하세요\r\n",
        "        break"
      ],
      "execution_count": null,
      "outputs": [
        {
          "output_type": "stream",
          "text": [
            "사이즈 32인 바지는 5번째에 있다.\n"
          ],
          "name": "stdout"
        }
      ]
    },
    {
      "cell_type": "markdown",
      "metadata": {
        "id": "Rtp9E7TVWjaG"
      },
      "source": [
        "### break, continue - 실습(2)\r\n",
        "\r\n",
        "https://programmers.co.kr/learn/courses/2/lessons/864"
      ]
    },
    {
      "cell_type": "code",
      "metadata": {
        "colab": {
          "base_uri": "https://localhost:8080/"
        },
        "id": "sqISBrLpWkEA",
        "outputId": "933e59e9-8ab7-4a50-88dd-3b9dc67bb4c3"
      },
      "source": [
        "numbers = [ (1,2),(10,0) ]\r\n",
        "\r\n",
        "for a,b in numbers:\r\n",
        "    if b == 0:\r\n",
        "        print(\"0으로 나눌 수는 없습니다.\")\r\n",
        "        continue\r\n",
        "    # 이 부분이 else문에 들어있지 않도록 수정해야 합니다.\r\n",
        "    print(\"{}를 {}로 나누면 {}\".format(a,b,a/b))"
      ],
      "execution_count": null,
      "outputs": [
        {
          "output_type": "stream",
          "text": [
            "1를 2로 나누면 0.5\n",
            "0으로 나눌 수는 없습니다.\n"
          ],
          "name": "stdout"
        }
      ]
    },
    {
      "cell_type": "markdown",
      "metadata": {
        "id": "BGccbw8TXkY2"
      },
      "source": [
        "## 파트12. 예외처리\r\n",
        "\r\n"
      ]
    },
    {
      "cell_type": "markdown",
      "metadata": {
        "id": "mD8rG0__Xjqe"
      },
      "source": [
        "### try except\r\n",
        "\r\n",
        "- 예외 처리\r\n",
        "```\r\n",
        "try:\r\n",
        "    # 에러가 발생할 가능성이 있는 코드\r\n",
        "except Exception: # 에러 종류\r\n",
        "    #에러가 발생 했을 경우 처리할 코드\r\n",
        "```\r\n",
        "\r\n",
        "- 경우에 따라 예외 처리 대신 if else를 사용 할 수 있다.\r\n",
        "  - 가독성 좋은 방법을 사용하자\r\n",
        "\r\n",
        "- ImportError는 try except로만 예외 처리할 수 있다.\r\n",
        "\r\n",
        "\r\n",
        "https://programmers.co.kr/learn/courses/2/lessons/292"
      ]
    },
    {
      "cell_type": "code",
      "metadata": {
        "id": "P-LkmMnxXj7G",
        "colab": {
          "base_uri": "https://localhost:8080/",
          "height": 190
        },
        "outputId": "d284945d-01e6-482f-8f4a-e2a0cdcd68c8"
      },
      "source": [
        "list1 = []\r\n",
        "list1[0] # 색인 오류"
      ],
      "execution_count": null,
      "outputs": [
        {
          "output_type": "error",
          "ename": "IndexError",
          "evalue": "ignored",
          "traceback": [
            "\u001b[0;31m---------------------------------------------------------------------------\u001b[0m",
            "\u001b[0;31mIndexError\u001b[0m                                Traceback (most recent call last)",
            "\u001b[0;32m<ipython-input-92-cfdb86e5ffb1>\u001b[0m in \u001b[0;36m<module>\u001b[0;34m()\u001b[0m\n\u001b[1;32m      1\u001b[0m \u001b[0mlist1\u001b[0m \u001b[0;34m=\u001b[0m \u001b[0;34m[\u001b[0m\u001b[0;34m]\u001b[0m\u001b[0;34m\u001b[0m\u001b[0;34m\u001b[0m\u001b[0m\n\u001b[0;32m----> 2\u001b[0;31m \u001b[0mlist1\u001b[0m\u001b[0;34m[\u001b[0m\u001b[0;36m0\u001b[0m\u001b[0;34m]\u001b[0m \u001b[0;31m# 색인 오류\u001b[0m\u001b[0;34m\u001b[0m\u001b[0;34m\u001b[0m\u001b[0m\n\u001b[0m",
            "\u001b[0;31mIndexError\u001b[0m: list index out of range"
          ]
        }
      ]
    },
    {
      "cell_type": "code",
      "metadata": {
        "colab": {
          "base_uri": "https://localhost:8080/",
          "height": 190
        },
        "id": "aAa1-FZkP6vr",
        "outputId": "29f3e0e7-e74d-441e-97d5-e4b8c87bcbc0"
      },
      "source": [
        "text = 'abc'\r\n",
        "number = int(text) # 값 오류"
      ],
      "execution_count": null,
      "outputs": [
        {
          "output_type": "error",
          "ename": "ValueError",
          "evalue": "ignored",
          "traceback": [
            "\u001b[0;31m---------------------------------------------------------------------------\u001b[0m",
            "\u001b[0;31mValueError\u001b[0m                                Traceback (most recent call last)",
            "\u001b[0;32m<ipython-input-2-729ac9667e89>\u001b[0m in \u001b[0;36m<module>\u001b[0;34m()\u001b[0m\n\u001b[1;32m      1\u001b[0m \u001b[0mtext\u001b[0m \u001b[0;34m=\u001b[0m \u001b[0;34m'abc'\u001b[0m\u001b[0;34m\u001b[0m\u001b[0;34m\u001b[0m\u001b[0m\n\u001b[0;32m----> 2\u001b[0;31m \u001b[0mnumber\u001b[0m \u001b[0;34m=\u001b[0m \u001b[0mint\u001b[0m\u001b[0;34m(\u001b[0m\u001b[0mtext\u001b[0m\u001b[0;34m)\u001b[0m \u001b[0;31m# 값 오류\u001b[0m\u001b[0;34m\u001b[0m\u001b[0;34m\u001b[0m\u001b[0m\n\u001b[0m",
            "\u001b[0;31mValueError\u001b[0m: invalid literal for int() with base 10: 'abc'"
          ]
        }
      ]
    },
    {
      "cell_type": "code",
      "metadata": {
        "colab": {
          "base_uri": "https://localhost:8080/"
        },
        "id": "nYIsbu4gP7A5",
        "outputId": "b44d74f4-1aab-474b-f59d-df4660eb9902"
      },
      "source": [
        "text = 'abc'\r\n",
        "try:\r\n",
        "  numver = int(text)\r\n",
        "except ValueError:\r\n",
        "  print('{}는 숫자가 아니다.'.format(text))"
      ],
      "execution_count": null,
      "outputs": [
        {
          "output_type": "stream",
          "text": [
            "abc는 숫자가 아니다.\n"
          ],
          "name": "stdout"
        }
      ]
    },
    {
      "cell_type": "code",
      "metadata": {
        "colab": {
          "base_uri": "https://localhost:8080/"
        },
        "id": "R7fFRdCeP7SL",
        "outputId": "ddf42fe8-9cbc-4a6a-cfb5-07f4fab78e37"
      },
      "source": [
        "def safePopPrint(list, index):\r\n",
        "  try:\r\n",
        "    print(list.pop(index))\r\n",
        "  except IndexError:\r\n",
        "    print('{} index의 값을 가져올 수 없습니다.'.format(index))\r\n",
        "\r\n",
        "safePopPrint([1,2,3],5)"
      ],
      "execution_count": null,
      "outputs": [
        {
          "output_type": "stream",
          "text": [
            "5 index의 값을 가져올 수 없습니다.\n"
          ],
          "name": "stdout"
        }
      ]
    },
    {
      "cell_type": "code",
      "metadata": {
        "colab": {
          "base_uri": "https://localhost:8080/"
        },
        "id": "YLsNdLYpQxnc",
        "outputId": "d80b2058-bde1-40ca-c7f2-bfbcb5ff7e78"
      },
      "source": [
        "def safePopPrint(list, index):\r\n",
        "  if index < len(list):\r\n",
        "    print(list.pop(index))\r\n",
        "  else:\r\n",
        "    print('{} index의 값을 가져올 수 없습니다.'.format(index))\r\n",
        "\r\n",
        "safePopPrint([1,2,3],5)"
      ],
      "execution_count": null,
      "outputs": [
        {
          "output_type": "stream",
          "text": [
            "5 index의 값을 가져올 수 없습니다.\n"
          ],
          "name": "stdout"
        }
      ]
    },
    {
      "cell_type": "code",
      "metadata": {
        "colab": {
          "base_uri": "https://localhost:8080/"
        },
        "id": "SBkysnq3RAXs",
        "outputId": "9aaf5394-e4d9-4521-a185-d48eae881a02"
      },
      "source": [
        "try:\r\n",
        "  import my_module\r\n",
        "except ImportError:\r\n",
        "  print('모듈이 없습니다.')"
      ],
      "execution_count": null,
      "outputs": [
        {
          "output_type": "stream",
          "text": [
            "모듈이 없습니다.\n"
          ],
          "name": "stdout"
        }
      ]
    },
    {
      "cell_type": "markdown",
      "metadata": {
        "id": "flZrv66YRVnc"
      },
      "source": [
        "### try except - 실습\r\n",
        "\r\n",
        "https://programmers.co.kr/learn/courses/2/lessons/314"
      ]
    },
    {
      "cell_type": "code",
      "metadata": {
        "id": "mhMtyakXRV-z"
      },
      "source": [
        "try:\r\n",
        "    a = 3/0\r\n",
        "except Exception:\r\n",
        "    print(\"0으로 나눌 수 없습니다.\")"
      ],
      "execution_count": null,
      "outputs": []
    },
    {
      "cell_type": "markdown",
      "metadata": {
        "id": "sQnZQxXrRWYd"
      },
      "source": [
        "### 예외의 이름을 모를 때\r\n",
        "\r\n",
        "예외 이름을 모르는 경우 처리 방법\r\n",
        "\r\n",
        "```\r\n",
        "try:\r\n",
        "    # 에러가 발생할 가능성이 있는 코드\r\n",
        "except Exception as ex: # 에러 종류\r\n",
        "    print('에러가 발생 했습니다', ex) # ex는 발생한 에러의 이름을 받아오는 변수\r\n",
        "```\r\n",
        "\r\n",
        "https://programmers.co.kr/learn/courses/2/lessons/293"
      ]
    },
    {
      "cell_type": "code",
      "metadata": {
        "colab": {
          "base_uri": "https://localhost:8080/"
        },
        "id": "L382QQQERWu8",
        "outputId": "125fdd07-0612-4b1e-905f-85ef98ea37ad"
      },
      "source": [
        "try:\r\n",
        "  list1 = []\r\n",
        "  print(list1[0]) # 여기서 오류 발생. 다음 단계 전에 오류 발생\r\n",
        "  text = 'abc'\r\n",
        "  number = int(text)\r\n",
        "except Exception as ex: # 오류 종류 판단하기\r\n",
        "  print('에러가 발생 :',ex)"
      ],
      "execution_count": null,
      "outputs": [
        {
          "output_type": "stream",
          "text": [
            "에러가 발생 : list index out of range\n"
          ],
          "name": "stdout"
        }
      ]
    },
    {
      "cell_type": "code",
      "metadata": {
        "colab": {
          "base_uri": "https://localhost:8080/"
        },
        "id": "8dBK_k6GSSwK",
        "outputId": "7c603544-c5e5-4dfb-8b0e-47f8107f5538"
      },
      "source": [
        "try:\r\n",
        "  text = 'abc'\r\n",
        "  number = int(text)\r\n",
        "except Exception as ex: # 오류 종류 판단하기\r\n",
        "  print('에러가 발생 :',ex)"
      ],
      "execution_count": null,
      "outputs": [
        {
          "output_type": "stream",
          "text": [
            "에러가 발생 : invalid literal for int() with base 10: 'abc'\n"
          ],
          "name": "stdout"
        }
      ]
    },
    {
      "cell_type": "markdown",
      "metadata": {
        "id": "tbDcdp7yRsC8"
      },
      "source": [
        "### 예외의 이름을 모를 때- 실습\r\n",
        "\r\n",
        "https://programmers.co.kr/learn/courses/2/lessons/327"
      ]
    },
    {
      "cell_type": "code",
      "metadata": {
        "colab": {
          "base_uri": "https://localhost:8080/"
        },
        "id": "xNrgwiG8Rsg4",
        "outputId": "84dc3da3-6fe2-4a22-ac93-3acc54f5f934"
      },
      "source": [
        "try:\r\n",
        "  a = 5\r\n",
        "  b = 0\r\n",
        "  c = a / b\r\n",
        "except Exception as ex:\r\n",
        "    print('다음과 같은 에러가 발생했습니다: {}'.format(ex))"
      ],
      "execution_count": null,
      "outputs": [
        {
          "output_type": "stream",
          "text": [
            "다음과 같은 에러가 발생했습니다: division by zero\n"
          ],
          "name": "stdout"
        }
      ]
    },
    {
      "cell_type": "markdown",
      "metadata": {
        "id": "d8wRuSINSmRR"
      },
      "source": [
        "### raise\r\n",
        "\r\n",
        "예외 발생\r\n",
        "- 사용자가 직접 에러를 발생시키는 기능 : 실행 흐름 깰 때 유용\r\n",
        "- raise Exception # 에러 종류\r\n",
        "- 많이 사용하면 코드를 읽기 어려워진다.\r\n",
        "\r\n",
        "https://programmers.co.kr/learn/courses/2/lessons/294"
      ]
    },
    {
      "cell_type": "code",
      "metadata": {
        "colab": {
          "base_uri": "https://localhost:8080/"
        },
        "id": "In_hztssSmxX",
        "outputId": "f5ad23fd-5494-4e9d-fc24-682221bb0423"
      },
      "source": [
        "def rsp(mine, yours):\r\n",
        "  # 가위바위보 승패 판단 코드\r\n",
        "  allowed = ['가위','바위','보']\r\n",
        "  if mine not in allowed:\r\n",
        "    raise ValueError\r\n",
        "  if yours not in allowed:\r\n",
        "    raise ValueError\r\n",
        "\r\n",
        "try:\r\n",
        "  rsp('가위','바')\r\n",
        "except ValueError:\r\n",
        "  print('입력값 오류')"
      ],
      "execution_count": null,
      "outputs": [
        {
          "output_type": "stream",
          "text": [
            "입력값 오류\n"
          ],
          "name": "stdout"
        }
      ]
    },
    {
      "cell_type": "code",
      "metadata": {
        "colab": {
          "base_uri": "https://localhost:8080/"
        },
        "id": "y2zqXUVPTbTf",
        "outputId": "570fbb90-7ad7-42e7-e792-cec5bcaf4c82"
      },
      "source": [
        "school = {'1반':[172,185,198,177,165,199], '2반':[165,177,167,180,191]}\r\n",
        "try:\r\n",
        "  for classNumber, students in school.items():\r\n",
        "    for student in students:\r\n",
        "      if student>190:\r\n",
        "        print(classNumber,'반에 190을 넘는 학생이 있습니다.')\r\n",
        "        # break : 최상단 for문은 종료되지 않아 2반은 출력된다\r\n",
        "        raise StopIteration\r\n",
        "except StopIteration:\r\n",
        "  print('정상 종료')"
      ],
      "execution_count": null,
      "outputs": [
        {
          "output_type": "stream",
          "text": [
            "1반 반에 190을 넘는 학생이 있습니다.\n",
            "정상 종료\n"
          ],
          "name": "stdout"
        }
      ]
    },
    {
      "cell_type": "markdown",
      "metadata": {
        "id": "NgLA_iwXS1ql"
      },
      "source": [
        "### raise - 실습(1)\r\n",
        "\r\n",
        "https://programmers.co.kr/learn/courses/2/lessons/332"
      ]
    },
    {
      "cell_type": "code",
      "metadata": {
        "id": "p9ic9y4MS160"
      },
      "source": [
        "shops = {\r\n",
        "    \"송일문방구\": {\"가위\": 500, \"크레파스\": 3000},\r\n",
        "    \"알파문구\": {\"풀\": 800, \"도화지\": 300, \"A4용지\": 8000},\r\n",
        "    \"다이소\": {\"풀\": 500, \"목공본드\": 2000, \"화분\": 3000}\r\n",
        "}\r\n",
        "\r\n",
        "for shop, products in shops.items():\r\n",
        "    for product, price in products.items():\r\n",
        "        if product =='풀':\r\n",
        "            print(\"{}: {}원\".format(shop, price))"
      ],
      "execution_count": null,
      "outputs": []
    },
    {
      "cell_type": "markdown",
      "metadata": {
        "id": "qoukqf-tS2Js"
      },
      "source": [
        "### raise - 실습(2)\r\n",
        "\r\n",
        "https://programmers.co.kr/learn/courses/2/lessons/875"
      ]
    },
    {
      "cell_type": "code",
      "metadata": {
        "id": "neG1tbsSS2a8"
      },
      "source": [
        "shops = {\r\n",
        "    \"송일문방구\": {\"가위\": 500, \"크레파스\": 3000},\r\n",
        "    \"알파문구\": {\"풀\": 800, \"도화지\": 300, \"A4용지\": 8000},\r\n",
        "    \"다이소\": {\"풀\": 500, \"목공본드\": 2000, \"화분\": 3000}\r\n",
        "}\r\n",
        "try:\r\n",
        "    for shop, products in shops.items():\r\n",
        "        for product, price in products.items():\r\n",
        "            if product =='풀':\r\n",
        "                print(\"{}: {}원\".format(shop, price))\r\n",
        "                raise StopIteration\r\n",
        "except StopIteration:\r\n",
        "    print('종료')"
      ],
      "execution_count": null,
      "outputs": []
    },
    {
      "cell_type": "markdown",
      "metadata": {
        "id": "otFOh_42Xp1Y"
      },
      "source": [
        "### 논리연산 더 알아보기\r\n",
        "\r\n",
        "단락평가\r\n",
        "- 논리연산에서 코드의 앞만 보고 값을 정할 수 있는 경우 뒤는 보지 않고 값을 결정\r\n",
        "- 복잡한 코드를 단순하게 하는 방식\r\n",
        "\r\n",
        "https://programmers.co.kr/learn/courses/2/lessons/298"
      ]
    },
    {
      "cell_type": "code",
      "metadata": {
        "id": "OasnjQigXqKp"
      },
      "source": [
        "a = 10\r\n",
        "if a<0 and 2**a > 100 and a%5 == 2 and round(a) == a:\r\n",
        "  print('복잡한 식')"
      ],
      "execution_count": null,
      "outputs": []
    },
    {
      "cell_type": "code",
      "metadata": {
        "colab": {
          "base_uri": "https://localhost:8080/"
        },
        "id": "BIZ8Zg2AX_oL",
        "outputId": "4acd5d39-1dd2-4719-de70-126242657aab"
      },
      "source": [
        "def returnFalse():\r\n",
        "  print('함수 returnFalse')\r\n",
        "  return False\r\n",
        "\r\n",
        "def returnTrue():\r\n",
        "  print('함수 returnTrue')\r\n",
        "  return True\r\n",
        "\r\n",
        "print('테스트1')\r\n",
        "a = returnFalse()\r\n",
        "b = returnTrue()\r\n",
        "if a and b:\r\n",
        "  print(True)\r\n",
        "else:\r\n",
        "  print(False)\r\n",
        "\r\n",
        "print()\r\n",
        "  \r\n",
        "print('테스트2') \r\n",
        "# if의 첫번째 값이 False라서 => 단락평가 하기 때문에 함수 retrunFalse만 실행된다.\r\n",
        "if returnFalse() and returnTrue(): \r\n",
        "  print(True)\r\n",
        "else:\r\n",
        "  print(False)"
      ],
      "execution_count": null,
      "outputs": [
        {
          "output_type": "stream",
          "text": [
            "테스트1\n",
            "함수 returnFalse\n",
            "함수 returnTrue\n",
            "False\n",
            "\n",
            "테스트2\n",
            "함수 returnFalse\n",
            "False\n"
          ],
          "name": "stdout"
        }
      ]
    },
    {
      "cell_type": "code",
      "metadata": {
        "colab": {
          "base_uri": "https://localhost:8080/"
        },
        "id": "Cgcf9Gz1ZWxE",
        "outputId": "afc12e76-77ac-4ba2-9000-8e5bd52fdb9c"
      },
      "source": [
        "dic = {'Key2':'Value1'}\r\n",
        "if 'Key1' in dic and dic['Key1'] == 'Value1':\r\n",
        "  print('Key1도 있고 그 값은 Value1이다')\r\n",
        "else:\r\n",
        "  print('아니네')"
      ],
      "execution_count": null,
      "outputs": [
        {
          "output_type": "stream",
          "text": [
            "아니네\n"
          ],
          "name": "stdout"
        }
      ]
    },
    {
      "cell_type": "code",
      "metadata": {
        "colab": {
          "base_uri": "https://localhost:8080/",
          "height": 244
        },
        "id": "WoUmCRlsY_nB",
        "outputId": "50d6fd0f-2b4f-4774-df02-c29e3c3fdae0"
      },
      "source": [
        "dic = {'Key2':'Value1'}\r\n",
        "if dic['Key1'] == 'Value1' and 'Key1' in dic:\r\n",
        "  print('Key1도 있고 그 값은 Value1이다')\r\n",
        "else:\r\n",
        "  print('아니네')"
      ],
      "execution_count": null,
      "outputs": [
        {
          "output_type": "error",
          "ename": "KeyError",
          "evalue": "ignored",
          "traceback": [
            "\u001b[0;31m---------------------------------------------------------------------------\u001b[0m",
            "\u001b[0;31mKeyError\u001b[0m                                  Traceback (most recent call last)",
            "\u001b[0;32m<ipython-input-26-4c549d3084bb>\u001b[0m in \u001b[0;36m<module>\u001b[0;34m()\u001b[0m\n\u001b[1;32m      1\u001b[0m \u001b[0mdic\u001b[0m \u001b[0;34m=\u001b[0m \u001b[0;34m{\u001b[0m\u001b[0;34m'Key2'\u001b[0m\u001b[0;34m:\u001b[0m\u001b[0;34m'Value1'\u001b[0m\u001b[0;34m}\u001b[0m\u001b[0;34m\u001b[0m\u001b[0;34m\u001b[0m\u001b[0m\n\u001b[0;32m----> 2\u001b[0;31m \u001b[0;32mif\u001b[0m \u001b[0mdic\u001b[0m\u001b[0;34m[\u001b[0m\u001b[0;34m'Key1'\u001b[0m\u001b[0;34m]\u001b[0m \u001b[0;34m==\u001b[0m \u001b[0;34m'Value1'\u001b[0m \u001b[0;32mand\u001b[0m \u001b[0;34m'Key1'\u001b[0m \u001b[0;32min\u001b[0m \u001b[0mdic\u001b[0m \u001b[0;34m:\u001b[0m\u001b[0;34m\u001b[0m\u001b[0;34m\u001b[0m\u001b[0m\n\u001b[0m\u001b[1;32m      3\u001b[0m   \u001b[0mprint\u001b[0m\u001b[0;34m(\u001b[0m\u001b[0;34m'Key1도 있고 그 값은 Value1이다'\u001b[0m\u001b[0;34m)\u001b[0m\u001b[0;34m\u001b[0m\u001b[0;34m\u001b[0m\u001b[0m\n\u001b[1;32m      4\u001b[0m \u001b[0;32melse\u001b[0m\u001b[0;34m:\u001b[0m\u001b[0;34m\u001b[0m\u001b[0;34m\u001b[0m\u001b[0m\n\u001b[1;32m      5\u001b[0m   \u001b[0mprint\u001b[0m\u001b[0;34m(\u001b[0m\u001b[0;34m'아니네'\u001b[0m\u001b[0;34m)\u001b[0m\u001b[0;34m\u001b[0m\u001b[0;34m\u001b[0m\u001b[0m\n",
            "\u001b[0;31mKeyError\u001b[0m: 'Key1'"
          ]
        }
      ]
    },
    {
      "cell_type": "markdown",
      "metadata": {
        "id": "pCdHuPpHZh3r"
      },
      "source": [
        "### bool 값과 논리연산\r\n",
        "true, false\r\n",
        "- 숫자 0을 제외한 모든 수 - true\r\n",
        "- 빈 딕셔너리, 빈 리스트를 제외한 모든 딕셔너리, 리스트 - true\r\n",
        "- 아무 값도 없다는 의미인 None - false\r\n",
        "- 빈문자열을 제외한 모든 문자열 - true\r\n",
        "\r\n",
        "https://programmers.co.kr/learn/courses/2/lessons/299"
      ]
    },
    {
      "cell_type": "markdown",
      "metadata": {
        "id": "EkhOSiQvbjbJ"
      },
      "source": [
        "![1.PNG](data:image/png;base64,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)"
      ]
    },
    {
      "cell_type": "code",
      "metadata": {
        "colab": {
          "base_uri": "https://localhost:8080/"
        },
        "id": "PLXK3v3_ZiJJ",
        "outputId": "c73409cb-a833-4786-dd86-dcc257222cf5"
      },
      "source": [
        "print(bool(0))\r\n",
        "print(bool(1))\r\n",
        "print(bool(-1))\r\n",
        "print(bool(-123456789))"
      ],
      "execution_count": null,
      "outputs": [
        {
          "output_type": "stream",
          "text": [
            "False\n",
            "True\n",
            "True\n",
            "True\n"
          ],
          "name": "stdout"
        }
      ]
    },
    {
      "cell_type": "code",
      "metadata": {
        "colab": {
          "base_uri": "https://localhost:8080/"
        },
        "id": "zHynnb8EZ4AW",
        "outputId": "333d8b4c-ea80-49dd-c399-5e9a21e29a97"
      },
      "source": [
        "print(bool([]))\r\n",
        "print(bool({}))\r\n",
        "print(bool(None))\r\n",
        "print(bool(''))\r\n",
        "print(bool('hi'))"
      ],
      "execution_count": null,
      "outputs": [
        {
          "output_type": "stream",
          "text": [
            "False\n",
            "False\n",
            "False\n",
            "False\n",
            "True\n"
          ],
          "name": "stdout"
        }
      ]
    },
    {
      "cell_type": "code",
      "metadata": {
        "colab": {
          "base_uri": "https://localhost:8080/"
        },
        "id": "ZJ4lo975aDm0",
        "outputId": "5eca3cc0-f0dc-42fb-fe67-3c2446f68dd4"
      },
      "source": [
        "if 'Hi':\r\n",
        "  print('Hello')"
      ],
      "execution_count": null,
      "outputs": [
        {
          "output_type": "stream",
          "text": [
            "Hello\n"
          ],
          "name": "stdout"
        }
      ]
    },
    {
      "cell_type": "code",
      "metadata": {
        "id": "3qslvQ2MaHOp"
      },
      "source": [
        "if '':\r\n",
        "  print('Hello')"
      ],
      "execution_count": null,
      "outputs": []
    },
    {
      "cell_type": "code",
      "metadata": {
        "colab": {
          "base_uri": "https://localhost:8080/"
        },
        "id": "fkwNFywcajTp",
        "outputId": "4b17a835-cabd-40f0-ff8b-19002d97ae7a"
      },
      "source": [
        "value = input('입력해주세요 :') or '아무것도 못 받았어'\r\n",
        "print('입력 받은 값 :',value)"
      ],
      "execution_count": null,
      "outputs": [
        {
          "output_type": "stream",
          "text": [
            "입력해주세요 :\n",
            "입력 받은 값 : 아무것도 못 받았어\n"
          ],
          "name": "stdout"
        }
      ]
    },
    {
      "cell_type": "code",
      "metadata": {
        "colab": {
          "base_uri": "https://localhost:8080/"
        },
        "id": "Wrb1qyNHa77a",
        "outputId": "85747bd6-6324-4e44-fd25-e0507f25ba73"
      },
      "source": [
        "value = input('입력해주세요 :') or '아무것도 못 받았어'\r\n",
        "print('입력 받은 값 :',value)"
      ],
      "execution_count": null,
      "outputs": [
        {
          "output_type": "stream",
          "text": [
            "입력해주세요 :hi\n",
            "입력 받은 값 : hi\n"
          ],
          "name": "stdout"
        }
      ]
    },
    {
      "cell_type": "markdown",
      "metadata": {
        "id": "A1CZAXP0bDT8"
      },
      "source": [
        "### bool값과 논리연산 - 실습(1)\r\n",
        "\r\n",
        "https://programmers.co.kr/learn/courses/2/lessons/333"
      ]
    },
    {
      "cell_type": "code",
      "metadata": {
        "colab": {
          "base_uri": "https://localhost:8080/"
        },
        "id": "meWrwBA-bD9q",
        "outputId": "c8f4ba6d-3301-4ec8-966f-f981794c701b"
      },
      "source": [
        "if []:\r\n",
        "    print(\"[]은 True입니다.\")\r\n",
        "\r\n",
        "if [1, 2, 3]:\r\n",
        "    print(\"[1,2,3]은/는 True입니다.\")\r\n",
        "\r\n",
        "if {}:\r\n",
        "    print(\"{}은 True입니다.\")\r\n",
        "\r\n",
        "if {'abc': 1}:\r\n",
        "    print(\"{'abc':1}은 True입니다.\")\r\n",
        "\r\n",
        "if 0:\r\n",
        "    print(\"0은/는 True입니다.\")\r\n",
        "\r\n",
        "if 1:\r\n",
        "    print(\"1은 True입니다.\")"
      ],
      "execution_count": null,
      "outputs": [
        {
          "output_type": "stream",
          "text": [
            "[1,2,3]은/는 True입니다.\n",
            "{'abc':1}은 True입니다.\n",
            "1은 True입니다.\n"
          ],
          "name": "stdout"
        }
      ]
    },
    {
      "cell_type": "markdown",
      "metadata": {
        "id": "oBqAGztfbEOf"
      },
      "source": [
        "### bool값과 논리연산 - 실습(2)\r\n",
        "\r\n",
        "https://programmers.co.kr/learn/courses/2/lessons/868"
      ]
    },
    {
      "cell_type": "code",
      "metadata": {
        "id": "RsejV_DxbEkK"
      },
      "source": [
        "a = True or 1      #True   앞의 값이 True입니다.\r\n",
        "b = False or 0     #0      앞의 값이 False이므로 뒤의 값을 따릅니다.\r\n",
        "c = 0 or False     #False  앞의 값이 0이므로 False입니다. 따라서 뒤의 값인 False를 따릅니다.\r\n",
        "d = 1 or False     #1      앞의 값이 1이므로 True입니다."
      ],
      "execution_count": null,
      "outputs": []
    },
    {
      "cell_type": "code",
      "metadata": {
        "colab": {
          "base_uri": "https://localhost:8080/"
        },
        "id": "J2-AQbNTbb-J",
        "outputId": "0a6a67b8-c914-4e6b-b260-7736a63fbfa6"
      },
      "source": [
        "a = 1 or 10    # 1의 bool 값은 True입니다.\r\n",
        "b = 0 or 10    # 0의 bool 값은 False입니다.\r\n",
        "\r\n",
        "print(\"a:{}, b:{}\".format(a, b))"
      ],
      "execution_count": null,
      "outputs": [
        {
          "output_type": "stream",
          "text": [
            "a:1, b:10\n"
          ],
          "name": "stdout"
        }
      ]
    },
    {
      "cell_type": "markdown",
      "metadata": {
        "id": "UeRo88VcHhUY"
      },
      "source": [
        "## 파트14. 리스트 더 알아보기"
      ]
    },
    {
      "cell_type": "markdown",
      "metadata": {
        "id": "fOL1-SmrS0d3"
      },
      "source": [
        "### List의 다양한 기능\r\n",
        "List의 기능\r\n",
        "- list.index( value ) : 값을 이용하여 위치를 찾는 기능\r\n",
        "- list.extend( [value1, value2] ) : 리스트 뒤에 값을 추가, **더하기(+)보다 성능이 좋다**\r\n",
        "- list.insert( index, value ) : 원하는 위치에 값을 추가, 인덱스 벗어나는 값을 쓰면 가장 마지막에 값이 삽입된다.\r\n",
        "- list.sort( ) : 값을 순서대로 정렬\r\n",
        "- list.reverse( ) : 값을 역순으로 정렬\r\n",
        "\r\n",
        "https://programmers.co.kr/learn/courses/2/lessons/300"
      ]
    },
    {
      "cell_type": "code",
      "metadata": {
        "colab": {
          "base_uri": "https://localhost:8080/"
        },
        "id": "grVz653bS0wp",
        "outputId": "319cb353-d37a-4d49-b202-4f12817732ca"
      },
      "source": [
        "list1 = [1235,123,5,68,21]\r\n",
        "\r\n",
        "print(list1.index(5))\r\n",
        "if 50 in list1:\r\n",
        "  print(list1.index(50))"
      ],
      "execution_count": null,
      "outputs": [
        {
          "output_type": "stream",
          "text": [
            "2\n"
          ],
          "name": "stdout"
        }
      ]
    },
    {
      "cell_type": "code",
      "metadata": {
        "colab": {
          "base_uri": "https://localhost:8080/"
        },
        "id": "NLL_uMMrcb_a",
        "outputId": "4b964f21-ec16-49e1-9dc1-34c706297900"
      },
      "source": [
        "list2 = [1,2,3]+[4,5,6]\r\n",
        "list2"
      ],
      "execution_count": null,
      "outputs": [
        {
          "output_type": "execute_result",
          "data": {
            "text/plain": [
              "[1, 2, 3, 4, 5, 6]"
            ]
          },
          "metadata": {
            "tags": []
          },
          "execution_count": 72
        }
      ]
    },
    {
      "cell_type": "code",
      "metadata": {
        "colab": {
          "base_uri": "https://localhost:8080/"
        },
        "id": "SBAV2P_KcdQH",
        "outputId": "c8b6c047-67c0-415f-8b43-4d39c4953efa"
      },
      "source": [
        "# extend는 + 보다 실행 속도가 빠르다\r\n",
        "list1.extend([9,10,11])\r\n",
        "list1"
      ],
      "execution_count": null,
      "outputs": [
        {
          "output_type": "execute_result",
          "data": {
            "text/plain": [
              "[1235, 123, 5, 68, 21, 9, 10, 11]"
            ]
          },
          "metadata": {
            "tags": []
          },
          "execution_count": 73
        }
      ]
    },
    {
      "cell_type": "code",
      "metadata": {
        "colab": {
          "base_uri": "https://localhost:8080/"
        },
        "id": "fPsWGrsxcjgv",
        "outputId": "6303dd27-34af-45bb-a531-879bd6e32599"
      },
      "source": [
        "# list1.insert(index, valu)\r\n",
        "list1.insert(2,999)\r\n",
        "list1"
      ],
      "execution_count": null,
      "outputs": [
        {
          "output_type": "execute_result",
          "data": {
            "text/plain": [
              "[1235, 123, 999, 5, 68, 21, 9, 10, 11]"
            ]
          },
          "metadata": {
            "tags": []
          },
          "execution_count": 74
        }
      ]
    },
    {
      "cell_type": "code",
      "metadata": {
        "colab": {
          "base_uri": "https://localhost:8080/"
        },
        "id": "1mbvKqSqc3wc",
        "outputId": "843b4704-a013-4bb4-c2e7-2d139e9ee8c1"
      },
      "source": [
        "# list1.insert(index, valu)\r\n",
        "list1.insert(-1,999)\r\n",
        "list1"
      ],
      "execution_count": null,
      "outputs": [
        {
          "output_type": "execute_result",
          "data": {
            "text/plain": [
              "[1235, 123, 999, 5, 68, 21, 9, 10, 999, 11]"
            ]
          },
          "metadata": {
            "tags": []
          },
          "execution_count": 75
        }
      ]
    },
    {
      "cell_type": "code",
      "metadata": {
        "colab": {
          "base_uri": "https://localhost:8080/",
          "height": 172
        },
        "id": "0ptTs6qdc6sS",
        "outputId": "746e26ea-2dd8-4b92-ad19-525a3af14c0b"
      },
      "source": [
        "list1[10000]"
      ],
      "execution_count": null,
      "outputs": [
        {
          "output_type": "error",
          "ename": "IndexError",
          "evalue": "ignored",
          "traceback": [
            "\u001b[0;31m---------------------------------------------------------------------------\u001b[0m",
            "\u001b[0;31mIndexError\u001b[0m                                Traceback (most recent call last)",
            "\u001b[0;32m<ipython-input-76-e8abe129c055>\u001b[0m in \u001b[0;36m<module>\u001b[0;34m()\u001b[0m\n\u001b[0;32m----> 1\u001b[0;31m \u001b[0mlist1\u001b[0m\u001b[0;34m[\u001b[0m\u001b[0;36m10000\u001b[0m\u001b[0;34m]\u001b[0m\u001b[0;34m\u001b[0m\u001b[0;34m\u001b[0m\u001b[0m\n\u001b[0m",
            "\u001b[0;31mIndexError\u001b[0m: list index out of range"
          ]
        }
      ]
    },
    {
      "cell_type": "code",
      "metadata": {
        "id": "9wkQ5c2Kc824"
      },
      "source": [
        "list1.insert(100000,55555)\r\n",
        "list1"
      ],
      "execution_count": null,
      "outputs": []
    },
    {
      "cell_type": "code",
      "metadata": {
        "colab": {
          "base_uri": "https://localhost:8080/"
        },
        "id": "Ed9bjDlddFnM",
        "outputId": "57d6cb35-127b-4eb3-8a57-b238479f8d33"
      },
      "source": [
        "list1.sort()\r\n",
        "list1"
      ],
      "execution_count": null,
      "outputs": [
        {
          "output_type": "execute_result",
          "data": {
            "text/plain": [
              "[5, 9, 10, 11, 21, 68, 123, 999, 999, 1235]"
            ]
          },
          "metadata": {
            "tags": []
          },
          "execution_count": 77
        }
      ]
    },
    {
      "cell_type": "code",
      "metadata": {
        "colab": {
          "base_uri": "https://localhost:8080/"
        },
        "id": "4RC7bSZDdPxz",
        "outputId": "2b6b9876-f581-4139-cd60-190e9cf39fab"
      },
      "source": [
        "list1.reverse()\r\n",
        "list1"
      ],
      "execution_count": null,
      "outputs": [
        {
          "output_type": "execute_result",
          "data": {
            "text/plain": [
              "[1235, 999, 999, 123, 68, 21, 11, 10, 9, 5]"
            ]
          },
          "metadata": {
            "tags": []
          },
          "execution_count": 78
        }
      ]
    },
    {
      "cell_type": "markdown",
      "metadata": {
        "id": "8khO4owXS1Ev"
      },
      "source": [
        "### List의 다양한 기능 - 실습(1)\r\n",
        "\r\n",
        "https://programmers.co.kr/learn/courses/2/lessons/336"
      ]
    },
    {
      "cell_type": "code",
      "metadata": {
        "id": "G_zaASLuS1Yl"
      },
      "source": [
        "def safe_index(my_list, value):\r\n",
        "   # 함수를 완성하세요\r\n",
        "  if value in my_list:\r\n",
        "    return my_list.index(value)\r\n",
        "  \r\n",
        "  else:\r\n",
        "    return None"
      ],
      "execution_count": null,
      "outputs": []
    },
    {
      "cell_type": "markdown",
      "metadata": {
        "id": "W8bFOpitd0Tk"
      },
      "source": [
        "### List의 다양한 기능 - 실습(2)\r\n",
        "\r\n",
        "https://programmers.co.kr/learn/courses/2/lessons/857"
      ]
    },
    {
      "cell_type": "code",
      "metadata": {
        "id": "tCQmyaWId0n9"
      },
      "source": [
        "list1 = [1, 2, 3, 4]\r\n",
        "\r\n",
        "# 아래줄에서 list1의 1번째 자리에 8을 넣고 원래 있던 값은 오른쪽으로 밀어 보세요.\r\n",
        "list1.insert(1,8)\r\n",
        "print(\"첫 번째 자리에 8을 넣은 결과 : {}\".format(list1))\r\n",
        "\r\n",
        "\r\n",
        "# 아래줄에서 list1을 작은 수부터 큰 수로 정렬해 보세요\r\n",
        "list1.sort()\r\n",
        "print(\"list1을 작은 수부터 큰 수로 정렬한 결과 : {}\".format(list1))\r\n",
        "\r\n",
        "\r\n",
        "# 아래줄에서 list1을 거꾸로 만들어 보세요\r\n",
        "list1.reverse()\r\n",
        "print(\"list1을 거꾸로 정렬한 결과 : {}\".format(list1))"
      ],
      "execution_count": null,
      "outputs": []
    },
    {
      "cell_type": "markdown",
      "metadata": {
        "id": "YGKlfk50eYEa"
      },
      "source": [
        "### List와 문자열\r\n",
        "List와 String\r\n",
        "- 리스트와 문자열은 유사하다.\r\n",
        "- 서로 변환이 가능하다.\r\n",
        "- list = str.split( ) : 문자열에서 리스트로\r\n",
        "- \" \".join( list ) : 리스트에서 문자열으로\r\n",
        "\r\n",
        "https://programmers.co.kr/learn/courses/2/lessons/301"
      ]
    },
    {
      "cell_type": "code",
      "metadata": {
        "colab": {
          "base_uri": "https://localhost:8080/"
        },
        "id": "GfK001IteYXU",
        "outputId": "7b10925a-a2fd-4a0e-b74b-56dbb335bd59"
      },
      "source": [
        "myList = [1,2,3,4,5,6]\r\n",
        "print(myList[0])\r\n",
        "print(3 in myList)\r\n",
        "print(9 in myList)\r\n",
        "print(myList.index(5))"
      ],
      "execution_count": null,
      "outputs": [
        {
          "output_type": "stream",
          "text": [
            "1\n",
            "True\n",
            "False\n",
            "4\n"
          ],
          "name": "stdout"
        }
      ]
    },
    {
      "cell_type": "code",
      "metadata": {
        "colab": {
          "base_uri": "https://localhost:8080/"
        },
        "id": "vSEy4vrWenVX",
        "outputId": "18d764a5-f6d2-4a6a-85e6-b35db7b00915"
      },
      "source": [
        "str1 = 'Hello World'\r\n",
        "print(str1[0])\r\n",
        "print('H' in str1)\r\n",
        "print('z' in str1)\r\n",
        "print(str1.index('r'))"
      ],
      "execution_count": null,
      "outputs": [
        {
          "output_type": "stream",
          "text": [
            "H\n",
            "True\n",
            "False\n",
            "8\n"
          ],
          "name": "stdout"
        }
      ]
    },
    {
      "cell_type": "code",
      "metadata": {
        "colab": {
          "base_uri": "https://localhost:8080/"
        },
        "id": "EMtCavFYfDwn",
        "outputId": "b2ef5791-3c57-47ef-c380-791554baf1b4"
      },
      "source": [
        "# characters = list('abcdef') 코랩에서 실행 안됨\r\n",
        "# print(characters)\r\n",
        "words = 'Hello world'\r\n",
        "wordList = words.split()\r\n",
        "print(wordList)\r\n",
        "\r\n",
        "timeStr = '10:35:27'\r\n",
        "timeList = timeStr.split(':')\r\n",
        "print(timeList)\r\n",
        "\r\n",
        "print('-'.join(timeList))\r\n",
        "print('  '.join(wordList))"
      ],
      "execution_count": null,
      "outputs": [
        {
          "output_type": "stream",
          "text": [
            "['Hello', 'world']\n",
            "['10', '35', '27']\n",
            "10-35-27\n",
            "Hello  world\n"
          ],
          "name": "stdout"
        }
      ]
    },
    {
      "cell_type": "markdown",
      "metadata": {
        "id": "nu2xfPmUeYrD"
      },
      "source": [
        "### List와 문자열 - 실습\r\n",
        "\r\n",
        "https://programmers.co.kr/learn/courses/2/lessons/337"
      ]
    },
    {
      "cell_type": "code",
      "metadata": {
        "colab": {
          "base_uri": "https://localhost:8080/"
        },
        "id": "9ZuCWa9jeY6j",
        "outputId": "076b2142-b281-469e-d82c-246796600626"
      },
      "source": [
        "strList = \"오늘은 날씨가 흐림\"\r\n",
        "\r\n",
        "# split()을 이용해서 str을 공백으로 나눈 문자열을 words에 저장하세요\r\n",
        "words = strList.split()\r\n",
        "\r\n",
        "# index()를 이용해서 \"흐림\"이 words의 몇번째에 있는지 찾고, \r\n",
        "# position에 저장하세요.\r\n",
        "position = words.index('흐림')\r\n",
        "words[position] = \"맑음\"\r\n",
        "\r\n",
        "# join()을 이용해서 words를 다시 문자열로 바꿔 new_str에 저장하세요. \r\n",
        "# words를 문자열로 바꿀때는 공백 한 칸을 기준으로 붙이면 됩니다.\r\n",
        "new_str = ' '.join(words)\r\n",
        "\r\n",
        "print(new_str)"
      ],
      "execution_count": null,
      "outputs": [
        {
          "output_type": "stream",
          "text": [
            "오늘은 날씨가 맑음\n"
          ],
          "name": "stdout"
        }
      ]
    },
    {
      "cell_type": "markdown",
      "metadata": {
        "id": "8bVo6_iweZJb"
      },
      "source": [
        "### Slice\r\n",
        "slicing\r\n",
        "- 리스트나 문자열에서 값을 여러개 가져오는 기능\r\n",
        "\r\n",
        "```\r\n",
        "text = \"hello world\"\r\n",
        "text = text[ 1:5 ]\r\n",
        "\r\n",
        "list = [ 0, 1, 2, 3, 4, 5 ]\r\n",
        "list = list[ 1:3 ]\r\n",
        "```\r\n",
        "\r\n",
        "- slice를 하면 해당하는 부분의 리스트나 문자열을 새로 만들어 준다.\r\n",
        "\r\n",
        "- 시작과 끝부분을 얻어 오는 방법\r\n",
        "\r\n",
        "  - list[ 2: ] : 2번째부터 끝까지 반환\r\n",
        "  - list[ : 2 ] : 처음부터 2번째 까지 반환\r\n",
        "  - list[ : ] : 처음부터 끝까지 전부 반환\r\n",
        "\r\n",
        "https://programmers.co.kr/learn/courses/2/lessons/302"
      ]
    },
    {
      "cell_type": "code",
      "metadata": {
        "colab": {
          "base_uri": "https://localhost:8080/",
          "height": 35
        },
        "id": "nZW1IH1aeZil",
        "outputId": "8a8576c6-1f13-4345-8d6a-8c829f06d649"
      },
      "source": [
        "txt = 'hello world'\r\n",
        "txt[1]"
      ],
      "execution_count": null,
      "outputs": [
        {
          "output_type": "execute_result",
          "data": {
            "application/vnd.google.colaboratory.intrinsic+json": {
              "type": "string"
            },
            "text/plain": [
              "'e'"
            ]
          },
          "metadata": {
            "tags": []
          },
          "execution_count": 103
        }
      ]
    },
    {
      "cell_type": "code",
      "metadata": {
        "colab": {
          "base_uri": "https://localhost:8080/",
          "height": 35
        },
        "id": "X6PPy3qGhjFc",
        "outputId": "d8d57440-d856-4845-8f49-fb3e5e5d924f"
      },
      "source": [
        "txt[1:5]"
      ],
      "execution_count": null,
      "outputs": [
        {
          "output_type": "execute_result",
          "data": {
            "application/vnd.google.colaboratory.intrinsic+json": {
              "type": "string"
            },
            "text/plain": [
              "'ello'"
            ]
          },
          "metadata": {
            "tags": []
          },
          "execution_count": 104
        }
      ]
    },
    {
      "cell_type": "code",
      "metadata": {
        "colab": {
          "base_uri": "https://localhost:8080/"
        },
        "id": "G3igefHChpVu",
        "outputId": "51109a26-1409-483b-f05e-e4c2ef2136a6"
      },
      "source": [
        "listSlice = ['영','일','이','삼','사','오']\r\n",
        "listSlice[1:3]"
      ],
      "execution_count": null,
      "outputs": [
        {
          "output_type": "execute_result",
          "data": {
            "text/plain": [
              "['일', '이']"
            ]
          },
          "metadata": {
            "tags": []
          },
          "execution_count": 105
        }
      ]
    },
    {
      "cell_type": "code",
      "metadata": {
        "colab": {
          "base_uri": "https://localhost:8080/"
        },
        "id": "7yrVs4psh65x",
        "outputId": "82ee496d-5acd-4ee2-86a4-464b24267649"
      },
      "source": [
        "listSlice[2:] == listSlice[2:len(listSlice)]"
      ],
      "execution_count": null,
      "outputs": [
        {
          "output_type": "execute_result",
          "data": {
            "text/plain": [
              "True"
            ]
          },
          "metadata": {
            "tags": []
          },
          "execution_count": 107
        }
      ]
    },
    {
      "cell_type": "code",
      "metadata": {
        "colab": {
          "base_uri": "https://localhost:8080/"
        },
        "id": "tf_k9onch8FM",
        "outputId": "dc533541-5f6c-4e83-f227-f11e9937da46"
      },
      "source": [
        "# 똑같은 값을 가지는 새로운 리스트를 만든다.\r\n",
        "listSlice2=listSlice[:]\r\n",
        "listSlice2"
      ],
      "execution_count": null,
      "outputs": [
        {
          "output_type": "execute_result",
          "data": {
            "text/plain": [
              "['영', '일', '이', '삼', '사', '오']"
            ]
          },
          "metadata": {
            "tags": []
          },
          "execution_count": 109
        }
      ]
    },
    {
      "cell_type": "markdown",
      "metadata": {
        "id": "kz73xxnwhGrI"
      },
      "source": [
        "### Slice - 실습(1)\r\n",
        "\r\n",
        "https://programmers.co.kr/learn/courses/2/lessons/338"
      ]
    },
    {
      "cell_type": "code",
      "metadata": {
        "colab": {
          "base_uri": "https://localhost:8080/"
        },
        "id": "3lqLVL-whHHy",
        "outputId": "ca708b68-5922-4690-c6c1-8440f06cc188"
      },
      "source": [
        "rainbow = [\"빨\", \"주\", \"노\", \"초\", \"파\", \"남\", \"보\"]\r\n",
        "\r\n",
        "# red_colors가 [\"빨\", \"주\", \"노\"]의 값을 가지도록 rainbow를 slice하세요.\r\n",
        "red_colors = rainbow[ :3]\r\n",
        "\r\n",
        "#blue_colors가 [\"파\", \"남\", \"보\"]의 값을 가지도록 rainbow를 slice하세요.\r\n",
        "blue_colors = rainbow[4:]\r\n",
        "\r\n",
        "print(\"red_colors의 값 : {}\".format(red_colors))\r\n",
        "print(\"blue_colors의 값 : {}\".format(blue_colors))"
      ],
      "execution_count": null,
      "outputs": [
        {
          "output_type": "stream",
          "text": [
            "red_colors의 값 : ['빨', '주', '노']\n",
            "blue_colors의 값 : ['파', '남', '보']\n"
          ],
          "name": "stdout"
        }
      ]
    },
    {
      "cell_type": "markdown",
      "metadata": {
        "id": "SL2DZaLRhHUz"
      },
      "source": [
        "### Slice - 실습(2)\r\n",
        "\r\n",
        "https://programmers.co.kr/learn/courses/2/lessons/874"
      ]
    },
    {
      "cell_type": "code",
      "metadata": {
        "colab": {
          "base_uri": "https://localhost:8080/"
        },
        "id": "DjZW-7y9hIA4",
        "outputId": "79aeac72-1aa5-4dc6-d3bf-5bbcc042da59"
      },
      "source": [
        "def substring(text, start, end):\r\n",
        "    return text[start:end]\r\n",
        "\r\n",
        "my_text = \"Hello world\"\r\n",
        "between_2_5 = substring(my_text, 2, 5)\r\n",
        "print(between_2_5)"
      ],
      "execution_count": null,
      "outputs": [
        {
          "output_type": "stream",
          "text": [
            "llo\n"
          ],
          "name": "stdout"
        }
      ]
    },
    {
      "cell_type": "markdown",
      "metadata": {
        "id": "ITJEVAF1k_hg"
      },
      "source": [
        "### Slice로 리스트 수정하기\r\n",
        "\r\n",
        "slice 활용\r\n",
        "\r\n",
        "삭제\r\n",
        "- del list[ :5 ] : 처음부터 5번째까지 삭제\r\n",
        "\r\n",
        "수정\r\n",
        "- list[ 1:3 ] = [ 77, 88 ]\r\n",
        "- list[ 1:3 ] = [ 77, 88 ,99 ] : 더 많은 개수로 변환\r\n",
        "- list[ 1:4 ] = [ 8 ] : 더 적은 개수로 변환\r\n",
        "\r\n",
        "https://programmers.co.kr/learn/courses/2/lessons/304"
      ]
    },
    {
      "cell_type": "markdown",
      "metadata": {
        "id": "xZ_eMM0bmqU0"
      },
      "source": [
        "### Slice의 step\r\n",
        "\r\n",
        "https://programmers.co.kr/learn/courses/2/lessons/303"
      ]
    },
    {
      "cell_type": "markdown",
      "metadata": {
        "id": "AWwCFo17mSYQ"
      },
      "source": [
        "### Slice의 step - 실습\r\n",
        "\r\n",
        "https://programmers.co.kr/learn/courses/2/lessons/303"
      ]
    },
    {
      "cell_type": "code",
      "metadata": {
        "id": "Kvq8kmO0mSqx"
      },
      "source": [
        "list1 = list(range(20))\r\n",
        "\r\n",
        "# new_list가 5, 8, 11, 14의 값을 가지도록 list1을 slice하세요\r\n",
        "new_list = list1[5:15:3]\r\n",
        "\r\n",
        "print(new_list)\r\n",
        "\r\n",
        "# reverse_list가 17, 13, 9, 5의 값을 가지도록 list1을 slice하세요\r\n",
        "reverse_list = list1[17:4:-4]\r\n",
        "\r\n",
        "print(reverse_list)"
      ],
      "execution_count": null,
      "outputs": []
    },
    {
      "cell_type": "markdown",
      "metadata": {
        "id": "TI4puRMglBWw"
      },
      "source": [
        "### Slice로 리스트 수정하기 - 실습\r\n",
        "\r\n",
        "https://programmers.co.kr/learn/courses/2/lessons/342\r\n",
        "\r\n",
        "```\r\n",
        "list1 = list(range(10))      # [0, 1, 2, 3, 4, 5, 6, 7, 8, 9]\r\n",
        "\r\n",
        "del list[:5]                 # 처음부터 5번째까지 삭제          [6, 7, 8, 9]\r\n",
        "\r\n",
        "list[1:3] = [77, 88]         # 1번째부터 3번째까지의 값을 수정   [6, 77, 88, 9]\r\n",
        "list[1:3] = [77, 88, 99]     # 더 많은 개수로 변환              [6, 77, 88, 99, 9]\r\n",
        "list[1:4] = [8]              # 더 적은 개수로 변환              [6, 8, 9]\r\n",
        "```"
      ]
    },
    {
      "cell_type": "code",
      "metadata": {
        "id": "F9AdIpJxk-Tr"
      },
      "source": [
        "list1 = [0, 1, 2, 3, 4, 5]\r\n",
        "# list1의 1부터 3까지를 slice를 이용해서 각각 11, 22, 33으로 바꿔보세요.\r\n",
        "# 바꾸고 나면 list1은 [0, 11, 22, 33, 4, 5]가 되어야 합니다.\r\n",
        "list1[1:4] = [11,22,33]\r\n",
        "\r\n",
        "\r\n",
        "list2 = [0, 1, 2, 3, 4, 5]\r\n",
        "# list2의 1부터 3까지를 del과 slice를 이용해서 지워보세요\r\n",
        "# 바꾸고 나면 list2은 [0, 4, 5]가 되어야 합니다.\r\n",
        "del list2[1:4]\r\n",
        "\r\n",
        "\r\n",
        "print(\"list1 : {}, list2 : {}\".format(list1, list2))"
      ],
      "execution_count": null,
      "outputs": []
    },
    {
      "cell_type": "markdown",
      "metadata": {
        "id": "ld4xWq8at82J"
      },
      "source": [
        "## 파트15. 클래스와 객체지향 프로그래밍"
      ]
    },
    {
      "cell_type": "markdown",
      "metadata": {
        "id": "zPQ0npKcuRS2"
      },
      "source": [
        "### 자료형 다루기\r\n",
        "자료형\r\n",
        "- type( a ) # type( 변수명 ) : 자료형\r\n",
        "- isinstance( 42, int ) # isinstance( 값, 자료형 ) : 자료형 검사\r\n",
        "\r\n",
        "https://programmers.co.kr/learn/courses/2/lessons/321"
      ]
    },
    {
      "cell_type": "code",
      "metadata": {
        "colab": {
          "base_uri": "https://localhost:8080/"
        },
        "id": "ZYhscrJjt9Lh",
        "outputId": "09230a72-19b2-461a-cc38-7e73b0272b23"
      },
      "source": [
        "s = 'Hello'\r\n",
        "type(s)"
      ],
      "execution_count": null,
      "outputs": [
        {
          "output_type": "execute_result",
          "data": {
            "text/plain": [
              "str"
            ]
          },
          "metadata": {
            "tags": []
          },
          "execution_count": 1
        }
      ]
    },
    {
      "cell_type": "code",
      "metadata": {
        "colab": {
          "base_uri": "https://localhost:8080/"
        },
        "id": "yp1NEoluubYC",
        "outputId": "ed263a07-6757-46b8-febb-c53f182c056b"
      },
      "source": [
        "f = 3.0\r\n",
        "type(f)"
      ],
      "execution_count": null,
      "outputs": [
        {
          "output_type": "execute_result",
          "data": {
            "text/plain": [
              "float"
            ]
          },
          "metadata": {
            "tags": []
          },
          "execution_count": 4
        }
      ]
    },
    {
      "cell_type": "code",
      "metadata": {
        "colab": {
          "base_uri": "https://localhost:8080/"
        },
        "id": "hsCV6K50ud4P",
        "outputId": "5154ac46-778c-4d96-b16b-ca7855cb7828"
      },
      "source": [
        "i = 52\r\n",
        "type(i)"
      ],
      "execution_count": null,
      "outputs": [
        {
          "output_type": "execute_result",
          "data": {
            "text/plain": [
              "int"
            ]
          },
          "metadata": {
            "tags": []
          },
          "execution_count": 3
        }
      ]
    },
    {
      "cell_type": "code",
      "metadata": {
        "colab": {
          "base_uri": "https://localhost:8080/"
        },
        "id": "A3VhRd2cuiv4",
        "outputId": "d93d5d32-bd22-43a5-b339-06e767dcc92f"
      },
      "source": [
        "42 == 42.0"
      ],
      "execution_count": null,
      "outputs": [
        {
          "output_type": "execute_result",
          "data": {
            "text/plain": [
              "True"
            ]
          },
          "metadata": {
            "tags": []
          },
          "execution_count": 5
        }
      ]
    },
    {
      "cell_type": "code",
      "metadata": {
        "colab": {
          "base_uri": "https://localhost:8080/"
        },
        "id": "hb231H9RukuY",
        "outputId": "ed722abd-6deb-4960-f7a8-fcfb92ebb633"
      },
      "source": [
        "isinstance(42,int)"
      ],
      "execution_count": null,
      "outputs": [
        {
          "output_type": "execute_result",
          "data": {
            "text/plain": [
              "True"
            ]
          },
          "metadata": {
            "tags": []
          },
          "execution_count": 6
        }
      ]
    },
    {
      "cell_type": "code",
      "metadata": {
        "colab": {
          "base_uri": "https://localhost:8080/"
        },
        "id": "BMrWsiEKum7A",
        "outputId": "301e016d-a61e-4aec-f109-4953702e0944"
      },
      "source": [
        "isinstance(42,float)"
      ],
      "execution_count": null,
      "outputs": [
        {
          "output_type": "execute_result",
          "data": {
            "text/plain": [
              "False"
            ]
          },
          "metadata": {
            "tags": []
          },
          "execution_count": 7
        }
      ]
    },
    {
      "cell_type": "markdown",
      "metadata": {
        "id": "duBK5t-xu4VA"
      },
      "source": [
        "### 자료형 다루기 - 실습\r\n",
        "\r\n",
        "https://programmers.co.kr/learn/courses/2/lessons/343"
      ]
    },
    {
      "cell_type": "code",
      "metadata": {
        "colab": {
          "base_uri": "https://localhost:8080/"
        },
        "id": "uDtnOXhcu-yp",
        "outputId": "f2d4829f-56b4-4055-bab3-36d2efbcc764"
      },
      "source": [
        "my_list = [1, 2, 3]\r\n",
        "my_dict = {\"풀\": 800, \"색연필\": 3000}\r\n",
        "my_tuple = (1, 2, 3)\r\n",
        "number = 10\r\n",
        "real_number = 3.141592\r\n",
        "\r\n",
        "print(type(my_list))\r\n",
        "print(type(my_dict))\r\n",
        "print(type(my_tuple))\r\n",
        "print(type(number))\r\n",
        "print(type(real_number))"
      ],
      "execution_count": null,
      "outputs": [
        {
          "output_type": "stream",
          "text": [
            "<class 'list'>\n",
            "<class 'dict'>\n",
            "<class 'tuple'>\n",
            "<class 'int'>\n",
            "<class 'float'>\n"
          ],
          "name": "stdout"
        }
      ]
    },
    {
      "cell_type": "markdown",
      "metadata": {
        "id": "uyitvQhwuxDV"
      },
      "source": [
        "### 인스턴스 이해\r\n",
        "클래스\r\n",
        "- 함수나 변수들을 모아 놓은 집합체\r\n",
        "\r\n",
        "인스턴스\r\n",
        "- 클래스에 의해 생성된 객체\r\n",
        "- 인스턴스 각자 자신의 값을 가지고 있다."
      ]
    },
    {
      "cell_type": "markdown",
      "metadata": {
        "id": "BG9uL5Vqv5iA"
      },
      "source": [
        "![1.PNG](data:image/png;base64,iVBORw0KGgoAAAANSUhEUgAAAhsAAAEVCAYAAABJxSdQAAAAAXNSR0IArs4c6QAAAARnQU1BAACxjwv8YQUAAAAJcEhZcwAADsMAAA7DAcdvqGQAAHBHSURBVHhe7Z2HWxRJ1/b3v3u/Nzxpd02IZDDnhORgzoGcQTEr5gCScw6KOayuYYM5I+r93ad6GsahcdddRmE4cP2u6emurq7u6XPOXaGrv/v48SMURVEURVG8hYoNRVEURVG8iooNRVEURVG8iooNRVEURVG8iooNRVEURVG8iooNRVEURVG8iooNRVEURVG8iooNRVEURVG8iooNRVEURVG8iooNRVEURVG8iooNRVEURVG8iooNRVEURVG8iooNRVEURVG8iooNRVEURVG8iooNRVEURVG8iooNRVEURVG8iooNRVEURVG8iooNRVEURVG8iooNRVEURVG8iooNRVEURVG8iooNRVEURVG8iooNRVEURVG8iooNRVEURVG8iooNRVEURVG8iooNRVEURVG8iooNRVEURVG8iooNRVEURVG8iooNRVEURVG8iooNRfEyHz58MLh/d9/uiZ3ec7+vhefx/yz2vu55eC67Y6/35HP7ePJn0iiK8u1RsaEoXkSC4fv37w3u69zTeK6Xz28VRN3La5fjj7DPzX1Z8Fxvp7e329/dt8vnixcv8PjxY/T393+S3gn34/1RWkVRvh0qNhTFy3j+OaWxkb/Xr1+jq6sLT548Md+d0nkLCfAXL15Ec3MzWltb/5CmpiaT9s2bNwPB3r3Msk7yfPfu3SfIeuG3337D4cOHUVVVZYTDr7/+ihkzZiAiIgJv374dyOePsP+ctimK8u1RsaEoXkaCqATUvXv34vLlywPr7IBrp7MDc2xsLH788UcsXboUDx8+HNj+Z/DMz/MYf4QIgZUrV2LixImYOnUqpkyZYvDz8xv4tJk8eTImTJhgynr//n2zv30s+fz9999x9+5d/Pzzz4Y7d+4M8OjRI5PmwoUL5ljR0dHm3H/55RcEBgYiODj4T4kNuY7SCjJ37lwEBASY40g+TmkVRfl2qNhQFC8iAbWvr88E6n/9618oKSkx3yUgyjY7ONvI+oULF+I///mPqeHfu3fPVWe3/tzTOv3Z+T179gzp6ek4ePCgERDuf+55eCLHv3XrluHGjRu4efMmrl27huvXr5tP+S7LQk9PD2bNmmVEiQR52d/9fDZu3GjEiIgSQUTFDz/8YEhNTTVCQfKQbTExMaac0rIRFBSE0NBQc53svIbDFhv+/v74v//7P1PmL2kRURTl66BiQ1G8jARECYYiII4cOWK+O4kNe1kC5rFjx3D+/Hnz3f3PTuu53v6z14swEHEzb968IWJjuD/Z99WrV0bgSIuEfIq4uHTpkulaEaQlQpCySfeJCCIREZJeyi/nJkhe+/btMyJCkJYLabGRFggRF5mZmSad5DNp0qS/LDbkmCKMRMz985//RG9vr8nHKa2iKN8OFRuK4mUkqErt//vvvzdi43MtGzZ2wJR0thAQ7PT2py1c7HV2vo2NjUYELFu27BOxYefn/mfnLYiwCAkJMSIiLCzMBHHpJvn3v/9tgrkgyyKcRMzIMUQciEiwj2/nJWNPXr58OYB8l5YWERfS6iJlF3HgLjbsbpTPiQ33ayBkZGSYckg59+/fb9bZgkdRlNGBig1F8TISgEVs2C0bElRlnSBB0Q6adnppJWhpaTEtCO61dPmTLgLpspAWAemCkPEPEsTt4CpPckirxtatW00AlpaEhoYG0wrR3d09IDbs/OTPzl+OJQM2t23bhrS0NOzZsweHDh1CaWkpampqUFdXh87OTnNcKZt8l26S2bNnm8GsIg7cz0U+7XOV8snfgQMHTLkkf0+xIfuLaPkzYsOmvb3dXFtJL61Hcr52l46iKKMHFRuK4mU+JzbsQGwHT0kvtX9pUVixYoV5ysM9r5ycHMycOdPU4iVoS5Bdv369aZGQ7dLVIQMlJYDLdumykDESkl6e8Hj69KkJ+pLW/rPzto8v5bHLZP/Zaew/WRZRI3kvWbLEtFzY+9vnIucm5yqiQZA8pWvFXWyIaJGyxsXFmX1k4KgMDv0zYkOEUWRk5MBYmLy8PHON5bqJaLHTeu6vKMrXR8WGoniZPxIbdvC0A6N0BYhIkEBqP1Iq6bKzs01LgogNWc7Pz0dycrIJ+BJsZV8ZZ1FUVGQGbkpQly4O6bKQtBLopRXEPo77n4gFGSci5Tt69OgAsk44fvz4kGURDCIU5FinT5826e2xG4IMEBXhI+JByiHLgpRLuj4kjYgNEVYLFizAyZMnzRM7cq0kvafYsPOV9dLCItdBrtOqVatMi46kkWVZJ91HMohVrrXgno+iKF8fFRuK4mX+rNiw09tiY/ny5UYcSBp5tFTGfEhXgczBIa0Csl62S6uGdK/Y+ck2ae2Q48njs3YeNvax3P8ePHhg0v/jH/8YgozTcPpuj9+wP6WFQbpW7PNZvXq1ESPStREVFWVaHORTRNSJEydMGURsyLnKeUk+co4inkSUeIoNaZWRbpNNmzaZrhYRXjLQ9Pnz5wPXQx63Xbt2rTkXGXuyY8cOc73cu5oURfn6qNhQFC8jQfCPxIZ7eltsSO3cbokQMSABWfI5d+6cafGQfGSb5CEtE/JpB10JyCIAbLFhH9M94Lr/yVMoMklXR0eHCeg2bW1twyLp7TTS0iD7us8LsmbNGtN9I+M97HU2Ug4pu/00yqJFi0x+5eXlplVDWkNssWFfH8lPxIi0jMgAVhn/IdfBPi9JZ6ctLi42LSZyzeU6pKSkmOtgH19RlK+Lig1F8TISDL9UbEigtFs27PXSfSG1fplQSwKvBGYJ7pKHtGxIPrbY2LBhwxCxYWMfz/6z85d9RXRUVFSYGT3ls7Ky0iDLwyHb7bEl8mcHfSmjlFe222VzL6Ngt2zIAFFZL0+jiNCwxYasEyRvaTWRbhLpbrEn7xLsNPZxBdn3ypUrRpBIV5MIIvs8FUX5+qjYUBQvIwHx74gN+bO3VVdXm7kzJIhLq4EMpJTg6y4kJE/3bhS7FcQ9jeTl/mfvJ2M+/t//+3+mS0S6SmSiLOF//ud/DP/7v//7ybKkk+PIfpKHO7bYkJYYO3/70z4fu2VD5uCQbTLmQ7o/bLEhf3ZaO19BzsNeJ0JD8nQXHbLdc3IvWe/+XVGUr4eKDUXxMhIIPcWGHRjdA6Sd/nNiQ/5kjILU8mU8gj1tuDyl4j5uY926dUPEhh2Q7WPZf+55S1rp9qivr/8EOZ5NbW2toayszMzFIWUQsSF5SN42MmZDujxkMKlsl8d0ZdCmPDEjLScydbss22JDyiZjU9xbNtyvi2f+7tfPHfd97HSe+9vfFUX5OqjYUBQvY4sNGW8ggVeCqC0KBM8A6CQ27O3yZ9fqZV/pSpk2bZppDbh9+/aA4LDHN8iATElv4x547b8/+u75Z2+XKdHnz58/RGzYAV/KIEJItougkJYYEUAyEFRaT7Kysozg+JzYsK+Pnbe9/Few93W/BoqifB1UbCiKl5GA6d6yIcHOHc/0nmJDgqTkIa0JEozlu72vTNQlgVny/+mnnwYGTMrjr/K0xvTp0827QyStrHc/nv3nfmwZAyJTiycmJhoBYCNjKmzs71I+EQoiKKT7Q/a3BYEgZUhKSjIvdpP8ZJBmYWGhGUchT6PIhF72mA05ppTNqWVD1su06TIA9e8gYswuo/s5K4rifVRsKIqXkaApYkBq9jLAUWbldJ/DQgKvzJMhk1RJek+xIS0SMlZDxkfMmTPHDBSVxznl9e4S+KUFQwZBSquGIMFZJtySPERwyPgN6f6QuTDsgZyC/Wd/FyTYyzgLeSJEBIIIhc8h5yPdJfZ05TaSl5y3HE/K5N6V455Gxmy4iw156sZdbMg62U9aSWTsiAx6/RJE4AmyvGXLlk/OVVGUr4eKDUXxIhJU7ZYNGb9gBz8RCIK9/F//9V9m/IL8yeRbIhLc58iQl41t377djJEQMSDCQwKoBGoRGjIeQo4naW0kvTwua3dfyAyi9qOpTn9SVgn2cmx5tFSOKZNlCfb7TYZDBIX7Odu4l0dw3yZppXVDRJHMIGq3bLg/+mp3/cisqjJJmAiGv4oMpJU/u5yKonw9VGwoipeRYCmBTlokpBVDkGV3JJiKEJA/ER3S4iGDKO0AbdfwJY20Bsg+8tipDLgUQWIfxw7w8ikiQLoO5NgymPPq1atmm6R1+pN95NFTERsyqZbM8yEtJyIE3LtRbGSbtEjIsryLRQSH5CHY5+6+bH93XycTkokIk7ykbDL2w7MbRdLZosPe/0tw388+rqIoXxcVG4riRdyDntN2wXO703cJmBKMJeja2+31ss5G0tjp7G4IO6/h/uzjyH4yA6e0asgU5NISIsj34ZAxIUJCQoLpKpHj2fkNh10eQVpNZDyFtHDI8aVlRY4pU5FL+d33UxRl7KJiQ1G8iC0KJPhLIHbCFgl2EJZP+7tstz9lneC+LNvcsdfbYsPuirD3s9PJcew/+5jyKWlkQKk78nK04ZCWFkkjU4m75/05PNO4H1smFZPJuOQpFfnunk5RlLGLig1F8TLuQd4JSWN/2thCwt4meTiJCydswWEjYsMWHIKdzvNPjmV/2uns49v7euKer11G2edz2PkK7n+e6+1lRVHGPio2FGUUYQdZCbzueAoWz/3sfeyAPxyy3U7/JX/uxxlJ3P8817mnUxRlbKNiQ1FGEXaQdRcWtohw/+65n72Pig1FUUYjKjYUZRRhB1l3YWGLCPfvnvvZ+0i6P8Le/0v+PI810rgfw/5z364oythGxYaijCL+bpB1FyTD4bSfoiiKN1GxoSiKoiiKV1GxoSiKoiiKV1GxoSiKoiiKV1GxoSiKoiiKV1GxoSiKoiiKV1GxoSiKoiiKV1GxoSiKoiiKV1GxoSiKoiiKV1GxoSiKoiiKV1GxoSiKoiiKV1GxoSiKoiiKV1GxoSiKoiiKV1GxoSiKoiiKV1GxoSiKoiiKV1GxoSiKoiiKV1GxoSiKoiiKV1GxoSiKoiiKV/Ga2PjwQT4/8FN4P8DHj4qiKIqifF0+kKGx+mvhJbEBCgvwU07uHZffKIqiKIryzei34jNjsxWfbTzjt3fwmtiwkGVp0XA6cUVRFEVRvg79xL11wyfEBqFyunP7Pq5fvY0bV+448LOiKIqiKF+Ba1d+ws0bt/H+vafgcIvbXmSExYachMWH90BP91XUVnegseoCGqtdyLLhoqIoiqIoX4H6mi50dV70EBtfjxEWG4ODUd4bsXELDRQYrZWXh8KTVxRFURTF+zRWn0d35w3TEPDRPMDxdfGq2DjfeQtNNRfQVn1JURRFUZRvRHN1L3o6fjKx2T1WO8fykcdrYkPUk4gNUVNOJ64oiqIoytdBxYaiKIqiKF5FxYaiKIqiKF5FxYaiKIqiKF7F58TGBxueUG/3T0ZstDqcuKIoiqIo3kdisLvYsOP0mBYb7wX+4yNwpfcuGig2WjxOXFEURVGUr0NrzWU01VwcEBsmTqvYUBRFURRlpFCxoSiKoiiKV1GxoSiKoiiKV1GxoSiKoiiKV1GxoSiKoiiKV1GxoSiKoiiKV1GxoSiKoiiKV1GxoSiKoiiKV1GxoSiKoiiKV1GxoSiKoiiKV1GxoSiKoiiKV1GxoSiKoiiKV1GxoXiPqsufx2kfRVF8Hyd/8AkO+yhjGhUbiveouvJ5nPZRFMX3MYLCwScMwO1O+yljFhUbivdwdCJXXXDZaR9FUXyfYcXGNdenig1fQ8XGeMIYuG3EvS5cy1zfWmnxyT5/F3NMERc3XLiExoBT+TR9K79bZZCyXfxkm6IoPoTYvvEB4hfEH9jI9+vW8kB68QWWz2qttP3W38T4IvuYUg5P3NNbx5bl1qoL/FTf9KVIDFax4YvYwmLAcOwWBRt7ux3YL6G92kprRMcf9Jm2Vl00OG37BHMMOd5N4ulU3Mohxmucj3xKedSYFcWnGRAbLmFhkGVbbJCB9BfRzkDVVn2B/kl8j71+eP7QRw34RXefZGP7Jjs9fZLxTdyH8UT905ejYsNXGWJIYsDu2AZFcUGlXn+2Eyf2VaH6ZAeN+SrXiQBwyNeFGHFLhSVSPosxWDnWLWIf2925WALHMmZJK0bcTcfy+eMLxpmI4zHOR41fUcYUA2LD9gWCu48irrRN5T04e7gapSU19Dti73/sH1oqKEw+5xeMv7GPL8eTCpF7pUi22ccR/yT7cD39058VGwP+iThtH0+o2PBZJIBfQXv1VTTTOMuONOFIcSVOH2ig4YrxSnOklbaj9hKO7i6F37/CkLq+AOcb7w5vzC6lf+pANfc5x7ylSdEjjQtLDFw2zqGlsteD89w+2BwpaTtrbmN//mnMDV2A3VlHTd6ezsLkKetYjqZz500ZTu6vGpJOUZTRi7RSWPYvQfwCqk4249ieMmPLDWXdA/Zs7J2BuvZMO2ZMm495octp97JO/JtD3i7/VH60yfiG+tIu42+G9w9W13GLye+ayddq2ZV1g/tIWaXlt6XiKpbMWo6NianoqJHv4kc/zds+llSYSkvq6XfLzDnZZRuvqNjwWSRQn0fliQYkLluDkMkRmPKvIIROno3YRcmoON7ANFbQ76i5SsM8S7ERgtR1+Z8XG6Sj9goWTY9F2JT5aDzX45hGkDxamf+hncewdNYyLJ6xDAunC8vN5+IZUYhfsoZl6DG1EGnxKEo/iKn/8Ufejr3cf2jLiXE+RNJXHG/m+czDwogYHmeo0SuKMjqR4C3+qbmiA2kbMzDdfybtPgBBE8OwcMYiFGfvQVtNl2XvrBTVnulwiY2l3Eds3dk/2S2im5IyMO37GSjZVWrWOfoG8XGkqfwCVsxLwJKZ0STKfC6eYTE3ZDnFQqnLP12h0LmCYJYxbvFadNVdHVZsCN3117FyxRb61XCcoohqp7BxTzfeULHhs/CcKzsROY+iwG8Gtq5Kxf78I1gfvw3Tp81GuN9snDpQwXS9NMarNKjTmPLPIOxYm42ehts0FlcTokuNtxK5hmJE7TWXsHhmLMKnzkPNmVZut4xL+KQMIjboVArTd2Pq936YF74Y8cvWIX7pOiQsW4u4JWuxPiEF7bWXrVYM1hyKMg7A799TkJdCZ2Pn51AjaOUxy47UsQzzKVyi0VQhvzFFiNk2iOd+iqKMAoxt9yJlfQb8fwigX1iJA0VHkbYpDwsiFiFgQjB9wS4GaBEblyk2Ol1iYzHFwXmX2JA8PLHy3pSUjqAJs3B452mzXgSBEQXiSwb8iXQhX2KFqZsCIpSCZzYSl69lBWgDEpZuYiVtE2IWrMbpg9WmG0f2byy7iMAJgRQbqygmRGwM5mv7yDaX4Omsu0KxsYn+LAzH95azkib+0C6nVKRc5R0nqNjwUaRFYXf2XgTQkDM2Z/LGl2ZBGdjUi4NFJfD/PpjCY7tR/e3V1yk2TlKBT0Mqjb+n8Qb3l/EcMrbCaq60bhQaJkXBqUOViAiYh8BJoThUfAwtrKF4qnsbMcDCzN2Y8M9/I4WOpLXmJtPf4vprXL7OfK+YvDvqr5Gr2JW9H37fT0Re6i6XYYro+bTJVNa31FzAzuwDmPZjKEL8Z6HidDMaeW6NNGArT2F81yQUZbQiXbtVJ1swM3geViyMRX15N5pZ6WmsuorasjYsmR1FHzOblZlmBvQrFBtdFBtzTRdrs1QsuL8VsD9FhEjd2Q5WsuIR+GM40jbmsjLT62qBkBYOqUC5/IKpUElZehA4cTKi5kfT911lmjtor7pNv3iTvkbGr13Ehabr3Hbd+MvAiX6sKCWiq55+sUJ8reRp+TrxkZbvuchz6sCskAWY+I8A5OwoNuWzuo7ED1u+2PO6+DIqNnwUERbJkckImhiIsqOl5ia3xMYFNJa3IGLqLCwIX2YM7ROxscEWG2JA1gBSMYoWMeQaBvPKHsRJt8yUmRQbEVxexfy6md7ZcOS6i9iY8v0PWEIHsG1dBrasScXWtWRNFo4fqELV6U5sX5dnSFi+BpP/M2lYsWGEBsvQWtuD5fNjET5tFvwnhiFjWzEdFctH5Jg27mVRFGW00ItDO0/Af0IgUjfl0J6v0XavG7HRVtdLP5GFyf8KwoH842ituI7a090usTGPPqubQd413sODdlZCilkJCZ0yA+H0cbMC56P8WK3ZZnXduPspy6+IPwme7IeZgbOQtiEL29ekYcfaDGxfm4nMzQVoPNfFSlgeUuifUtblI2DCFMQvTUJXHff9RGxcND6yqZK+ln52x4YcTJsQxrxnYumcOAqmNiOyLJEjgse9LL6P+GMVGz5IO2/k2EXxCJkcgtIjpVT8NFARBLzRG891cP0szA22+j+HiI2G6zQg5mOMQgzyApqre9DRdBnZ2wsx6V8BWJ+4jaIhHdN+DEPWll3orKWT4HFNc6URCVb/qVz3osw9mDZxEiKCFmBexDLMn76ULMH8iBUozj2GMyUNWDgjFvPCozEjaD4m/3si8tKKrXwGyiBOQRzGRSOQtq7lsSeEUsjsxdqkbQj2m4nc9N28mbtp7D1oFlGiLRuKMirpqruM/QVHMfV7ERu59C+X0VR9DQ2VV7ncy4pHDn74X3/syztGn3KNYkO6UeYMIzakItWNjtqLOHOo3AiMBeFLcID5B00MR8zCJNSdle5eu8IlXR92SwcFAn1jCMVGxNTpWETftJA+atGM5cxjqekuqTzRxPXRWEIftYA+SsRGwrLkQbFBoSF5St6NjDXtdVdRnHOE6SIQz8pTbupuBE2agXVxW013jAgNq/tFxYaKDR9AnjDZl38Q034IwO6cvehusPonxTiO7D6DgB8isGrFFgqNq8O0bIhwYF4m0J9H3bk2bFmXDv8fg4xYqD7ThMbKLsQsWYVp30/HlpVZpgnTPr7drSJNiyI2Jv/ne6RvLURHw0V01F9EV+NFdDddR1vtFRrnNSKfV7Aza78lNlwtG+IQpDZgj1CXQaFrY7dh6g8hSIxci4aKdlSdbcGssIUI8puO7NQCio1O/t7cp1wc0qfXRVGU0UAvaikApKskOWoDBcYlNNLXSMuGtAwsmR1nAnTl8Sb6LOlG6cAMpp0bOt9UNjzFRkdtrxmTNiNgLmazUnN090muP490Cplp9BVRCxJRdVIGxVutu1agp8+RwaNVFyhKJlOUxKK35bLpHulpvGIQvym+tLvhqjVGg/sFTZxqiQ2mM60aLHtDWRfaanpRQz+Zl7ofwZNnI8RvNkqP1hh/t2llCvz/E4rV0ZuND5PBos30T3bFbDygYsNnuUCj7EDsokTMDJyH9I0F2JmxF2kbMzE7eA4FQpgZICp9mZ5i43zjzQGxcGJfNTI25WNu+CIETA5BQmQy6sqaeT1p8DxG9dk2rFyx2Yz8nhcSyeMU4dgeGQxltUbIFLVWN8qP2L4xhwLgCurLrqGu9ALz6aUxNuHEgWrTEtFc1YuCdKb9z4RBsWEGmbIWlHcS6+NT6UiWIXTyAmxISkVtWYcpQwtFStnJWsQsS8S0SYGYP2MRUnisEwcqx5UxK8pYwYxdYHCWAaHSArCKtf6CzIPI3FFkxmv4/xjGSsp+k1aERe2ZFgqJmdaYjfJeU2mSx2elayI/ZbdpvQieFIH59FNHKDTME24UBk3lXShM20ufMcN0rayO2Ug/uB9N53pcvsUasxE0aQqiF8Qwz140lt5EY9l1NJReotjpMI/5y5MzImzk6bugSVOtbhQ3sXFqf4Xpdpk/czmmfh+OmMWrUHa8Di0159FaK76uDSnrMilUQhHhPwcbErbjQP7pAT87HlCxMeax1b3gduO6uh+qT7YjbvEaTP7HNPzw3xMx6R+TTROh1Y8pxnKVBiZPo5yi2AgYEBtGhFAoZGwsxsT/CcKSmbEoSj+ABtY6zCDM2svmU2irvYqDhWexIDwS3//XVKStL6DYuMYaCg2ZBp2fthtBk/0RPCUCYf7hCJ0aapAxH340zODJ85nPBXMj5mXsxsT/fI+cNBEbVreJOKZNSWksXwiWzY7F4eIya559OhOru0RuYtYUKDry0g9ifkQMJv4jDPsLTpsaxOC1UhRlVGAGXlqDw7dtyIb/xHD8678n4Yf/nYDpAfPpM/aaIC0tnxLQLbERTrExy9WyIX7hIupLOxA8cTam+y/CluQ81J6WbgrXZIWubhLxjeeOlbNStAZ+/w7AnOCFJg/bbzaUdVKI+CNkijyRMgvhftMRRv8UMjkM034IYv4zTVeL+FdpYZWWDfcxG3I+e3OP4cf/9seckLnYsSkdteUt9GldaKZ4aa5luppr6Km/j9MHmiiM1iHghxkUHCnm8dlPKkQD4+Rc330IFRtjHnehQaT/kAHeFhtmIprK8yg7UokT+0opMupMd0c79zVjKqSGYFo2TjCYT6XYSEVPw08uQ2VAP9dL1V5NlS+DQC8ywEsLhLRYMF8J8NI140pbf7Ybx3aXo+5sp8m7lYFeOHmwAtvW7sC2NTI4dCuXt2L7ulTsWJ+D4uwjOHmgxvTTtlRfRUH6Pkz+zw/ITd1DI5R+VRmj0cs8u3DuaKM1rwePbWol0s/LbTL5ThPTihCSvt/Kk204sb8G7a5xJIqijDJc/sk8nl7bi/KTdTi2/wxOHy43rRWtNRdID7fTvikMas80usTGXPqDC1xH+2eQltaNsiP1qDndzvUiMORpEgnYNla6Ngb+lopunDlURT9Sz8qQVLLkSTyrlSVlPX3S2hRsXZ2CbWQ7/dWOtWnIT9kFmfDQEieX6AcvIGiSH8VGsnnCr7mclR2WR/zSmUO1FCMd6GgQX9ZDXyljx3rpm8Rviq+9Qa7TT17AyX1MS58qj8MO+mwbt+vkQ6jYGPPYYsP13dy4liEbGHxrTrfSYE7RYNtd62/Q0MQorX3kEa8jxceo+idTbGyn2PiZ265x/TUrqNNQZFmm6rVFiDWS28IYvsvIzTaWQZyAMWZiCSEKHLOOZaiRwVqDswQaYSLLVTfNpF5+//6RRr7fNINa40as6YObeRzrWINlsJeln9dq6bC+m7EoFCUD+ZsajusaKYryTWmnnQqy3FTeieP7zjBYn+N3q0VVHlftqJOuC/ruyg7Unq3HzMAIVzeKBHjLtiV9S4X4FvEN4p+u0/YlqIsfsqYcN4+9SrcN/YXsa7XmymOsIkasPNprO0iPOWZn/QUuy4RiXeb4to8VXyRdK9LlEr9kFcWGzLMhFR8ZZCrlsPI26bnO9jnW+Dcph6SXst1A8zn6s3Lxj3YaKa/4Zg9/7kOo2PAljCqWG9ae118M8jLyduzB1H8HYVfmIfP9k7n/uZ+IjVMHyrBs9nIUpOXTiKQbxTJWaRnpEMOUd5tU/kTucP3PHtwm8u4T6/0nsr8YcjsFQIcIDxpSB8VL/ekuLJ6xFEmRSab5U/pexShlAJYxOu57sPA0Fs9cgr25RyxjFackIqVaynATHdU/k3tD6Ky6z2PcYxpur2G6GgoqI4YcrpOiKN8e+oaWc72oPdWCGVNnY9nM5bTfDnRRaHTWMOjXMPib4NtNf9GExOVJSF6x3grsEsCrO+g7KBLo32XqcMs33HXzC/Ldor3KmjujrUpabW8wvfgqqaxYZZFHZmVA6IaEbWZ245ozjUYEiUgR/2ONQbtKn3UFy+ctwZaVGVwvAkJadsWPXadvvMVjWD5oeCTNbSLluc/9ZD4PKYu8c8Xj+vgYKjZ8AdOaIeLAbjp0Exvclrt9txmPUZx5mAZyzWVog2JDgnxrVQ/VfLdR+Fb3xXnUnmnFoaIT5CRFwDHsLyghh3HwM+wvOMa0p1BzupN5y2RfUkarRlF9qgOhk6djyaxIGrLr8TUeS8SGGLJ5LwHPw7xvhUYuI8bFoCuPSzlO4VDhSVOekqJjQyk8isNFR7n9KA7uPIEDLPMB7uP+hIyiKKMD8cct9E3N5ZdQc4JiY8pMio2l3EYBIRUP06Ig4y9kWQaTSsuEtDxYNX8RAU0VbThMWz9UdNzFEReWH7CWj7mWS8zyQaY7SD9yar+MWRts8RT/J2IjemESAn+MQN1Z6ZYRHyRCRJ7ukzfQUlxIly2P28KKlPgvQXzZ4Z30T/RNBwuPkJJhoG8y21ke8af5h3H2cCUrZ3JNrIrVAG7XyldQseELOIoNe/kKcrbtxuR/TsPOjAO8saWlQlosXH2WNCTTRcLaQ0tVO2mj4VldHqcPVmHmtAWImDqPzEG4nwyemjFA2BQnZtNYZ1Dg7EOniAiWS5oIpYnREhuzsGxOjHEWcmzp9+yqv8K0LBPLI32pXfXXzHrjaEQsbduHsMly/LlkNiJMOWZ6IMeejlDDLIT6zUHwpNk4WiwTmslgMnFS4lhs3K6foihflRbapC02qik2ptN+l8xYTFHRZSof8lSItDaIjxBxId9bKru4j8wXJCJAxkm0Y3bQItq9+INBnxAxdRBr/Swuz3D5MGEeohesYb6WL5BjiNg433TViI2gCdPNGA3jj2qu0heRWmkNEb8pwuOC8aNyHlIhqjndhrkhy0ze4gOND2KlaijcRkwafso7VqQlRc7T6nrhudq4XStfQcWGL2EEh7RmiNiQrhLpSrjGYL3XdKPELVmJTUkp2LoqE1tXZvAznaSZJsEtq3aQ7Uhdn26UumWAF1F3psOofBm0VX2qBbWnW82yIGNBPJE00kViJs8xhmOVSVo2qk6008jmYk7wElMGc1wHtq2WmfsKzaArqXlYUxC3m3xt5LvnOnfsbWbkeuXgyHMLFRuK8i0Ru7bm/bmIyhONCJ86HXNCZtP+U7E5OZ2+yM03CbJM/7R1dSrKjjTQP7EiRVuuOyv+po2frQM+YXg66bc66MMIP919glSwTMvGgiT6qFmmDFtXZZFsF7kkxyzLnEKbEtNRfqzR7CctIJK34OmHPoeUqbFMBtOLP3L3T4LzdRvLqNjwNUyAF8ExOC6jMG2fUdLTp1FV+4VSgYdTfYeRUBLCbfIZxG1BmB08k0G+iyJlMCBbjkFqFtZkOtJHaTchyuAri8FmRREpUiswLQqugU8yMVf1qTYsnL7YOJXwqWEsT8QQIvxlfTiWzF7McrQwDxmoZYkFWzg44nZ8efW8CBR70hyrOdQ3DVhRxiKDYuOyeb28zI8xK0h8VDim+093+QPXsn8oly2/MN1/HuTV8fJovRkrQb8g9i8tpSbPYTA+y8DKyznuR59kthkfJZ8yZuMaVkdvxMwg8UPhxkdZRBC7NXc6P2ciZNJMHN9b5trf8nEmb/od2/98inS3yLwfgzSekxYNq+vYGqwqfltgfg7XbKyjYsPXMGJDGBQb8lbD+lLpg+xGk1De40K+d6HuDFX5mTbUn21j2nY6ADE+q/tDjMnK22pyHHK8z2D2tfORAV38Ls+py2x78mRMQ2nXEOpdNQTTqmG6PgTr2MawHfj8djsPd77sPBRFGVnMuDCxT+lilWm+6XeaKztNxWCg8sL1Zlk+TaWiy3x2mO4Nq+vVsnuXTZtW1GEYsH23cnC9+DnrU8apiQiQsohPHGwJqTvT7QF9VVkPyyrnIPvbIsESDpa/+/O4728h5XUrp4+gYsNXMW9stQZd2o9+iXFb2zxuarNsiQHLwC0nYLaLcPkk3y/ApLcMyhIwcnxrLMmnz8J/SlO51HzEcD3y+0vQwQzBKZ2iKF8PsUMRCGLnIixY+WFFyHp8Xlod7GBsPU5vVVZEeEhaa+C4eXz/kzxtv+aJ+Dkez65oOKa3unTM4/IDPstqeWk6Jz7UDVf5zIRedv4DuOf5V3H5XR9DxYavYm5aS0DYTYnmu1mWTxuXEDFNibIv9xPcb/4h+f5JTHo3A3T7LsY6sN4BzxqDoii+iMzlI90JrsoI1w2KC/FVluCwWmltBvcdXHb6bkNf8okPE2T9YL7WccTnuKUd8EEO+Zp5h2R/WfbMV3FCXr0vr+BXsTEecAzgwxmooiiKovwd7BZrERvasjF+MMrbxunGUBRFUZSRQsWGMuSmUBRFUZSRRMWGMuSmUBRFUZSRRMXG16fqEtq/OZfduOLiqtuy9xl6Mw6P0/5jEadzU5TRhtO9q4xfnO6RL0fFhvcxgzFt+ONVXkFHxWXCT1n+Jlz14JoLz/Xeo/0LcNp/dHMJHVUX+dlrlm2RZ+69TwxQUb4drYZB3yRIcOkkzn5DGXu4+yUPPy+/Nz8lJtm/vSf2fTEyqNjwLnKR5QetEK6jk3SVCzcpOG5y3Q2zvkPxGdrl+f/KHnRVddOoL/AeuIDW6l4amDzfbxudPv2jfFtaBHn7s/FT16wAUykVocvoZAASrIqRq3JEH6aMNdx9kxVzOhhzuioZd0xckrfUXkOTmRKB94XndAdeQMWGtzAXmIbMH7atnKqSdJ67hm7SUcYfu4zbz9Hgz/HHVnyICzTk82iTCYGqe9Bc3Y3GapnHRJ7jt+4JTyNUlK9JC0Vvi0yuRz8lE2MZscH7tbO8dwgdFcrY5NIg5RSMBsYgqehWsmJULnFJ3rB90UxONjjPiPM9MxKo2PAW5gJbYqOj6gYy15ZgR9wR7IgWSrCdbDMcUnyF2APYHL0XO5IOouJYD6rPdqG+osdNbGjLhvLtcRcbMplW/ZlubIrNRgrv35S4g0hLOIzUhENIjT/E5RJ+KmOPo24ct4g7xt+3BHkbylBdchktpTfRVHYJ8o6WwVmjne+ZkUDFhreQC+zqRhGxsXJxLqLCcxETSkLyDNFCaI7iI0SGpmN5SBqWhaYha/MRlOytQm35YMuGdqMoowHTjWKWZZbO86g82opFocmIi8jlfZzpQZYhxvWpjBVcfilEcMWaEMaesBwkzM7Hzq1lKN3XicazFADl8pJLq4XD6X4ZKVRseAu5wBQbreWXTbNV8sJMio0MxIVlIy40D/Eh+aSQP36+4iNEh2ZgRUgGlgWlY35oHFK3FOPsyWYjNiyDU7GhfHtaZNAyMcuVnag81o5FIWvplwoGKkJxofmI5Wcsg1U8K0jKWIPxRXDFGYsishPLglcjMiIJO7cfRu1p671VNt5s3VCx4S14ca2XCEmAuY6EhRn8gTMYlGjAFBtizEIib4bhGLhhlDHBMtYalpJFwdnw+0cw1iWn4OzxOtYeVWwoo4fBlo0raK7sMGJjcehaJNA3OQcuZezh8ksSR1xiIzG4EEkB+Vjkn4Sgf89F2pqdqDrRaQSGO573y0ihYsNb8OK2V8qYjWvorLyBpPmZiA7PRKyH2LBuhmGwbxhlTCBdZCvIYoqNKRQb65NTUXq8XsWGMqoYFBtXzWvdK492YHHIehUbPoXLL5lYYomNBIqNhMB8LJiWhID/zEXK2p2ocBMbcm+o2PgiRofYkBHe8myzCI2eyp+wal4W4sIEERqDYsMZMXplrJEQkotYsiTIJTaS0ig2GlRsKKOKlqrLLrFxDS2V3RQbXVgUvEHFhk8xVGwYgvIxn2JjGsXGDoqN8hMdZqyGERnV9ht3vSM4VGx4CXexcaHiNtbMy0ZCKMVGaIGbqCh0W3bH6eZRRjsrg3ORGJyD5YGZmPCvYGxITsM5FRvKKGNwzAbFRsUFio0LFBtbVGz4FM5iI5ZiY25AEvz/Mwfb1+9CmREbg4NDVWx8EaNEbFBodFBodFbeRHf5Hayel0OxkYPEkALWgK2bYHix8WmNWRkjmAF1uS6xEUixkapiQxl1tFQxuBAZS9ZScZli4zIWBW3/82KD97i04imjmXw3CgcYEBv/noPUdbtQeVzFxt9gtImNW0ZsrJpHI5XHjkLdxUYBjdelQJWxD39TGcFviY0AFRvKqKSVQqPVtGzccImNS1gYtI3+SXySh7BwwjG4KaML6dYdFBuJA2KjgGIjWcXGyDA6xIbdheIuNuJcYsMxUCljn5ACN7ExTcWGMkqhjzLvRbmBZoqNiqMXsSBkK8WGdPE6iAtlbGIqtVb3SWLIToqNnRQbhRQbK1VsjAwqNpRvhIoNZUxAH+UhNhaq2PA9VGwMQcWG4huo2FDGBPRRKjZ8HxUbQ1CxofgGKjaUMQF9lIoN30fFxhBUbCi+gYoNZUxAH6Viw/dRsTEEFRuKb6BiQxkT0Eep2PB9VGwMQcWG4huo2FDGBPRRKjZ8HxUbQ1CxofgGKjaUMQF9lIoN30fFxhBUbCi+gYoNZUxAH6Viw/dRsTEEFRuKb6BiQxkT0Eep2PB9VGwMQcWG4huo2FDGAO7TlQ+KDZmuXMWGT6FiYwgqNhTfQMWGMgYYfBGb27tRglVs+BwqNoagYkPxDVRsKGMAFRvjBBUbQ1CxofgGKjaUMYCKjXGCio0hqNhQfAMVG8oYQMXGOEHFxhBUbCi+gYoNZQygYmOcoGJjCCo2FN9AxYYyBlCxMU5QsTEEFRuKb6BiQxkDqNgYJ6jYGIKKDcU3ULHxTXB3jt50lr6Cio1xgoqNIajYUHwDFRtfnfYauabWsu0kzWc113niSjfeUbExTlCxMQQVG4pvoGLjqyJCo6OWdlZ3ndfYcpK2+JBPG8/9xjsqNsYJKjaGoGJjrGNuas/vo/c8E1k+QYwwgZ8WedxGpNwGGqnDvp9FxYaXoW2Zd3qIQ7xEIXEZtWdasT5hCxZNj8TWlVl0nq3cfs2rTnOs4z5duSU2LlJsfO13o+S44bR95IjjMYRY2necIZfLst45/dfF8zrYy3n0SblEYobFp+n+BC4fp2JjEBUbYx07QH/y/S8E669EcrAgZdxpREeSQcSGGKgYZ5HZ5rTvZ1Gx4V2qe/l5yTjDlooL6Ki9hPRNWQic6I/gSUHw+1cwtq/JQ/M5FRufhz7K40VsC776i9iy3XDaPnIYsRGWjZiwfIoMIY/Lo0VseF4H+RRBIRWiXJKNRK4TBrfZ+7oqSAPfPVCxMQQVGz6EBG9pKXDaNhoRgxahIYJjcL0Yqxi2+7o/gYqNv43YaYsJhg7bxbZcLRvSqlF5ognLZi9HyORpCJoYjIipi1Cys4Lbb6vQ+Cz2dRwvb32VAG0FayM8TBAXe3VKOxwetm74TKD/0zjkY8pn4y423NL8GVRsDEHFxhgnNjifBlyI2LDdSA7dzZu7iI7rL7QMfC3slhcpZygNkGWOC9uDONPaIeukVYYOwLRwOOw/HCo2/hIiLgag7bh/l7EYdjrT/F950dhX47kurIvbhMAJAQiY6EdCsCEpAw3nZDzCjU/yVzyhj/qqYsOugbthbFDsRr5LGrvm7rnv30fERXzILtr4XrKT3/NcYsOjTJ/DlNcBp7RfgslHlqWscv6MEfyeRF+UzLImhO1CfDiJKGbskPR59FOSNpPfsw2e5zuAio0hqNgY48QGi7HQOObsxOoZhca4Y0fzeYpx0xATaIRxYcWIDi1CwszdSIrIoTGKwLDFhhiqw/7DQcehYsMZM4DTgZbKS2imgGimkHBCtg8i3yk4aF8Hi04hzG86xUYg/H6YjAUzluFMST3tnMerodjgp7ZuDAd9FK/9VxEbJtCLbXhiBUGzbNJ6T2zEBktrRgES5vB40/MYwIlUKIaU6XPY5XVHhIJT2i9B8uGnaX3JMp/Gf9KnJs0owup5uxg7irByrlToMkyapPB8JIalc9n67nTOhoH8VWzYqNgY48TQmNPjjuPXnx7iWvVtGnQKoiOc044GEmigiSFZSKYxSmvMtvhjeHDnMUp3VSI2kDUI0ypjG60IKed8hqBiY1iMsKBdeNJed+ULuIaO+huoLe1C9OLV8P8xGIGTQhAwKRApG3OZH52kPIEi6Wqvob36qgoOR+ijvqrYcA/QNiLqbWEvab0pNrJwJK0FD+7+hjPFDYgO3I4Y2qrVkulZrq8NfY0RG3LumSQHMYwTeZtqcavnF/x67xF+vfs7+RXNh69g69JipqHQCNtCPyWfKja+BBUbHsiYB/tpCSFOuimodOMY1K1tcvPI+gJEC2I4VOsy0lpq7QnS0mD2lf2kGdEacGSNTbD6K6O4LpZIv2AC8000+8k2yVeUv9yw2SaN2d9sF2dkl8ky1GTT5VCElOiT6Hv1DvfbbiAhfBP3k8DLfU0+EuCLXP2OVquCKZ+cryh45iHlME2EJEY+uU5aHhLpkBKZVxLTmvEgUjY5Nr9LWgnu1jWT88hDYjCN0eS9k3nIANAic2zreljHkfwSuC2GQiOBv8vti3d4539A3dFTiAuQ8hSYdKZ8X4I5ZxUbw9FBjMOpPI+mqh5sXZuJVQlrkRybiOS4BCTFrCRryWrXsny6s5Lp1mD5wmgETA7B1IlTMW2yP0IDghG1NApJsdwndhVZjeTojTi2r9KIjwG7NAHWuWzjC/ta/FWxYY+BkGXL/ox/EhvkOsvGBNqqsVHamtipsT/aZXARKyhi45bdiJ8Q202m/Zi8QtK4TWrttgDJ5ros5i1PlMhATyLrJC2PZ/sZk8b4SPGzXEd/K34klpzM68aHD+9Re7SZFYrtWEkbT+LxEsUfi59kGrs8gviaWFnPMiewvElB9BnBhTwP+hP6H/vcEkJ2me2yzfjH4F2IDmJQZzo559gguTYS6JmOfiiG2+NEYJh96K/k/EKkO4TXJyiT27Nxdlc73r1+h/53/fjtAYXG/d/w4slLxjbgzrXbWL08mUIji/kWW3mZ38EB28+6rruKDRUbQ4gzNzmXB5S/OAEaDm/a+NDdxnijacxRvFlX8OaMYr7RvGHjwmjsYdLExuAro61pfKYP0OQpN508SsUbm8IkcboYoRiv9UhYfLgcQxyHCAtBbs7d/E4jknXMI4YGF01BEu0ybnEsImDkvFJij1BsvMfdtluInb4F0eFFiKICjwvLNMdL4LmsZv7SqhBHorkcQ+eWIMc1zZzMRxwQ8zePoQbRCM36XKygQUpLSUw44X5i0HJt5BpJ+aN4fcy4i9C93LbPGFSMOAYatAihWF4PS4xJubMQG5GDZcGpWLN8F65e+BXv3/JeefcRtSWViJlmCxwx2KG/zWdRsfEZLlNsWK0ZzbwejZU9mBu+DH4Tp2DS9z9i8g8T+DmZTHQh3+3PHzHphx8w5ccfMWXCREydNAX+k6bCj8v+kyZh2hQyeRKXJxPZNgV+3wdjV3YJWmvEyYnztHEq23iDPupviQ0XxkeJr+F+FADmEU3amQRMY5/0F3EmQNP30HbjmM4EcNpkkuwj9s19LLFBcUKkW2BVaBpWhlCIGhukv6AfSwwXUUExEcb8AsUHSFllfxEi4vfEv7FyRNuTloxY+r9Ibpcu0hhyIq+HYuMDqo62YXnAJrNPTGAqPzORSN+SQL+RLKKC+cbQlpNY7uSgIpZFfCAFAkVDbBCPKxUVbpNP46PFz3Kf2HD6ZCK+Od5UDrlOBIWMFZHyMU/puhGRJT4iVvwc0yRye4wck+WP5LlsjCrEq1/oj569xcn8ZqxeyIrg/CxsTTqGmzceQ/6ud1yiL06hjxQBJz7b7Tdxx/w+KjbcUbHhwaDY4A1i1DADanA6bzDe0KyRr5x3ANviS7Al6jDiZ9LgZtIgI3gD0+Dl5o+lsccGpzC9ZUxGufPGl4AeHZRBgZJG4+TNKCIlNBPLuS4yOJPGkoMVISnYvmI/0mPOYNPCYxQDDNYiDmjIa+bvw/aoEmyPOcTjiQPIoVOQQJ+JbbEH8eblB9xquYHYmVuQvGg/DWc3tkXtQXxEJo+fh9VS62CNJTYsgwLJcgZRdCDJM/KxI/oIUlYcxpbF+3gNKFDoMMTJxJClIelYSiW/nOVYHpyBxBl7kRp1EhsW7aVjSEMkHVxUKFX+9P3YvOw0ti47gq3Lj2Ll7GIjjGLpqKLFaREpa9ysTBSnVODF72/x/t0HvH3Zh49GbNQiepoYpTgJEVhiyMLQ38gRFRufYVBsSMtGQ3mXERv+k/woIiZhKkWH3wRLQHzKBPIjRYmIjf/wk4Ljxx+MsJg2RcTFREtsGKYM8mMoinOPmOPJOI5WlkFwLtt4gz7qb4sNud8lkIlooC0HyqRgtDFWLjYt2YuMuLPYEXkcq2iDMVKhCBf/RDulXUklKZY+J0agfUvLaSLzk1aJqMAUJFEMrKTvWiM+UHyP+DHmG8v8RZik0/YzY09j7XxpjaA9i6gIysHaefnYFrkfWyIP0JdlYil92gqWTwTH8Xxp2fjIc21lRWMD1i4oZtqd2LR0JyKDdlAg7OcxKTAoFKRCI2JjFf1v4rR8+r0D2L6cfi/yMDYtoj9jOWN57qb1lT5QRIj4oKX0M5FBuVg9qwA7mH7z4sNGSEgFLpp+K45pt0cdwg7DYSTLdQlkpSww31TOltIflx1qBfqAhiOliJpGP0i/HsN8l4pPis7Cs8cMzK8/YD3P1WrFcfptXKjYGIKKDU9oIPYNIko4b20pbvQ+QHFWC44fasbD356h//1b9L97j1/u/YbD+ScRPT2VRiUtHFk4mt5pugb2bTtDQ6YCFsOg2BBD37OjCdeu3EP17vM09O3cJw2nD7Xh2sV7SN1wGJ2tV/H29Vt86P+A509e4NThWswMWI9TJc14xON+6OeN8fYDbjL/tKS9SJq2B9EUDpsTDuH16/e40n4NJw+W4tHvL/Cuj8G87x1uXb6NvelneW4UQeEUTSSKhhc9OwMVvNl//fmxSffx3Tv0vXiDqx3XkRJbwnNhWgqTJWGpSFt5CDfP38PujSfQ23oTH/r68YZpK45V01A3YXdeOW5eu4e+t+9MGT/0f8TD+49Qc7YdsRFbkTA9ndfCcm47kvPwgefw688/42BONRpqL+Hj+4+oKqnCigAaJ52IZzPxn0LFxmf4VGw0VvRgXngk/H4MweTvAzHlBxc/TnBjEoWGiJEpmPzDZCM6pk6cgKmTyERuMwJliulOsZBli8k/TENh5j608bcVsdFSfY2/g1x/p7KNN+ijRkBsJLI2HhWUiRO5nbjZewc7Enaj/mQvnj9+ho/9/eQD7t66h50ppxEdkUGysWDqNhwsaqQ/u4uijadNhcLqxrW6NMr2tOPn3ts4saOKwZ8+c2Yeemr5u9VcQca6o7hx5Q766Ss+0Fc8+uUhThY2IG5uKjoqruPxw9/oc/rx7m0/rly8gfUrWJEKSUNURC4O85jvP7xHTUWzGWT87NFL5vEW7169xbVLN7Bnez0rYJmmW0NsOCY8C2sW5eE8j/344Sum/UD68fLpE/Q0nMeqhfspZKQrJJf75ODo7hb0XriNndnluPfzA1Zi+vH65Qsc2VVNEZGLQwXtuHXjPt6x3FJ+8Te/3nmE5uMXkTArm/4wG8spLI7kVzHwdyMzmZXDAOl6kVYU+pawYiTMTMcvN19IWENG7F6KB/om0xo0DCo2hqBiwwNpwk825JuafMH2CgbRD7h393e8efMO96++RVflC9y/RFFAtS6iI2vdPkSFSddFASp23wLefsSpvGrWHrbwZqNCD2NePP7B/POyCR2nLlJtrzfNce00ng8vP+LZg2foe9yH7pr7uNr+GwM6DezNC5QdrcJ7BvBLLVfRWfMbjegd0A+KgpumnFGsRWyKp9h49QEQI377Ho9vPcLF5kf4+YoYKtPzN9mZdhgrwtOwgjWUZdO34ELTLXzs+4h3PKfe6rvorPgFdy9y/9cf8dsvv2HtkhzWBrKwOCgN2VuOou8J8PzeU7x91I9LDCK/XPoFhzIPY1t0Dt487zMC4qf2e6g/exntTb/ixfP3FGXA+Zp7FETbeW2zaXAp2LogC017erCaImY5r1dVOWs9NP7KIxVYHlBMhyuDsJx/m8+iYuOzWGM2rqCZwa6pshf7Ck6iMPswCrIOIp/CoCCrhBwiB4h8P4Dc9N3Iy9iN9G25mBk2nQJjMsXHRAT6BWJN4ibszD2IopxDZL8be1GQvQunj9agmc5NbN9u3XAq1/iDPmokulHCpFUgA6V7exlA+3FbhMAbVjhab6GNNvjw9lPgJfDqaT8SF2TSBrOwZEoOTh5txUe6igNF5QykIuZlHgkGVYqLprJrpqJzsqgakfQtsfN34f5Pj2jfIgz68fzRa1ypeY5bbfR99E8yruFK9y3zebvjCa7W/Yb+p310N2/RUduOyLA0VsTyULKzBh940LfP3xjh8ODyTXRX/YTfb78yrZpPHz/C6iWp9E8pZBcWzdmK3p57Jqa8/u0NLtY/xPn6B3j1kPu/p4i6fg8xc9YhNng34ph/1ckOHpNR59FDUwmSwcnP771B7o6TyN5xXCKrKeOl1vvoqr2Ly20P8Z7+UsaRnD1UR1G0lZXBbCz1z8aiybxWrPSIALPGpUlryy4snU+xcZ/Hf/EOGxcUUYxJC4xcP4ffRlCxMQQVGx7YA0RloqnlITkoTK1EX997BuU+nKSCjpmRxaCYiXiq/o6GW1TsH1FR0oho3nxR3P/M3uusVXzE6YIqiolNVL+82bg+krWIQ3ldohPQeeY8okM2cJ8stDX2GvHw+62H2LIiF0sDtmFJ6BY0naNo4bWUbSd2VvC4W7E0OA1bVuVR4ffjzePXWD+3EJHhGdiUcBhvKBLEAbSVX0DSXKYN3YGo6amoPNrD2sY73L56FwlzMimKspC37QzLCNy5cA/bo9MRE5JJx8VaDvMrLbkM2iUd1iWWcTMFVwEyth1F/+t+8gIHU8/SKW7GqhnpSKJgKN1XDVDPtJe3IH7WZiwI3I6FEZlI3VyBF8/6eV59WLeEhiZiIzQDCUE7EOe/3fQJL+N1qWFN4r0RG5WIDJSxHyo2vEE7kYBvz6EhtdXOetpJA6mnkK2nvdRfR4fQIPB61V9AS20XUjalY+qESZgm3SeTpiBmWRxqzzVTKF9EWx0dZN1FN3q5Tw+FBj9r5CkYbncd26lc4w336cpFbJjpykO+4N0otBtpvk8KZeUmKB1l+y7Sfhg4WWE5mkvbnLENUQGbWVkowN1rb4wfPprfiChWnJZNysHxE83008De/LMMfqysSAsGhcuK4Hw0VFBssHJyYlc1KwIUGwuKcffObxQnH3Hj/E1sXJiH6MBc+os8XGy9wWD9Dm+evUfB1kNm4Ghk4A7sSz2Nty+e4/bN24ifzfLOLEZJUb2JDf2v+1BTUo/E2RuxLHgrkimCztfcoYB4h5ayC1gSvBaR9De5uaeMP7vK+LEtchdW0HdGhmQgaX4h6s9cAZOj5lSHNVg1vAiVZy4YP/z894fYHlvIvNdj5fxcRM5KQ08L86f/Plp0AEvoz5aGptC/puDEnlbm844i5jaWBG7itZcxKPTVMq8Gr601mJ+/iYwBCcvFuVOd6H9L3111HjEyyJVCwxrnMgwqNoagYsMT3mDWDZLPGzMfhWkV6GP0vXPzFuKnpyOBN6MZIR2+G/t2VoG6Aq0VHYiemmXGQhw7cJUa4QNOF1YiKnA98ynESt7EUTSWkvwOl9jopPGv5/YCtDZdknFHaDzZhKSILCQz2Eby2BnrzlHkMMA/eInkOTtMU1582G7MC1mFK+d/oUG/wHoa//KIdGyIp9h4w5rD07fYuFQGq2Yzf2lqLcaaxbvx271nePHiKXbE7THjRLopkt68fovt8dlYPDkeyyfSQCcVYgFrPjMCUnDp2l2AFaPNyzKxImgPMtJPmm6ZJ7/ewurZNPqgnVgVvA9xk3bi5N4ygEZ4vroLK+dlYc6kXMwPLMLSGXuxde0BGtdaiooddAw0ZjoNaXpMDMrHykDWFsLyUF3eyetFsVFSpS0b3xS5NtLdcZ1i5BZt9gqa+ZueOnwWc8Lnwn/CREybOAlh04JwsLgErRQULdUXPpmXw6apUtbbXShOxxq//O0XsZkgmEv7y2fgT6PYuEAf9AFX624zMG40fms1A9tiVoiO7bF8S8OxK6z4pCNqYi6OnG4E4zL2Fp4xYmN5EEUL/cqysELUsnwfPrzF8WLaIm0zdmEx7ty7j/f0LUWpO1mTZ4Uk8CBiA/fj1J525vwRPRSqy4JWs+z7efxirF1YiMe/P8b9n+9i1YJdiA7bhZKCJsaGd7jScZnlikLidGmVkSff6JMjcvDo8UPgObBueTrzKcLVnx7h+eN+rFi4Dgt/SMWyyUVYPJGVv6kM2LN24cnvr3H/p4esPKVSiOxCRelV02LcVt+MSFZkYoNloGo2VjDvi503GVmBqmMV9GV5mD85k2XIx7IZudibVcLzXoXYiFTThWM95WL5k+SQbPMUTDL995mcDnMdf735jCJsJZLDMnktWHmSgfROv5GgYmMIKjY8cRMbS3jz5aeUm6B/tbOTtQbelBHytISkzcXOvLPoE7FRTfFAsREZTmM+KGLjPU4Vys29zqSVR0ejQtJYw2iTRgB0n+lGdPAmio1daG66aG7kXTtkjokMa3wH1frm+GN4TUFwu+MaA/VGIzZkwOi84HW40v073r18gU1LdlIQpWN9rLRsvEdvdS+V/gYzNmKFDFjlcaMpkBoqrqL/XR8Kt5zl92zcvC79l/0439mN1voGtNd38LMLLQ1daKhvx/3ffsFHWm92cjEFwB6k7jiF/v4PuHWpmyJrO88nGyvp8FYGZCF1zV68fNZnaj9PHz1jzbYJpYeqkLa6CHEzM81I+Hg6LvNECp1LPB1WYnAOxYYMyiqg2OhRsTEqsMXGNdorYTBsrDiPjcnbETDRH4GTp1JsTMXahDWoL29BU1W3Gf+hYuPLGCmxId28K4JSUbq/F334gNZTUuNeZx4dX8kguTQwC0d299Iu36P55A03sVFnxMa+wlMmIC+Xp9wiPhUbx3ZVWmJjwR78fO9XvHzch41xmUiWVtpgqe3nYH92Nf39B5w7VovFQasQI7MBhxQjeW4uHv3yCL9QpKxdshuRwXk4WtSE9x9e48zBKlZ2UiHvSJGBoMIy/zTUNZ43PjBviww0ZeXoCVg5eoPmxna01XVSRHShrbYTHXVd6GrqwYunv7Hi8wSrF2UihmU/d/aa8T81p6uxYtoOVrIyEReUgmW8RgVplXjzkrGJ23//5Xe0N3bi1N4KpCUcRvQ0+lSeT3JohhEX5rF8+hDT5Us/JX60JLuJx3uO3+/8jozV+xAzPZP5W0+zWMLE4TcSZJuKjU9QseGJuUmsrpSlNIb81FL0vXuHztomBvJUprGe0ZZHzXbmnzWKur22m4o6C8ttsUEDP1lURfW+gelzjNhYwZv3SF6Pq2Wjm+JjA8VGHpqaeo2hZW/IpRHKM+67EMn0tti403mdBmWJDakRiNi4duER3r16iS3LiukkcrAh9rgZINp8shlRoRspZPKwgseVmUQXB23HqaMd+ND/Docym5A4pxj3fn5K8WEO6/hn/575q49gGWsBaaknKE7es5bQyPOWWfQoGCiMEoLTsCgsFdkpp/HgLs+M1+IDP2SA6NvXfbj70xVsT2ZZIrYgKliaX6UJmDUGUzOjUFKxMYqwxEYLnZ0IhbbaK9hXcAShU6fD/0c/+P0wFfMiFuHkoXPcLiKjh4LjvBEWFr1GaFhiQ5ZVbDgxEmJDkHkxRGyc2X+BPug9zuyUbtsN9DWFSKLNSsvG0T0Xacfv0HL6phEb0ZPyUHKqfkBsyBMpkRQQ0RHiR/IpNi5TbPS5iY19uPvgAQP7KyQu3oZVUuGRJ0aCMnEgs8b4CPOOnIA1LDsrF7TppLk5ePgbxcb9B9iwSB4tzUVJQQMD3DOUFJXSD7L88hQJA3Y0feLyqak4dVZaPoC9acVIXXEEb+mb3n9wOSPPP6YTkfPs9zdYt5TCYEYRyk+LqGJZjlHMBO5Akgw2pW9aEb4Hy2buxK6MOrx8/tran/mKv3nz6h0e3LjNShHPJ2KH8R0J9GXx3Dc+bBfiwtNRW3IR/c8/4vG950iLkif1pAInImMn4oPkMVuKCaffSFCxMQQVG8Ngi428lLNGbHTUNCM6LI3bdpptRmwUWC0bHXXdWOEuNngNzu1vothYz/QMzsxvaUAGDlNs8MqgnWJjRfCnYiNLxEaYNCPuwnKmF7Hx5s1b3Oumo7DFRsQuio31Rmz0vXxGscGaQ0QexcYJvH71Hh1n2yliNjKoF5gunRie77LwNJSfvWjERvHWcsTPLMKdmw/x6uUbFKTsw47EHGyP38Pj7cbmhF3YvrIYW5OykBa/D8kz5fFYERtHrZaQtjqeN2tWYfLMvcy4l4mlEZmYHbAWK+buQNrGfQxAl3Cl5x5ePHqP/v5Xposlc+0BRNOYZRI009/M5VU01qV0cNXl3So2RgWW2Gim42ulUyo/0Yjl82MpNAIwbYIfQvzCkLE114gMmaujhXZtJghzFBtWy0Yzg5eKjU/522LDhUzoFxmUZsTGG/obaUm1xYa0bAyIDar/1jO3jNiInZxPsWF1oxwqPmu6GyIZDKPoV5ZRXFTztxexMdCNQrHx870HePzLS8Qv2IqV5gkQmfMiixWXOuPzq4+3IHLaesjcFzJvRbKIjd8f4wHFxsaFMkdGDo4WucTGThEbmfTFGay4yaPwWYihX6yt6zRjyArWFWDrooN49Qb47cETrEvahu1xO7E1brdFLH1TXCG2xOXzk+JmBitnEQWoOGOJjYpjFRQbKUimf0oOoZCiz1w2sxALw3Zg9fJM5KSUoLHyEm5c/A2vnvTTJ/bhtzvPEDd3G/2cdD9TbIRnYP38fWg/e8WMRbt77R52xFOIMN/4QOkGpq+hH1Ox8eWo2BiGAbGRaouNVooNCbAM+ryBRGzsoth45xIbn3SjsDZRcajFCAoJyEnhBVgSkI7S/bfksqD1rCU2YgILKDasbpTM9dISQYdAMbOcQfMTsRFui409FBsbLLHx6iHFxh6KjXyX2OjHg577SJgpKr0I8krnKDqwhIWFuND9O/revELumiPmHK5d+Nk8plq8/QSSpmfQEA4zbRG3FZmxHiXpleY5/eSZe808GWmph43Y6G6pNdcw0cwpkm2eQ4+enYOynRdMX23UjAxEzUpH1MxUMwK+u9tqHj29r55ig840RB4ZK4BM3rMqqFjHbIwqLLHRKgM6ay8gP303gqeEYNpEf4qNKYhcEIuqM020ZREVgggMFRtfykiJDREVyz8jNpbQDiyx8f5TsXGyxYiNI/vKzBiqFbTnqAj6HNp5a9NVio33RmxEhlNUUGzcufsrHlFsxM3fgpW0M0ts5OBIZqPx+XVH2xHjvxkykZb4xaR52fjdJTY2L9iFpECmLaw13TMNZztY6dpognqUVNxkviAKjutXb5kxYulRBdg4+xB+fdiPN88+YGM8K2ohu+ln5GWNu+mL9iBx5i6cK7iGrUsPIzZCHufPQ8XZ88z/I8qPnqPYSEUyz0W6RUQwLZ9NYZTbgVWzdmGFaz6NyBnZ2BRfgHsPHpqW2Py0A4ik740RobFoF253/IKPFDwXmy9g3bJ1FC9bkRyQRr/FGCKt2oKKjS9GxcYwiOEsD81AQeoJio0+dFR3MhjLNL68ybg9jnkV5pealo32+i7E+KXzhs3Cvj288XkNbrfd5zG3ICqAxhKchVULUvHrrae8LB/RcrYXK0I2mem57TEbWeuyaQw7jNFaYuM4xUafS2xsojOioUUcoNjYgmvnn+Hdy8dGbKygc9kaw3K8/GCeIS/cQucxYzWVujyKuxN5m07j9ctXeHjvIQXBLoqQXJQdbOPv8w6XWnqZJorOKccYcyQFStpaCqjXT/Dq7hNsWLIJ0UH52J66G339H9HVWMd0GRQbci13IdJ/L42j2zRNHt99BnEsp4zLiKNoWR6Uh1Onms25VZW0mP7P+BCKCZ6b9IuuoqGKo6s/N9iNsiLAMkrpkxasGfqcf58hqNj4LPLoqy0oDCICZA4F0splGxETxw+UYsGMJfD/MRBBk0MROjUc+wqPUUTIOA1S1Y3m6h4GzQu8vvJ0BWGN0XKW8k6UXubPT15zuytFn0ax+Ntiw2UbMs+GzMR76uB59IlAoNiIYkUkMUwGcuaxcpNJm7xEn/yOYkPGbLAC4F+IPSda6KOB7sabrNjItOP7aZt7sXbRcdy/+wgf+l7j5M5q2mYR4hbsxM93H1JsvELsQtbsecwEBsyEwDwcT5enWj6i4WgnEv22Gr+SFLwbyXMLBsTGxoWsILFCdSRPBpNST9x7gq0rtiGWFado+oIo+svDGVXA237c632NyJBt5tzqa69QJLESV9+DuJlrkRi8EzITqXS75mYextvX73Dn2kPEz8njcTNRTrHRz5MqP3IOsQE7KDYsv5E0t9DMjfH2xVsU7ZAJElN4vjvpn/abR2zPd142LSq52/eaFpel9G2tVTdNN3Bv8zUkz6HPkgpmUDYrhvSdgSxHIPMJkskbpctFZol2+I0EFRtDULHhgRi8PAYlN0kUjXFXymkTxLuq23hjW90oMh2wTIFblGe1bFxo7kVsYD7FRgGD3Fn0v+YPSBXSQ6ebtWYvdm8/gp8u3cf7Fx/R1/cBLWcuU2xs5I2biYZmBlsaYvqGDCr1zTQqeUw2E9viD6HvtafY2IsFQZtx4/wTio1HWL8iG0sjMrAh9ijevvqAd89e4fkvz1CccQQZaw7i3N5GvHgoHaAfcXZni5lxT4L+ygWZePELy8jC37v8E4q3lSB19SGUFNXg2S/vaIBvUH2kBbEztvIa5CNj+0FzDS42lNNRFLEsuxjYd2F5wC7sSq3Eu7f0Fy/eofJUG7Yk7UHq+oOsVdXj+bPn5ln/1FW7TYuKNTBMxqbIDKE5WBaah4ZSnj+N25rUi78PjVKEg4Xzb+SIio0/gTgzfjL4r0+ksF2ajNilSYhZnOhGPOZNX4BpE6RFwx/+E6YhcEowIhfGIZppoxYnuEgk8j2ZxCNqSRzhJ9fHLV+Nkj3lFCSW0Gipum6Eh3OZxhcjIzbkvR4U+0HpKN13gcHjPc4U0DYDWQunD5LAtnxaNs7slJaNN+g49RNr/PQvAcXI2lGGd/RNfU/7Uba/Dumr9+FQdjl+u/ESb55/xNv3z3C4uMyM+YqbX4IHd6Qb5RWSWFlKCC1GUmChaa04mllrfH4txUasHwUEbTmZAiKJvvbX3x/hwb0H2LIgD0ks49GCBpNWnmp5dO8xDmScQdbaPWg43om3T97j7dM+5K45TgGSarpA1sXm4/f7z/Hx1Udca7uOHPqP7LXFvFYtePb4pfFbp3ZVsTx5FA15OHu2C330cVWH5Rpsp9gQ/5JrfM65Q+fp/4Bnvz/jPhXIpD/OpG9sPncF7968xqO7LxE7exP9cQoO7q5G/9uPePTgIXK2FyBldSbS1+QgczVZVYCs1YWGuJkbERW2nfFA3v7q8BsJKjaGoGLDA0tsZJubRKbb3rOjFO/7+nG+uoOBUsQGg6283Idpi3NLjdi43HoJ8h6CKNYq5nGf0mM1DP4M8qIi+CeTVj2++wJ524rx7OkrtJ25Zlo25NE1W2ykrZNpzzfSQGRwZya2xx0yLwR60P0zYsPlLYN7KBZ2YxHFxq3zT9H/6inWR1ONT08xj7720ZB7Gjpxob0XH2Twp2TK2sHbl+/QcKoO0XRoCbwGMk16THgK0lfuo+p/xnNzpZUPSc9ydze3I5k1meiIVAqoPGRtLcH7t3241FBFAyvmtdxN0SKDqPYiamae6eN/LU+ksJZg/8n98PzJSxwpLMeKGZsRZWYvlZpILpEBYtmmn7i5tNc4j6qSGooNqZFY76SR98mY2fs8fp9hUbHxh7TSNlooNhrPXcDc8KUInBSMgImBbgS4mIaAyQEInhJkPqdNDoLfBJlhNICfsmwTTELgN9HfmlF0oh+/c1+/cBTnH6Nzk8dnJcDe4O8w3oWexciIjXwjNlYEpqNsz3kz6d/Z/ErEB27AShPkihHpn42ynZfoA96i89TPZk6fpLCDiJ2bjZtd9+g/aOx002L7UpN/8PNvOHukHu8/9OGgERustc8/jl9vP8DTB6+xan4aj7sHySI2ArJRkilPo1BsHOtCzNTttD2Zm2gXkuaL2HiMX+79iq0LKUCCUnCiUMZsvEdjWTPzesHj8dgu/yQThlUfaKVvoJiZnoOVEVn0F9uwP6MUTx++HEwrsLxvnr+hz2hH0uzNzDsfKyIKUcYKi4iN6oOVDOjbkRQuLTY5RmwsCd2K7rq7lj+W83X9SfeJzGS6J7OEfm4zVs8vwJ2fnuGd7Ts/85eSlIvlzDdaxcYXoWLDA+tthlw2N0oushjI28u6cDz7FI01i8q7CPJ2UxkMlbW6BE1VHThdcJpiQyb1KjBNfTGzUpGzcS8azrVxeztOl9RibVQ2EuZtR13peZSk1TLgbjPqeE/hWcjo/i0xrElQbEiNIoZsWrgXLaVdqNrZxHLLBFp7ER8uAigNZcXtaClrw/qlGYiM2IrVywrRUN6NAxQ/CYtScLK4CY0VnWg5146d6/cjmcYrj2tJ06t5iRKRibxWL8zFvoyz3Lcd9Sxr9almZK7djfh5WykyMlgWeRFbDrbF7ufxeJ6FJxAdXmyIYl5RYfmIZJniZ25HRvIeVJ9oRVN5F5oqulFzpt2cU3TINp5rKsmkUUttQ8SGTQEOp1WgtbzHtK6sCJTR3paBer4J8g9RsfGHiB0287O+/DzmTJ+PoCkUBpOmInCyv/kcZBoFhoiMQCM0jNiYREHhwRSmm8x0kydPJj9i8hRhIvynhmBX4VE6t8tocj1Gq2LDYqTERlIog1dwFnZtOEeba0fxmhNIDEgx82/IfDzyxtPitZVoq2gyr3iXlzjGh+5jRSmd/mAr9u84jmb6kKbyTpzaXY6NK1JYez+ImppmZG06jFiKjcRZR1gJaED90XasnkHfF7QPKwOldSMfOcklqKvqxO4dZxEbkEo7l3FiOxE/Kw8Vx1pRdrQFG2bnsDxp2LW2FHWVncjfeBibF+ehbN8ZNFe0ov5kE7KTpFtD3p0k5SbhmWYsRtz0DGxYWsiylaH1XDNpQlNpHbKSc5A8XcaPpGN14E4jNoqzKlBf0YU9m0uYVzorMlksi0xDnklYgZmdjZwNe9Bwth1N57p43btxorgamyJZYZqRhgRpHV5UjKqzbagtZ7l4rAbSWN5M+Hmugd8brWWyemkqloakmm4gx99IULExBBUbw8GbJFn696blYcWEDMT40fh4w1hvJZUxHbxR/YsQNakAiVPzsDJ4F42/EMvpNFaE5pla/+JJeVg6qRArphbTyA8gjsa6cGI688yks5BWhnQsZw1k+eQU3ozydkIZPJlnmiqTA3YheiId0JQCGvlOrArbxdrMHqxk7STGrwixk3OxhuvtEeKRU1IQPS2fNYP9SAjaixj/PYj2z6c4Ym2DgduIDX6a58NlMJc8piavXPYvZBmzsWxiFsuRYwZkyVwf8kTLCpbFDDSdloElU9OwLIDGFZ5rBo1Kd4gRBNKnyXQrw3n+UylOJmViBcscOamIZd1Np0BDkxfRhUo/7W4aqPTV7ub+1hTviwPTMNdvMyID0oxDtN5+K58u0fdnUbHxB8j8GVfQyOXaih7MnD4HgVNETIiocEJERjCmTQohYfCnuPDEb0Bs+BO/AfymBKEoj0LczCDqVJbxy8iIDWuAqMwiKuO+IifSBmn7SUFFSKY/kK7IOPqnKJnLxi8fMQF76RN2W9tpH4kBmbT7bKyYmItlEwoQTX8SF7gLK7guZnIG4mnn8oi7HG+5H9NNzTaP2sr+Ms+G+I8Y/12YP6EQkX70LfRXy1imaKkkBNFvMI8YvwxWkKwJEFfSL8yfwspWYAE2SPmmMs2UfKxg2eTNrDH0A/K6dmnNFJFg/Ap9aZIMipeXpdGPRk+mX+B+a0J3UcDImC+ZGFC6dClwAvMQ68fKTKC86dpq0VghT7xIXix3onT/hBzA8kn5WEJfvnxSOmLo08zYF/pcGeeSGETfMTENUSz7IFkkG5H0i5FTWLHjOchyPAVXPIVOHM9nyO9jo2JjCCo2hoM3izw5YZ6eMDeMtSxBzdrGG4kGIc2ZMsucDCiVGzua+8ZweyyDebyMpA7ZR+T16yI45EkL2UeaQeW5bpYpvIhGJYZllU0GTybSkGQCnWTeoBKsZcbNJOadTKNYSQNcFV6M1Qzuq3jMldw3mfuuDGc5abSSZlX4bkJhwjQruW5luKSRY0rZ5RXRhE4hns4jQV4Zz2PZxNEgzKup6VDkCZJoORcaZSwNyLxinp+yLIgwiDPPnlvXSpyfIMadKK/IFyHE85WuEXkOP4bnE8PvQqx8l2slj9hJ7YOflsAQsWEvO/wuw8Hjq9j4PDJIU1o2Ghns8rP2Izu1EOnbc5G6NQtJMSsx5cep8J84DVMnTEVYwGxsXJWKtK0FSNucj7QteUNIJSkD5A6QvrUQZ0rq0FQpg0edyzJecZ+uXMSGvBtlQfAXvBuFtiiY16abgEa7FjHPwCevX5fKUIIIfPqlRPoJA0W/+CuplCQEZTGtzH4pA7UZrM1TFdyfdi9vUJXZjq1H+3kM+hYJxOJXxP/IjJp2ZSWBviM+yBITIkBsvyc+UISQPJpr+YOdWC3HoS+SVuGVLEcyyyZCQsop+ctge3nDtvjGOGnd4HFlWXyHVPgkvcH4Q+bB9KacUh7xeWad+FG5HvRLITn0BdmWjzLXSJ6UkYqiIOWT7zIxl4gNXj9ee+N36XdkmgJzrgPwPAyDy3Kd4+mTpZLl+BsJ5rhMR1RsWKjY8AbmJqPx8AaT/lML+T54fOnS8MTeJq0cRnW7sN7MKK0Hlqj4q8gL4eKYnxEbdBAiKuLE0ZjvNrKeNReB5bXIIzK4NMc4xKGI0bmfP/PgNbC6QjyxBIW1nyUovkhUDAePqWLjj2kRaq6iuVa4QAfUg4aqDqyKX4cpP0yl0PDH5P9MwqbV6aivPI/WWpnkizXxWu7/J2ln/k7HVgT6qJF4Edsn974V1AQJ2qambpBl8TWSjvYm9iuBOEgGULrt74bVaisBWXyS5MFPE5yl5UREhlRSrMc/k/iZyE/ZZvkIVhyIaaHl/u54+jonRNwYoeFalpZYz3xskrld/JXZ1229VX4LOR/jX1gmd39qI8LCEhuSVq6pjNWTmUSHpnXHvF6eyOvuP/1N3JDju34TFRsWKja8BQ3WutlswSGfIjg8nYJlaMbYBso39OaVkdcyX8ffwRIblsOxhAW/u8TFUNwEiL2PwLI4MVhW93N3Qs7PqUbgum5/FRUbfwojNlxPicg8Ga2157GvsATh02Zg6o9+mDZhKuZGzMGxAxVoqr6MBjrDxnL7sdY/hzhP24Eqnsh1GQmxYTN4/9s29qnYsHyLpHG3Z/EnthAZivgK7mNg5UfW0W5FbCQGcpnYYkO6fZO5Tb5L3lLbHxArguv43kCOJz7zc2LDYrgWCDlXKy/n7c64+0On7QY5vv17qNgwqNjwFuZmE+SGE6HxqdgwN6GH2LBuetlfjONTTG0hnAb1NxDnISo/TsZGGOfwR2JD0rkJDYFlcWKwrHLOf1Zs8NOkHYHfhXmo2Phj7DewCvIOlKrTHVg8K54iI8Q86hrsF4LCrCI0115EQ2Uv6it60UiH6C4m/ixOx1foo7wiNmwsO3MUG8b2idT0jaAYRLabwG2+yz70VURaGIzfpH1Zk1m5cC2LuJA8Y+Q7ke+Wn5X9rOPaZfgS7BYOwWm7HEOOa/IX3/iHYsMJq2yfTzMUdx/qtN38Lu6/hYoNg4oNb2JuODFU66Yb6EpxYRuj8Edlk+2eBvelGLHBvAw0FEtsMH+3Mg0ix3UZjpNzc8ecp+d3pzwFO60rLzutve9fhXmo2PgyWnhNdmYeRcCPsxAwIRjTfpyKhMhE1JQ2oKX2MuopNhooNmR2UMspWrgLCnfsfN2XFU/oo0ZUbIiN2jZg2cEnuNuICwmWQ9dbgVICtz02TcZSWGMeBFlPP+SBZcvWp/3dCAGu+zvdowN+ym3dcMjxPMtlyuKQdqSwRZvTNvO7yPFVbHyCio2vxWeM/88wEmU3zsPlCJy2/2W+5Nz+5nUYFuapYuPLaK28jpxt+zDp/4IpOIIRPDkAe/Pl/TadFBtXTauGtG7I9OO2I1Qh8XehjxpRsSE42MNnsCoaFoPrZVnGJHi0DPxJe5X038K/GqHxDY77efibqNgYgooNxTdQsfHFtFbeRN2ZXqyNTceSmdHI3VGA+rJ22qs4J3lyRQaHWqjIGCnoo76x2FC+AkakqdhwR8WG4huo2PgLXDfOTV4rX3e2HW01PWit7kVrjfVOE3ex4b6f7RS96Rx9F/ooFRu+j4qNIajYUHwDFRt/AbkmlpOTINhaJWKDzm+Ylg3BaczG0HyV4aGPUrHh+6jYGIKKDcU3ULHx96HttBJbbLjjLi7cccxH+Qz0USo2fB8VG0NQsaH4Bio2/gIe14O2o2LD29BHqdjwfVRsDEHFhuIbqNgYAejsDHR8HjinV74U9+nKRWxUUmwsCvmCd6M44mAPyrdFxcYQVGwovoGKDWUM8LdfxOaIgz0o3xYVG0NQsaH4Bio2lDGAio1xgoqNIajYUHwDFRvKGEDFxjhBxcYQVGwovoGKDWUMoGJjnKBiYwgqNhTfQMWGMgZQsTFOULExBBUbim+gYkMZA6jYGCeo2BiCig3FN1CxoYwBVGyME1RsDEHFhuIbqNhQxgAqNsYJKjaGoGJD8Q1UbChjABUb4wQVG0NQsaH4Bio2lDGAio1xgoqNIajYUHyCBBp3XHAeVlBsTPznNGxMotg4pmJDGV3IVOUyJbwlNi6h4mgvFgRvUbHha6jYGIKKDcUnELER7xIbk1xio1zFhjJqkXejXDRiQ1/E5oOo2BiCig3FJ1CxoYwtVGz4NCo2hqBiQ/EJVGwoYwsVGz6Nio0hqNhQfAIVG8rYQsWGT6NiYwgqNhSfQMWGMrZQseHTqNgYgooNxSdQsaGMLTzFRhHFhtzLecRJUHyOofagfGNUbAxBxYbiE6jYUMYWnmIj36Nl40tEh7NNKN8QFRtD+O7Dhw8YOfrRL3zsx8cPH3H5ws+or+pBc9VFOv2vR3vFVXRUXCc30XXuNlbOzUFsaDbiQvIUHyU+mM7aJTYm/sMfGxJTcO5oPVoqz7uMWIz56oBBK8q35TqayntRfuSCmWcjjuIiNiSH97INK0iffP8czjahfEOMPyowJAQX0T8VISawAHOmJWPqv2YjZe1OVBxrRzPvgeZyxi3eEyI6hKH3yt9HYnBjdS+622+hv/+jFaeJxGznWD7yjBuxIS0b8SG8AZxuDGXMo2JDGVt4io1CIzbiPUSGfLdxX/8pzjahfENUbAxhXIiNpLlZiA7LRHRwtuKjxAfl05hzsNw/TcWGMgZwFxubWRnKRmxw+idECyF/gmDxbbnKqCJ/AOk+Eca92Hj//j1Gjnd4J3x4hw/vP+DS+Tuoq+xGU2Uvnf7XobWiF2388drKL1F08EKXXsL6KBrjrA1YGroKCwISMW9qPOb4xZrPef6KLzDfj59krl8cAr6PwJakDJQfbURL+QXeEzRgN2yjVpRvBwMA/VTFsU7EL9qOFRGbsSiA/onBaL6/xTwyd4AkzJ2ahDmOJCujkpWGuQZ+90tC6MTF9E9zsGNtIc4daUHTuV6D3AvuON8zfx2JwQ1VF9DVdhPv3n2w4jSRmO0cy0cenxQbBgkypKmsG6f3V2NjQhoipizA1H+EYeL/BGHC/wvAxP8OVHyMSfxtZwcsQfamXag81kyxwVoDjU3FhjIaaSy7gJP7a7AuJhMhPy7GlP+dNcBk4f8sJv7vzD9gujKKmfS/EfwMh98/p2NhRByyt+xF7enOISLDxule+TuMCrHR39+PkaMPfcL7Przvf4+LPbdRW9GFxooLaP7KNJWfRwOFRkNpF86xhru/4CTSNxZh+5pcbFudo/gg8tvuWJuHjE07UVJciprT7Y61BkUZLTSUnkfl8TbsyTnO+zcf21blYvvqvCFs5frPk62MasRH8bfkb5y9dR+O7akyv73dsuGJ073yd5AYXF95Hp2tN9DX996K00RitnMsH3l8Wmw0UmzUU2yI4Kg904Gzh+tw9lAdSg/XKz5I2ZEGlB9rQsXxZtSd7TS/vzcMV1FGAmnVaCw7T9/UheqT7SgraULViTbev60DlB9r+ZNI2jZllFN6uBEV/K3q+JvL7+8pMmyc7pe/w6gQG+/evcPI8RZvhf636H/Xj97un1BT3okGBn4J/l+TxvIei3M9aCij4HBR78LzuzK2aTjXzd+a8De3lq3fvvGcCE8asKKMQuT+bKDgaDhHjN+iAHHR5KLRrP8DGKCU0Y/5rYntl+TTCc/75O8i91ZdRQ86Wq7j7dt+K04TidnOsXzk8VmxIdgBR0RFXSlrup+Ij24Xg8JDGcsM/p6Dv7Esq9hQRidybzaUWYJYfKQnTj5tePQ+Hwt4ign7uyfu+4wEcj+p2PgK2CLDwGWnNIrvMfC7m99cnbEyepHZRJ1wSqv4Dt4UGO6MCrHR19eHkeMN3gjv3uBd3ztc6LpFsdHBExVn/+0wzeus9Rq47JRG8T3cf/emcxQgYtCKMhqpYFBwwimt4jPImB0bp+0jhcTguoputDdfw5s376w4TSRmO8fykUfFhuLTDP72/O5ghIoyKnAbozGAUzrFpxhXYuPt27cYOV7jtdD3Gn1v+3C+6yaqz3WgXhy+onxLpG/czbAVRVHGCxKDa8u7KDau4vXrPitOE4nZzrF85FGxoYwPVGwoijJOGRVi482bNxg5XuGV8PYV3r55i/OdN1BV1o66MvtJAUX5BpT2uDivKIoy7pAYXHOuC21NV/Dq1VsrThOJ2c6xfORRsaH4Pg7GpyiKMl5QsaEoXwMH41MURRkvjAqx8fr1a4wcL/FSePMSb16/QU/HdVSWtqG2tMtMG64o34YeRVGUcYvE4OqyTrQ2XsHLl2+sOE0kZjvH8pFHxYYyDnA2QEVRlPHAqBAbr169wsjxAi+E1y/w+tVrdLdfo9hoRU1pp5kuXFG+CWe7FUVRxi0Sg6vKOtDScBkvXry24jSRmO0cy0ceFRuK7+NgfIqiKOOFUSE2Xr58iZHjOZ4Lr57j1ctX6Gq7hoqzLag528ETVpRvxJkuRVGUcYvE4KrSdjTXX8Lz56+sOE0kZjvH8pFHxYbi+zgYn6IoynhBxYaifA0cjE9RFGW8MCrExosXLzByPMMz4eUzvHzxEp2tV1F+phnVZ9pRqyjfitOdiqIo4xaJwZVn29BUfxHPnr204jSRmO0cy0eeERYbVEssvMVLdLVdp9hoMScq1NjOX1G+BqeFjk+MTlEUZbxRQz9YdWZQbDw3sfq5idnOsXzk+e75cx50RHlqePr8BTpbr+Pc6VZUnW4zVJMaRfmqdCiKoox7KhmLm+p68fTpC4+Y/XVQsaH4OM6GpyiKMp5QsaEoXsXZ8BRFUcYT31xsPHv2DCPLE8NTZt7echVlp1t4km0GW3AoylfhlNCuKIoy7qmg2GisvYAnT557xOyvg4oNxXdRsaEoimL45mLj6dOnGFkeGx4/fUaxcRnnTjUNiA2h4lSroYrYQUGW3RluvaJ8GXIPtTvwJfeW0/7D4bT/cDjtPxxO+w+H0/7D4bT/cDjtPxxO+w+H0/7D4bT/cDjtPxxO+w+H0/7D4bS/E8Pdp8PhlIcTmq+FL+craZ3yGIrE3cbaS3j8+NlAnHaO4d7BC2LjiUHERnNjN04fK0fpCXJykDLh1KfrDJLuRMWfx3P/4XDad1gc9h8Ox/2Hw2H/4XDcfzgc9h8Ox/2Hw2H/4XDcfxic9h8Op/2Hw2l/wSmtoijKOOPU8QpUlDfh8SNXnH7CT8Exjo883z158gTe4DFP4rdfnuDez7/i/s8PBnhw95cBhq771XD/zp/g58H9/ximdcrDCc3X4kvyvTNa8/2C/RVFUXyYu+T27Qd4/PgpnjxmnDZw2SF+ewMviY2neETk03Pb48ePLaiuZLt8DuK2/Q9h2k/2/RxfkK+kdczDASmDUx5OfFG+DvsPh+b7eZzyVRRFGYf8/vsj+kVXbDaiY2iM9hYjLDYGC27EhutE3J3/YNqh692/K4rX8JqQcth/OJz2Hw6n/YfDaf/hcNp/OJz2Hw6n/YfDaf/hcNp/OJz2Hw6n/YfDaf/hcNrfkS/0fY55OKH5WoyGfJnWMQ8nviBfSeuYhwNM/+SJm9hwi8Vfg++GFH6EeGQ+rYv26JGc4NA0iqIoiqJ4HysOk0ey7JzGm3hNbAiiZpzWK4qiKIoyfvhO1I63kAM4rVcURVEUZfzgVbGhKIqiKIry3cOHD6EoiqIoiuItVGwoiqIoiuJVVGwoiqIoiuJVvvv999+hKIqiKIriLVRsKIqiKIriVb777bffoCiKoiiK4i1UbCiKoiiK4lW++/XXX6EoiqIoiuItVGwoiqIoiuJVVGwoiqIoiuJVvvvll1+gKIqiKIriLVRsKIqiKIriVb578OABFEVRFEVRvIWKDUVRFEVRvIqKDUVRFEVRvMp39+/fh6IoiqIoirdQsaEoiqIoilf57t69e1AURVEURfEWKjYURVEURfEq3929exeKoiiKoijeQsWGoiiKoiheRcWGoiiKoihe5buff/4ZiqIoiqIo3kLFhqIoiqIoXuW7O3fuQFEURVEUxTvcwf8HMYop1tNSSu8AAAAASUVORK5CYII=)"
      ]
    },
    {
      "cell_type": "code",
      "metadata": {
        "colab": {
          "base_uri": "https://localhost:8080/"
        },
        "id": "63RlvTIWuvYr",
        "outputId": "f56ca7d7-d803-43de-e8db-4cfad7280275"
      },
      "source": [
        "number1 = []\r\n",
        "print(type(number1))\r\n",
        "\r\n",
        "number2 = list(range(10))\r\n",
        "print(type(number2))\r\n",
        "\r\n",
        "character = list('hello')\r\n",
        "print(type(character))"
      ],
      "execution_count": null,
      "outputs": [
        {
          "output_type": "stream",
          "text": [
            "<class 'list'>\n",
            "<class 'list'>\n",
            "<class 'list'>\n"
          ],
          "name": "stdout"
        }
      ]
    },
    {
      "cell_type": "code",
      "metadata": {
        "colab": {
          "base_uri": "https://localhost:8080/"
        },
        "id": "f2BJiKnqve4B",
        "outputId": "69ca5663-e520-4f59-ac9c-c1d2c50aad7b"
      },
      "source": [
        "isinstance(number1, list)"
      ],
      "execution_count": null,
      "outputs": [
        {
          "output_type": "execute_result",
          "data": {
            "text/plain": [
              "True"
            ]
          },
          "metadata": {
            "tags": []
          },
          "execution_count": 11
        }
      ]
    },
    {
      "cell_type": "code",
      "metadata": {
        "colab": {
          "base_uri": "https://localhost:8080/"
        },
        "id": "EuhlEv1QvjIJ",
        "outputId": "e162a559-530c-400c-b6e6-d43153edcec7"
      },
      "source": [
        "number1 == list"
      ],
      "execution_count": null,
      "outputs": [
        {
          "output_type": "execute_result",
          "data": {
            "text/plain": [
              "False"
            ]
          },
          "metadata": {
            "tags": []
          },
          "execution_count": 12
        }
      ]
    },
    {
      "cell_type": "markdown",
      "metadata": {
        "id": "_b9MzShwvvbt"
      },
      "source": [
        "### 인스턴스 이해 - 실습(1)\r\n",
        "\r\n",
        "https://programmers.co.kr/learn/courses/2/lessons/344"
      ]
    },
    {
      "cell_type": "code",
      "metadata": {
        "id": "L7DE2Uctvvxg"
      },
      "source": [
        "list1 = [1, 2, 3]\r\n",
        "list2 = [1, 2, 3]\r\n",
        "\r\n",
        "if list1 is list1:\r\n",
        "    print(\"당연히 list1과 list1은 같은 인스턴스입니다.\")\r\n",
        "\r\n",
        "if list1 == list2: # 값 비교\r\n",
        "    print(\"list1과 list2의 값은 같습니다.\")\r\n",
        "    if list1 is list2: # 객체 비교\r\n",
        "        print(\"그리고 list1과 list2는 같은 인스턴스입니다.\")\r\n",
        "    else:\r\n",
        "        print(\"하지만 list1과 list2는 다른 인스턴스입니다.\")"
      ],
      "execution_count": null,
      "outputs": []
    },
    {
      "cell_type": "markdown",
      "metadata": {
        "id": "QqPEVxWHwLsh"
      },
      "source": [
        "### 인스턴스 이해 - 실습(2)\r\n",
        "\r\n",
        "https://programmers.co.kr/learn/courses/2/lessons/869"
      ]
    },
    {
      "cell_type": "code",
      "metadata": {
        "id": "Sflqq_A7wMOZ"
      },
      "source": [
        "list1 = list(range(10))\r\n",
        "list2 = [1, 2, 3]\r\n",
        "\r\n",
        "if isinstance( \r\n",
        "list1\r\n",
        " , list) and isinstance( \r\n",
        "list2\r\n",
        " , list):\r\n",
        "    print(\"list1과 list2는 둘 다 list클래스 입니다.\")"
      ],
      "execution_count": null,
      "outputs": []
    },
    {
      "cell_type": "markdown",
      "metadata": {
        "id": "38KaHuN0wWtT"
      },
      "source": [
        "### 클래스 만들기\r\n",
        "클래스 선언\r\n",
        "```\r\n",
        "class Human( ):\r\n",
        "    '''사람'''\r\n",
        "```\r\n",
        "\r\n",
        "인스턴스 생성\r\n",
        "```\r\n",
        "person1 = Human( )\r\n",
        "person2 = Human( )\r\n",
        "```\r\n",
        "- 클래스와 인스턴스를 이용하면 데이터와 코드를 사람이 이해하기 쉽게 포장할 수 있다.\r\n",
        "\r\n",
        "https://programmers.co.kr/learn/courses/2/lessons/323"
      ]
    },
    {
      "cell_type": "code",
      "metadata": {
        "colab": {
          "base_uri": "https://localhost:8080/"
        },
        "id": "U0UucjNZwXAU",
        "outputId": "bd7db9d9-b704-487e-975f-779a62d1ef5b"
      },
      "source": [
        "class Human():\r\n",
        "  ''''''\r\n",
        "\r\n",
        "person1 = Human()\r\n",
        "person2 = Human()\r\n",
        "person1.language = '한국어'\r\n",
        "person2.language = 'English'\r\n",
        "\r\n",
        "print(person1.language)\r\n",
        "print(person2.language)\r\n",
        "\r\n",
        "person1.name = '서울시민'\r\n",
        "person2.name = '뉴욕시민'\r\n",
        "\r\n",
        "def speak(person):\r\n",
        "  print(\"{}이 {}로 말을 합니다.\".format(person.name,person.language))\r\n",
        "\r\n",
        "speak(person1)\r\n",
        "speak(person2)\r\n",
        "\r\n",
        "Human.speak = speak\r\n",
        "person1.speak()\r\n",
        "person2.speak()"
      ],
      "execution_count": null,
      "outputs": [
        {
          "output_type": "stream",
          "text": [
            "한국어\n",
            "English\n",
            "서울시민이 한국어로 말을 합니다.\n",
            "뉴욕시민이 English로 말을 합니다.\n",
            "서울시민이 한국어로 말을 합니다.\n",
            "뉴욕시민이 English로 말을 합니다.\n"
          ],
          "name": "stdout"
        }
      ]
    },
    {
      "cell_type": "markdown",
      "metadata": {
        "id": "ycPeAQ1pwxSD"
      },
      "source": [
        "### 클래스 만들기 - 실습\r\n",
        "\r\n",
        "https://programmers.co.kr/learn/courses/2/lessons/345"
      ]
    },
    {
      "cell_type": "code",
      "metadata": {
        "id": "EXLFNUk2wxqN"
      },
      "source": [
        "class Car():\r\n",
        "    '''자동차'''\r\n",
        "\r\n",
        "taxi = Car()\r\n",
        "\r\n",
        "# taxi.name에 \"택시\"라는 값을 저장하세요.\r\n",
        "taxi.name = '택시'"
      ],
      "execution_count": null,
      "outputs": []
    },
    {
      "cell_type": "markdown",
      "metadata": {
        "id": "sK5Jhddmphxg"
      },
      "source": [
        "### 모델링\r\n",
        "모델링(modeling)\r\n",
        "- 클래스로 현실의 개념을 표현하는 것\r\n",
        "\r\n",
        "https://programmers.co.kr/learn/courses/2/lessons/324"
      ]
    },
    {
      "cell_type": "code",
      "metadata": {
        "id": "7Ep7t-yypmQp"
      },
      "source": [
        "class Human():\r\n",
        "    '''인간'''\r\n",
        "\r\n",
        "# person = Human()\r\n",
        "# person.name = '정수'\r\n",
        "# person.weight = 60.5\r\n",
        "\r\n",
        "def createHuman(name, weight):\r\n",
        "  person = Human()\r\n",
        "  person.name = name\r\n",
        "  person.weight = weight\r\n",
        "  return person\r\n",
        "\r\n",
        "person = createHuman('철수','60.5')"
      ],
      "execution_count": 2,
      "outputs": []
    },
    {
      "cell_type": "code",
      "metadata": {
        "colab": {
          "base_uri": "https://localhost:8080/"
        },
        "id": "91f2TwjVpuug",
        "outputId": "21c3e9e5-7da8-47fb-e903-29e71645120c"
      },
      "source": [
        "class Human():\r\n",
        "    '''인간'''\r\n",
        "\r\n",
        "# person = Human()\r\n",
        "# person.name = '정수'\r\n",
        "# person.weight = 60.5\r\n",
        "\r\n",
        "def createHuman(name, weight):\r\n",
        "  person = Human()\r\n",
        "  person.name = name\r\n",
        "  person.weight = weight\r\n",
        "  return person\r\n",
        "\r\n",
        "Human.create = createHuman\r\n",
        "\r\n",
        "person = Human.create('철수',60.5)\r\n",
        "\r\n",
        "def eat(person):\r\n",
        "  person.weight += 0.1\r\n",
        "  print('{}가 먹어서 {}kg이 되었습니다.'.format(person.name, person.weight))\r\n",
        "\r\n",
        "def walk(person):\r\n",
        "  person.weight -= 0.1\r\n",
        "  print('{}가 걸어서 {}kg이 되었습니다.'.format(person.name, person.weight))\r\n",
        "\r\n",
        "Human.eat = eat\r\n",
        "Human.walk = walk\r\n",
        "\r\n",
        "person.walk()\r\n",
        "person.eat()\r\n",
        "person.walk()"
      ],
      "execution_count": 4,
      "outputs": [
        {
          "output_type": "stream",
          "text": [
            "철수가 걸어서 60.4kg이 되었습니다.\n",
            "철수가 먹어서 60.5kg이 되었습니다.\n",
            "철수가 걸어서 60.4kg이 되었습니다.\n"
          ],
          "name": "stdout"
        }
      ]
    },
    {
      "cell_type": "markdown",
      "metadata": {
        "id": "HRzbBgePpmfj"
      },
      "source": [
        "### 메소드 이해하기\r\n",
        "메소드(Method)\r\n",
        "- 메소드는 함수와 비슷하다.\r\n",
        "- 클래스에 묶여서 클래스의 인스턴스와 관계되는 일을 하는 함수\r\n",
        "\r\n",
        "클래스 내부에 함수를 포함시킨 예\r\n",
        "```\r\n",
        "class Human( ):\r\n",
        "    '''인간'''\r\n",
        "    def create( name, weight ): # 다음 강의에서 자세히 설명\r\n",
        "        person = Human()\r\n",
        "        person.name = name\r\n",
        "        person.weight = weight\r\n",
        "        return person\r\n",
        "\r\n",
        "    def eat( self ):\r\n",
        "        self.weight += 0.1\r\n",
        "        print(\"{}가 먹어서 {}kg이 되었습니다\".format(self.name, self.weight))\r\n",
        "\r\n",
        "    def walk( self ):\r\n",
        "        self.weight -= 0.1\r\n",
        "        print(\"{}가 걸어서 {}kg이 되었습니다\".format(self.name, self.weight))\r\n",
        "\r\n",
        "person = Human.create(\"철수\", 60.5)\r\n",
        "person.eat()\r\n",
        "```\r\n",
        "\r\n",
        "self\r\n",
        "- 메소드의 첫번째 인자\r\n",
        "- 인스턴스의 매개변수를 전달 할 때는 self 매개변수는 생략하고 전달\r\n",
        "\r\n",
        "https://programmers.co.kr/learn/courses/2/lessons/325"
      ]
    },
    {
      "cell_type": "code",
      "metadata": {
        "colab": {
          "base_uri": "https://localhost:8080/"
        },
        "id": "YWDBmpwtpm1M",
        "outputId": "cd020105-82c6-45b1-9811-0e337bfba556"
      },
      "source": [
        "class Human():\r\n",
        "  '''인간'''\r\n",
        "  def create(name, weight):\r\n",
        "    person = Human()\r\n",
        "    person.name = name\r\n",
        "    person.weight = weight\r\n",
        "    return person\r\n",
        "\r\n",
        "  def eat(person):\r\n",
        "    person.weight += 0.1\r\n",
        "    print('{}가 먹어서 {}kg이 되었습니다.'.format(person.name, person.weight))\r\n",
        "\r\n",
        "  def walk(person):\r\n",
        "    person.weight -= 0.1\r\n",
        "    print('{}가 걸어서 {}kg이 되었습니다.'.format(person.name, person.weight))\r\n",
        "\r\n",
        "person = Human.create('철수',60.5)\r\n",
        "\r\n",
        "person.walk() # 인스턴스의 함수 호출 == 메서드 호출\r\n",
        "person.eat()\r\n",
        "person.walk()"
      ],
      "execution_count": 7,
      "outputs": [
        {
          "output_type": "stream",
          "text": [
            "철수가 걸어서 60.4kg이 되었습니다.\n",
            "철수가 먹어서 60.5kg이 되었습니다.\n",
            "철수가 걸어서 60.4kg이 되었습니다.\n"
          ],
          "name": "stdout"
        }
      ]
    },
    {
      "cell_type": "code",
      "metadata": {
        "colab": {
          "base_uri": "https://localhost:8080/"
        },
        "id": "T4kzz2GmsKP3",
        "outputId": "a3fed41e-8485-43e7-93b0-eb2dabd225b2"
      },
      "source": [
        "class Human():\r\n",
        "  '''인간'''\r\n",
        "  def create(name, weight):\r\n",
        "    person = Human()\r\n",
        "    person.name = name\r\n",
        "    person.weight = weight\r\n",
        "    return person\r\n",
        "\r\n",
        "  def eat(self):\r\n",
        "    self.weight += 0.1\r\n",
        "    print('{}가 먹어서 {}kg이 되었습니다.'.format(self.name, self.weight))\r\n",
        "\r\n",
        "  def walk(person):\r\n",
        "    self.weight -= 0.1\r\n",
        "    print('{}가 걸어서 {}kg이 되었습니다.'.format(self.name, self.weight))\r\n",
        "  \r\n",
        "  def speak(self, message):\r\n",
        "    print(message)\r\n",
        "\r\n",
        "person = Human.create('철수',60.5)\r\n",
        "\r\n",
        "eat(person)\r\n",
        "person.speak('안녕하세요')"
      ],
      "execution_count": 12,
      "outputs": [
        {
          "output_type": "stream",
          "text": [
            "철수가 먹어서 60.6kg이 되었습니다.\n",
            "안녕하세요\n"
          ],
          "name": "stdout"
        }
      ]
    },
    {
      "cell_type": "code",
      "metadata": {
        "colab": {
          "base_uri": "https://localhost:8080/",
          "height": 172
        },
        "id": "ZlVEA7FzsbhO",
        "outputId": "50d2a32e-37e9-410b-fe1f-28df06f2f031"
      },
      "source": [
        "eat()"
      ],
      "execution_count": 10,
      "outputs": [
        {
          "output_type": "error",
          "ename": "TypeError",
          "evalue": "ignored",
          "traceback": [
            "\u001b[0;31m---------------------------------------------------------------------------\u001b[0m",
            "\u001b[0;31mTypeError\u001b[0m                                 Traceback (most recent call last)",
            "\u001b[0;32m<ipython-input-10-f29541c04c6f>\u001b[0m in \u001b[0;36m<module>\u001b[0;34m()\u001b[0m\n\u001b[0;32m----> 1\u001b[0;31m \u001b[0meat\u001b[0m\u001b[0;34m(\u001b[0m\u001b[0;34m)\u001b[0m\u001b[0;34m\u001b[0m\u001b[0;34m\u001b[0m\u001b[0m\n\u001b[0m",
            "\u001b[0;31mTypeError\u001b[0m: eat() missing 1 required positional argument: 'person'"
          ]
        }
      ]
    },
    {
      "cell_type": "code",
      "metadata": {
        "colab": {
          "base_uri": "https://localhost:8080/"
        },
        "id": "oxGxiv3RsdZl",
        "outputId": "f649832f-bfc2-4159-8639-29a539287413"
      },
      "source": [
        "person.eat() "
      ],
      "execution_count": 11,
      "outputs": [
        {
          "output_type": "stream",
          "text": [
            "철수가 먹어서 60.7kg이 되었습니다.\n"
          ],
          "name": "stdout"
        }
      ]
    },
    {
      "cell_type": "markdown",
      "metadata": {
        "id": "S7iBsw0otBbh"
      },
      "source": [
        "### 메소드 이해하기 - 실습\r\n",
        "\r\n",
        "https://programmers.co.kr/learn/courses/2/lessons/346"
      ]
    },
    {
      "cell_type": "code",
      "metadata": {
        "id": "hLAJ38UmtBwB"
      },
      "source": [
        "class Car():\r\n",
        "    '''자동차'''\r\n",
        "    def run(self):\r\n",
        "        print(\"{}가 달립니다.\".format(self.name))\r\n",
        "\r\n",
        "taxi = Car()\r\n",
        "taxi.name = \"택시\"\r\n",
        "taxi.run()"
      ],
      "execution_count": null,
      "outputs": []
    },
    {
      "cell_type": "markdown",
      "metadata": {
        "id": "IWEddiuKtOwU"
      },
      "source": [
        "### 특수한 메소드\r\n",
        "초기화 함수\r\n",
        "- \\_\\_init__ : 인스턴스를 만들 때 실행되는 함수\r\n",
        "\r\n",
        "문자열화 함수\r\n",
        "- \\_\\_str__ : 인스턴스 자체를 출력 할 때의 형식을 지정해주는 함수\r\n",
        "\r\n",
        "```\r\n",
        "class Human( ):\r\n",
        "    '''인간'''\r\n",
        "    def __init__( self, name, weight ):\r\n",
        "        '''초기화 함수'''\r\n",
        "        self.name = name\r\n",
        "        self.weight = weight\r\n",
        "\r\n",
        "    def __str__( self )\r\n",
        "        '''문자열화 함수\r\n",
        "        return \"{} ( 몸무게 {}kg )\".format( self.name, self.weight )\r\n",
        "\r\n",
        "person = Human( \"사람\", 60.5 ) # 초기화 함수 사용\r\n",
        "print( person ) # 문자열화 함수 사용\r\n",
        "```\r\n",
        "\r\n",
        "https://programmers.co.kr/learn/courses/2/lessons/326"
      ]
    },
    {
      "cell_type": "code",
      "metadata": {
        "colab": {
          "base_uri": "https://localhost:8080/"
        },
        "id": "1FoJSaBktPJF",
        "outputId": "bf9e9d0c-a0a2-43d7-f1cc-a2a29faa1d27"
      },
      "source": [
        "class Human():\r\n",
        "  '''인간'''\r\n",
        "\r\n",
        "  def __init__(self, name, weight):\r\n",
        "    '''초기화 함수 : 인스턴스를 만들 때 실행되는 함수'''\r\n",
        "    print('__init__ 실행')\r\n",
        "    # create 대체\r\n",
        "    self.name = name\r\n",
        "    self.weight = weight\r\n",
        "    # print('이름은 {}, 몸무게는 {}'.format(self.name, self.weight))\r\n",
        "  \r\n",
        "  def __str__(self):\r\n",
        "    '''문자열화 함수 : 인스턴스 자체를 출력할 때의 형식을 지정해주는 함수'''\r\n",
        "    return '{}의 몸무게 {}kg'.format(self.name, self.weight)\r\n",
        "\r\n",
        "  def eat(self):\r\n",
        "    self.weight += 0.1\r\n",
        "    print('{}가 먹어서 {}kg이 되었습니다.'.format(self.name, self.weight))\r\n",
        "\r\n",
        "  def walk(self):\r\n",
        "    self.weight -= 0.1\r\n",
        "    print('{}가 걸어서 {}kg이 되었습니다.'.format(self.name, self.weight))\r\n",
        "  \r\n",
        "  def speak(self, message):\r\n",
        "    print(message)\r\n",
        "\r\n",
        "person = Human('철수',60.5)\r\n",
        "print(person.name, person.weight)\r\n",
        "print(person)"
      ],
      "execution_count": 17,
      "outputs": [
        {
          "output_type": "stream",
          "text": [
            "__init__ 실행\n",
            "철수 60.5\n",
            "철수의 몸무게 60.5kg\n"
          ],
          "name": "stdout"
        }
      ]
    },
    {
      "cell_type": "markdown",
      "metadata": {
        "id": "L8JSCi_hxBQE"
      },
      "source": [
        "### 특수한 메소드 - 실습\r\n",
        "\r\n",
        "https://programmers.co.kr/learn/courses/2/lessons/347"
      ]
    },
    {
      "cell_type": "code",
      "metadata": {
        "id": "32hpxhYtxBnT"
      },
      "source": [
        "class Human():\r\n",
        "    \r\n",
        "    def __init__(self, name, weight):\r\n",
        "        self.name = name\r\n",
        "        self.weight = weight\r\n",
        "    \r\n",
        "    def __str__(self):\r\n",
        "        return \"{} (몸무게 {}kg)\".format(self.name, self.weight)\r\n",
        "    \r\n",
        "    def eat(self):\r\n",
        "        self.weight += 0.1\r\n",
        "        print(\"{}가 먹어서 {}kg이 되었습니다.\".format(self.name, self.weight))\r\n",
        "    \r\n",
        "    def walk(self):\r\n",
        "        self.weight -= 0.1\r\n",
        "        print(\"{}가 걸어서 {}kg이 되었습니다.\".format(self.name, self.weight))\r\n",
        "\r\n",
        "# 아래에서 person을 이름과 몸무게를 가지는 Human클래스의 인스턴스로 만들어보세요.\r\n",
        "person = Human('사람', 60.5)\r\n",
        "person.walk()\r\n",
        "person.walk()\r\n",
        "person.eat()\r\n",
        "print(person)"
      ],
      "execution_count": null,
      "outputs": []
    },
    {
      "cell_type": "markdown",
      "metadata": {
        "id": "pHzrZfshxZjm"
      },
      "source": [
        "## 파트16. 상속과 다형성"
      ]
    },
    {
      "cell_type": "markdown",
      "metadata": {
        "id": "CZxEXtJBxa6J"
      },
      "source": [
        "### 상속\r\n",
        "상속(Inheritance)\r\n",
        "- 상속하는 클래스를 부모 클래스\r\n",
        "- 상속받는 클래스를 자식 클래스\r\n",
        "- 자식 클래스가 부모 클래스의 내용을 가져다 쓸 수 있는 것\r\n",
        "\r\n",
        "```\r\n",
        "class Animal( ):\r\n",
        "    def walk( self ):\r\n",
        "        print( \"걷는다\" )\r\n",
        "\r\n",
        "    def eat( self ):\r\n",
        "        print( \"먹는다\" )\r\n",
        "\r\n",
        "class Human( Animal ):\r\n",
        "    def wave( self ):\r\n",
        "        print( \"손을 흔든다\" )\r\n",
        "\r\n",
        "class Dog( Animal ):\r\n",
        "    def wag( self ):\r\n",
        "        print( \"꼬리를 흔든다\" )\r\n",
        "```"
      ]
    },
    {
      "cell_type": "code",
      "metadata": {
        "colab": {
          "base_uri": "https://localhost:8080/"
        },
        "id": "525HyXZ-xbPx",
        "outputId": "2e1556d0-3305-4849-d385-7edfeb426552"
      },
      "source": [
        "class Human():\r\n",
        "  def walk(self):\r\n",
        "    print('걷는다')\r\n",
        "  def eat(self):\r\n",
        "    print('먹는다')\r\n",
        "  def wave(self):\r\n",
        "    print('손을 흔든다')\r\n",
        "\r\n",
        "class Dog():\r\n",
        "  def walk(self):\r\n",
        "    print('걷는다')\r\n",
        "  def eat(self):\r\n",
        "    print('먹는다')\r\n",
        "  def wag(self):\r\n",
        "    print('꼬리를 흔든다')\r\n",
        "\r\n",
        "person = Human()\r\n",
        "person.walk()\r\n",
        "person.eat()\r\n",
        "person.wave()\r\n",
        "\r\n",
        "dog = Dog()\r\n",
        "dog.walk()\r\n",
        "dog.eat()\r\n",
        "dog.wag()"
      ],
      "execution_count": 18,
      "outputs": [
        {
          "output_type": "stream",
          "text": [
            "걷는다\n",
            "먹는다\n",
            "손을 흔든다\n",
            "걷는다\n",
            "먹는다\n",
            "꼬리를 흔든다\n"
          ],
          "name": "stdout"
        }
      ]
    },
    {
      "cell_type": "code",
      "metadata": {
        "colab": {
          "base_uri": "https://localhost:8080/"
        },
        "id": "-l7VTzY3yXl8",
        "outputId": "0887ea05-2774-4ad9-88b6-dc69e79a12b2"
      },
      "source": [
        "class Animal(): # 부모 클래스\r\n",
        "  def walk(self):\r\n",
        "    print('걷는다')\r\n",
        "  def eat(self):\r\n",
        "    print('먹는다')\r\n",
        "\r\n",
        "class Human(Animal): # 자식 클래스\r\n",
        "  def wave(self):\r\n",
        "    print('손을 흔든다')\r\n",
        "\r\n",
        "class Dog(Animal): # 자식 클래스\r\n",
        "  def wag(self):\r\n",
        "    print('꼬리를 흔든다')\r\n",
        "\r\n",
        "person = Human()\r\n",
        "person.walk()\r\n",
        "person.eat()\r\n",
        "person.wave()\r\n",
        "\r\n",
        "dog = Dog()\r\n",
        "dog.walk()\r\n",
        "dog.eat()\r\n",
        "dog.wag()"
      ],
      "execution_count": 20,
      "outputs": [
        {
          "output_type": "stream",
          "text": [
            "걷는다\n",
            "먹는다\n",
            "손을 흔든다\n",
            "걷는다\n",
            "먹는다\n",
            "꼬리를 흔든다\n"
          ],
          "name": "stdout"
        }
      ]
    },
    {
      "cell_type": "markdown",
      "metadata": {
        "id": "_cxAi7upzB4N"
      },
      "source": [
        "### 상속 - 실습\r\n",
        "\r\n",
        "https://programmers.co.kr/learn/courses/2/lessons/348"
      ]
    },
    {
      "cell_type": "code",
      "metadata": {
        "id": "ZOBNi6etzCRP"
      },
      "source": [
        "class Car():\r\n",
        "    def run(self):\r\n",
        "        print(\"차가 달립니다.\")\r\n",
        "        \r\n",
        "class Truck(Car):\r\n",
        "    def load(self):\r\n",
        "        print('짐을 실었습니다.')"
      ],
      "execution_count": 21,
      "outputs": []
    },
    {
      "cell_type": "markdown",
      "metadata": {
        "id": "o1rGo-Rdzesv"
      },
      "source": [
        "### 단순 오버라이드\r\n",
        "오버라이드(Override)\r\n",
        "- 같은 이름을 가진 메소드를 덮어 쓴다는 의미\r\n",
        "\r\n",
        "```\r\n",
        "class Animal( ):\r\n",
        "    def greet( self ):\r\n",
        "        print( \"인사한다\" )\r\n",
        "\r\n",
        "class Human( Animal ):\r\n",
        "    def greet( self ):\r\n",
        "        print( \"손을 흔든다\" )\r\n",
        "\r\n",
        "class Dog( Animal ):\r\n",
        "    def greet( self ):\r\n",
        "        print( \"꼬리를 흔든다\" )\r\n",
        "```\r\n",
        "\r\n",
        "https://programmers.co.kr/learn/courses/2/lessons/329"
      ]
    },
    {
      "cell_type": "code",
      "metadata": {
        "colab": {
          "base_uri": "https://localhost:8080/"
        },
        "id": "oz7Sp2ITzfDZ",
        "outputId": "3a34d402-e11c-4e68-9b41-3fb5439f38f0"
      },
      "source": [
        "class Animal(): # 부모 클래스\r\n",
        "  def walk(self):\r\n",
        "    print('걷는다')\r\n",
        "  def eat(self):\r\n",
        "    print('먹는다')\r\n",
        "  def greet(self):\r\n",
        "    print('인사한다')\r\n",
        "\r\n",
        "class Cow(Animal):\r\n",
        "  '''소'''\r\n",
        "\r\n",
        "class Human(Animal): \r\n",
        "  def wave(self):\r\n",
        "    print('손을 흔든다')\r\n",
        "  def greet(self): # 부모의 메서드 오바라이드\r\n",
        "    self.wave()\r\n",
        "\r\n",
        "class Dog(Animal): \r\n",
        "  def wag(self):\r\n",
        "    print('꼬리를 흔든다')\r\n",
        "  def greet(self): # 부모의 메서드 오바라이드\r\n",
        "    self.wag()\r\n",
        "\r\n",
        "person = Human()\r\n",
        "person.greet()\r\n",
        "\r\n",
        "dog = Dog()\r\n",
        "dog.greet()\r\n",
        "\r\n",
        "cow = Cow()\r\n",
        "cow.greet()"
      ],
      "execution_count": 25,
      "outputs": [
        {
          "output_type": "stream",
          "text": [
            "손을 흔든다\n",
            "꼬리를 흔든다\n",
            "인사한다\n"
          ],
          "name": "stdout"
        }
      ]
    },
    {
      "cell_type": "markdown",
      "metadata": {
        "id": "IS9cx3Ze0rUJ"
      },
      "source": [
        "### 단순 오버라이드 - 실습\r\n",
        "\r\n",
        "https://programmers.co.kr/learn/courses/2/lessons/349"
      ]
    },
    {
      "cell_type": "code",
      "metadata": {
        "id": "tv33jmfj0rnD"
      },
      "source": [
        "class Car():\r\n",
        "    def run(self):\r\n",
        "        print(\"차가 달립니다.\")\r\n",
        "\r\n",
        "\r\n",
        "class Truck(Car):\r\n",
        "    def run(self):\r\n",
        "        print('트럭이 달립니다.')\r\n",
        "    def load(self):\r\n",
        "        print(\"짐을 실었습니다.\")\r\n",
        "    \r\n",
        "truck = Truck()\r\n",
        "truck.run()"
      ],
      "execution_count": null,
      "outputs": []
    },
    {
      "cell_type": "markdown",
      "metadata": {
        "id": "FfxgrlJ80vXx"
      },
      "source": [
        "### super()\r\n",
        "\r\n",
        "super()\r\n",
        "\r\n",
        "- 자식클래스에서 부모클래스의 내용을 사용하고 싶은 경우\r\n",
        "- super().부모클래스내용\r\n",
        "\r\n",
        "```\r\n",
        "class Animal( ):\r\n",
        "    def __init__( self, name ):\r\n",
        "        self.name = name\r\n",
        "\r\n",
        "class Human( Animal ):\r\n",
        "    def __init__( self, name, hand ):\r\n",
        "        super().__init__( name ) # 부모클래스의 __init__ 메소드 호출\r\n",
        "        self.hand = hand\r\n",
        "\r\n",
        "person = Human( \"사람\", \"오른손\" )\r\n",
        "```\r\n",
        "\r\n",
        "https://programmers.co.kr/learn/courses/2/lessons/330"
      ]
    },
    {
      "cell_type": "code",
      "metadata": {
        "colab": {
          "base_uri": "https://localhost:8080/"
        },
        "id": "-R1MQ1i80v1K",
        "outputId": "a6ee4a78-43db-4116-f553-7e17ada5a340"
      },
      "source": [
        "class Animal(): # 부모 클래스\r\n",
        "  def __init__(self, name):\r\n",
        "    self.name = name\r\n",
        "\r\n",
        "  def walk(self):\r\n",
        "    print('걷는다')\r\n",
        "\r\n",
        "  def eat(self):\r\n",
        "    print('먹는다')\r\n",
        "\r\n",
        "  def greet(self):\r\n",
        "    print('{} 이/가 인사한다'.format(self.name))\r\n",
        "\r\n",
        "class Cow(Animal):\r\n",
        "  '''소'''\r\n",
        "\r\n",
        "class Human(Animal): \r\n",
        "  def __init__(self, name, hand):\r\n",
        "    super().__init__(name)\r\n",
        "    self.hand = hand\r\n",
        "\r\n",
        "  def wave(self):\r\n",
        "    print('{} 손을 흔들면서'.format(self.hand), end=' ')\r\n",
        "\r\n",
        "  def greet(self): # 부모의 메서드 오바라이드\r\n",
        "    self.wave()\r\n",
        "    super().greet()\r\n",
        "\r\n",
        "person = Human('철수','오른손')\r\n",
        "person.greet()"
      ],
      "execution_count": 39,
      "outputs": [
        {
          "output_type": "stream",
          "text": [
            "오른손 손을 흔들면서 철수 이/가 인사한다\n"
          ],
          "name": "stdout"
        }
      ]
    },
    {
      "cell_type": "markdown",
      "metadata": {
        "id": "7mgpf9Po2PRh"
      },
      "source": [
        "### super() - 실습\r\n",
        "\r\n",
        "https://programmers.co.kr/learn/courses/2/lessons/350"
      ]
    },
    {
      "cell_type": "code",
      "metadata": {
        "id": "qPTc_rfb2PlF"
      },
      "source": [
        "class Car():\r\n",
        "    def __init__(self, name):\r\n",
        "        self.name = name\r\n",
        "    \r\n",
        "    def run(self):\r\n",
        "        print(\"차가 달립니다.\")\r\n",
        "\r\n",
        "\r\n",
        "class Truck(Car):\r\n",
        "    def __init__(self, name, capacity):\r\n",
        "        super().__init__(name)\r\n",
        "        self.capacity = capacity\r\n",
        "        \r\n",
        "    def load(self):\r\n",
        "        print(\"짐을 실었습니다.\")"
      ],
      "execution_count": null,
      "outputs": []
    },
    {
      "cell_type": "markdown",
      "metadata": {
        "id": "gG9M9xTj2P5m"
      },
      "source": [
        "### 내 예외 만들기\r\n",
        "예외 정의 : 예외도 하나의 클래스여서 클래스로 정의하면 된다.\r\n",
        "- 사용자가 직접 예외처리를 하면 코드의 직관성을 높일 수 있다.\r\n",
        "- 파일을 하나 만들어 예외를 정의\r\n",
        "- Exception 클래스를 상속받아 만든다\r\n",
        "```\r\n",
        "try:\r\n",
        "    sign_up( )\r\n",
        "except BadUserName:\r\n",
        "    print( \"이름으로 사용할 수 없는 입력\" )\r\n",
        "except PasswordNotMatched:\r\n",
        "    print( \"입력한 패스워드 불일치\")\r\n",
        "```\r\n",
        "\r\n",
        "https://programmers.co.kr/learn/courses/2/lessons/331"
      ]
    },
    {
      "cell_type": "markdown",
      "metadata": {
        "id": "u-1LbAKE39yc"
      },
      "source": [
        "![3.PNG](data:image/png;base64,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)"
      ]
    },
    {
      "cell_type": "code",
      "metadata": {
        "colab": {
          "base_uri": "https://localhost:8080/"
        },
        "id": "Td_GtGUB2QOE",
        "outputId": "1f2127ba-bde7-4867-d8f3-c03ba7bab581"
      },
      "source": [
        "value = '가'\r\n",
        "try:\r\n",
        "  if value not in ['가위','바위','보']:\r\n",
        "    raise ValueError('가위바위보 중에 하나의 값이어야 합니다.')\r\n",
        "except ValueError:\r\n",
        "  print('에러가 발생했습니다.')"
      ],
      "execution_count": 40,
      "outputs": [
        {
          "output_type": "stream",
          "text": [
            "에러가 발생했습니다.\n"
          ],
          "name": "stdout"
        }
      ]
    },
    {
      "cell_type": "code",
      "metadata": {
        "colab": {
          "base_uri": "https://localhost:8080/"
        },
        "id": "R3itYb3S4NAL",
        "outputId": "8608f1b5-b970-45be-feee-a8b1ec6c4f18"
      },
      "source": [
        "# from UnexpectedRSPValue import UnexpectedRSPValue\r\n",
        "\r\n",
        "class UnexpectedRSPValue(Exception):\r\n",
        "  '''가위 바위 보 가운데 하나가 아닌 경우 발생하는 오류'''\r\n",
        "\r\n",
        "value = '가'\r\n",
        "try:\r\n",
        "  if value not in ['가위','바위','보']:\r\n",
        "    raise UnexpectedRSPValue\r\n",
        "except UnexpectedRSPValue:\r\n",
        "  print('에러가 발생했습니다.')"
      ],
      "execution_count": 43,
      "outputs": [
        {
          "output_type": "stream",
          "text": [
            "에러가 발생했습니다.\n"
          ],
          "name": "stdout"
        }
      ]
    },
    {
      "cell_type": "code",
      "metadata": {
        "id": "SA6PbkM54ctf"
      },
      "source": [
        "def sign_up():\r\n",
        "  '''회원가입 함수'''\r\n",
        "\r\n",
        "try: \r\n",
        "  sign_up()\r\n",
        "except BadUserName:\r\n",
        "  print(\"이름으로 사용할 수 없는 입력입니다.\")\r\n",
        "except PasswordNotMatched:\r\n",
        "  print(\"입력한 패스워드가 서로 일치하지 않습니다.\")"
      ],
      "execution_count": null,
      "outputs": []
    },
    {
      "cell_type": "markdown",
      "metadata": {
        "id": "LkX4j_yN4rfk"
      },
      "source": [
        "### 내 예외 만들기 - 실습\r\n",
        "\r\n",
        "https://programmers.co.kr/learn/courses/2/lessons/351"
      ]
    },
    {
      "cell_type": "code",
      "metadata": {
        "id": "YXPbprMz4r_b"
      },
      "source": [
        "class MyException(Exception):\r\n",
        "    ''''''\r\n",
        "    \r\n",
        "shops = {\r\n",
        "    \"송일문방구\": {\"가위\": 500, \"크레파스\": 3000},\r\n",
        "    \"알파문구\": {\"풀\": 800, \"도화지\": 300, \"A4용지\": 8000},\r\n",
        "    \"다이소\": {\"풀\": 500, \"목공본드\": 2000, \"화분\": 3000}\r\n",
        "}\r\n",
        "\r\n",
        "try:\r\n",
        "    for shop, products in shops.items():\r\n",
        "        for product, price in products.items():\r\n",
        "            if product == '풀':\r\n",
        "                print(\"{}: {}원\".format(shop, price))\r\n",
        "                raise MyException\r\n",
        "except MyException:\r\n",
        "    print(\"풀을 찾았습니다.\")"
      ],
      "execution_count": null,
      "outputs": []
    },
    {
      "cell_type": "markdown",
      "metadata": {
        "id": "fR14ByxXxbmt"
      },
      "source": [
        "## 파트17. Comprehension"
      ]
    },
    {
      "cell_type": "markdown",
      "metadata": {
        "id": "NItOM7_yGVKD"
      },
      "source": [
        "### List\r\n",
        "List Comprehension\r\n",
        "파이썬의 유용한 도구\r\n",
        "- 예1 [ i*i for i in range(1,11) ] # [ 계산식 for문 ]\r\n",
        "- 예2 [ i*i for i in range(1,11) if i % 2 == 0 ] # [ 계산식 for문 조건문 ]\r\n",
        "- 예3 [ ( x, y ) for x in range(15) for y in range(15) ] # [ 계산식 for문 for문 ]\r\n",
        "\r\n",
        "https://programmers.co.kr/learn/courses/2/lessons/334"
      ]
    },
    {
      "cell_type": "code",
      "metadata": {
        "colab": {
          "base_uri": "https://localhost:8080/"
        },
        "id": "Y5TmzKKKxcFJ",
        "outputId": "180bebc0-4169-4a31-ad26-f6ec42aafbb1"
      },
      "source": [
        "areas = []\r\n",
        "for i in range(1,11):\r\n",
        "  if i%2 == 0:\r\n",
        "    areas = areas + [i*i]\r\n",
        "print(areas)"
      ],
      "execution_count": 46,
      "outputs": [
        {
          "output_type": "stream",
          "text": [
            "[4, 16, 36, 64, 100]\n"
          ],
          "name": "stdout"
        }
      ]
    },
    {
      "cell_type": "code",
      "metadata": {
        "colab": {
          "base_uri": "https://localhost:8080/"
        },
        "id": "XCy06ZPNGuEl",
        "outputId": "08e17c34-390c-4d0f-9c5c-67855873e800"
      },
      "source": [
        "areas2 = [i*i for i in range(1,11) if i%2==0]\r\n",
        "print('areas2:',areas)"
      ],
      "execution_count": 47,
      "outputs": [
        {
          "output_type": "stream",
          "text": [
            "areas2: [4, 16, 36, 64, 100]\n"
          ],
          "name": "stdout"
        }
      ]
    },
    {
      "cell_type": "code",
      "metadata": {
        "id": "bwqzyBPmHlVn"
      },
      "source": [
        "[(x,y) for x in range(15) for y in range(15)]"
      ],
      "execution_count": null,
      "outputs": []
    },
    {
      "cell_type": "markdown",
      "metadata": {
        "id": "mxD1d4o9H2Ev"
      },
      "source": [
        "### List comprehension - 실습\r\n",
        "\r\n",
        "https://programmers.co.kr/learn/courses/2/lessons/352"
      ]
    },
    {
      "cell_type": "code",
      "metadata": {
        "id": "QO9dg2AkG388"
      },
      "source": [
        "list1 = [ i for i in range(1,100) if i%8==0 ]\r\n",
        "\r\n",
        "print(\"list1 : \", list1)"
      ],
      "execution_count": null,
      "outputs": []
    },
    {
      "cell_type": "markdown",
      "metadata": {
        "id": "1vPD-T3qIEdU"
      },
      "source": [
        "### Dictionary\r\n",
        "Dictionary Comprehension\r\n",
        "파이썬의 유용한 도구\r\n",
        "예시\r\n",
        "- { \"{}번\".format(number):name for number, name in enumerate(students) } # [ 형식 for문 ]\r\n",
        "- {student:score for student, score in zip(students, scores)}\r\n",
        "\r\n",
        "https://programmers.co.kr/learn/courses/2/lessons/335"
      ]
    },
    {
      "cell_type": "code",
      "metadata": {
        "colab": {
          "base_uri": "https://localhost:8080/"
        },
        "id": "9l_qx6z2IE8D",
        "outputId": "2545288b-92cb-4bf2-e4a6-26921483b04a"
      },
      "source": [
        "students = ['태연','진주','정현','하늘','성진']\r\n",
        "for number, name in enumerate(students):\r\n",
        "  print(\"{}번의 이름은 {}입니다\".format(number+1, name))"
      ],
      "execution_count": 49,
      "outputs": [
        {
          "output_type": "stream",
          "text": [
            "1번의 이름은 태연입니다\n",
            "2번의 이름은 진주입니다\n",
            "3번의 이름은 정현입니다\n",
            "4번의 이름은 하늘입니다\n",
            "5번의 이름은 성진입니다\n"
          ],
          "name": "stdout"
        }
      ]
    },
    {
      "cell_type": "code",
      "metadata": {
        "colab": {
          "base_uri": "https://localhost:8080/"
        },
        "id": "TfNtqvUIIeYb",
        "outputId": "d4b695b5-dc0f-4019-b12a-1967508a93c6"
      },
      "source": [
        "students = ['태연','진주','정현','하늘','성진']\r\n",
        "studentsDict = { \"{}번\".format(number+1): name for number, name in enumerate(students)}\r\n",
        "studentsDict"
      ],
      "execution_count": 51,
      "outputs": [
        {
          "output_type": "execute_result",
          "data": {
            "text/plain": [
              "{'1번': '태연', '2번': '진주', '3번': '정현', '4번': '하늘', '5번': '성진'}"
            ]
          },
          "metadata": {
            "tags": []
          },
          "execution_count": 51
        }
      ]
    },
    {
      "cell_type": "code",
      "metadata": {
        "colab": {
          "base_uri": "https://localhost:8080/"
        },
        "id": "PbGAgaJCI2_w",
        "outputId": "c2f1d83f-abe6-4f02-dcfb-b979edc982c6"
      },
      "source": [
        "# 리스트나 스트링 아니어도 인덱스로 값을 가져올 수 있다면 zip 사용 가능\r\n",
        "scores = [85,92,78,90,100]\r\n",
        "students = ['태연','진주','정현','하늘','성진']\r\n",
        "\r\n",
        "for x, y in zip(students, scores):\r\n",
        "  print(x,y)"
      ],
      "execution_count": 53,
      "outputs": [
        {
          "output_type": "stream",
          "text": [
            "태연 85\n",
            "진주 92\n",
            "정현 78\n",
            "하늘 90\n",
            "성진 100\n"
          ],
          "name": "stdout"
        }
      ]
    },
    {
      "cell_type": "code",
      "metadata": {
        "colab": {
          "base_uri": "https://localhost:8080/"
        },
        "id": "DDiRB-qcJNn0",
        "outputId": "1f7c6344-4937-418d-ca45-cf8d57c79f4d"
      },
      "source": [
        "scores = [85,92,78,90,100]\r\n",
        "students = ['태연','진주','정현','하늘','성진']\r\n",
        "\r\n",
        "scoreDict = {students : score for students, score in zip(students, scores)}\r\n",
        "scoreDict"
      ],
      "execution_count": 56,
      "outputs": [
        {
          "output_type": "execute_result",
          "data": {
            "text/plain": [
              "{'성진': 100, '정현': 78, '진주': 92, '태연': 85, '하늘': 90}"
            ]
          },
          "metadata": {
            "tags": []
          },
          "execution_count": 56
        }
      ]
    },
    {
      "cell_type": "markdown",
      "metadata": {
        "id": "orITttOXJfMS"
      },
      "source": [
        "### Dictionary comprehension - 실습\r\n",
        "\r\n",
        "https://programmers.co.kr/learn/courses/2/lessons/353"
      ]
    },
    {
      "cell_type": "code",
      "metadata": {
        "id": "locOVz7NJffu"
      },
      "source": [
        "product_list = [\"풀\", \"가위\", \"크래파스\"]\r\n",
        "price_list = [800, 2500, 5000]\r\n",
        "product_dict = { prdocut : price for prdocut,price in zip(product_list, price_list)}\r\n",
        "\r\n",
        "print(product_dict)"
      ],
      "execution_count": null,
      "outputs": []
    },
    {
      "cell_type": "markdown",
      "metadata": {
        "id": "n_NHjEygnOx7"
      },
      "source": [
        "## 파트18. 날짜와 시간\r\n"
      ]
    },
    {
      "cell_type": "markdown",
      "metadata": {
        "id": "RopvcXsZnTVT"
      },
      "source": [
        "### datetime\r\n",
        "\r\n",
        "https://programmers.co.kr/learn/courses/2/lessons/340"
      ]
    },
    {
      "cell_type": "markdown",
      "metadata": {
        "id": "JUp99Gq6nWKS"
      },
      "source": [
        "### datetime - 실습(1)"
      ]
    },
    {
      "cell_type": "code",
      "metadata": {
        "id": "MKjLUTS_oGFZ"
      },
      "source": [
        "import datetime\r\n",
        "\r\n",
        "christmas_2016 = datetime.datetime(2016,12,25)\r\n",
        "\r\n",
        "print(christmas_2016)"
      ],
      "execution_count": null,
      "outputs": []
    },
    {
      "cell_type": "markdown",
      "metadata": {
        "id": "bWtH_KYUnYz6"
      },
      "source": [
        "### datetime - 실습(2)"
      ]
    },
    {
      "cell_type": "code",
      "metadata": {
        "id": "ErMsNtcYoGUy"
      },
      "source": [
        "import datetime\r\n",
        "\r\n",
        "def days_until_christmas():\r\n",
        "    christmas_2030 = datetime.datetime(2030, 12, 25)\r\n",
        "    days = christmas_2030 - datetime.datetime.now()\r\n",
        "    days = days.days\r\n",
        "    return days\r\n",
        "\r\n",
        "\r\n",
        "print(\"{}일\".format(days_until_christmas()))"
      ],
      "execution_count": null,
      "outputs": []
    },
    {
      "cell_type": "markdown",
      "metadata": {
        "id": "e9qiAbYXnZry"
      },
      "source": [
        "### timedelta\r\n",
        "\r\n",
        "https://programmers.co.kr/learn/courses/2/lessons/341"
      ]
    },
    {
      "cell_type": "markdown",
      "metadata": {
        "id": "d2bfLB_Hnb_6"
      },
      "source": [
        "### timedelta - 실습\r\n",
        "\r\n",
        "https://programmers.co.kr/learn/courses/2/lessons/355\r\n",
        "\r\n",
        "\r\n",
        "\r\n",
        "```\r\n",
        "addtime = datetime.timedelta(days = 10)\r\n",
        "datetime.datetime.now() + addtime    # 10일 후\r\n",
        "datetime.datetime.now() - addtime    # 10일 전\r\n",
        "\r\n",
        "thedate = datetime.datetime.now().replace(hour = 10, minute=0, second = 0)\r\n",
        "          + datetime.timedelta(days = 3)       # 3일 후 10시 정각\r\n",
        "```\r\n",
        "\r\n"
      ]
    },
    {
      "cell_type": "code",
      "metadata": {
        "id": "5BOJa8WAnPCa"
      },
      "source": [
        "import datetime\r\n",
        "\r\n",
        "hundred_after = datetime.datetime.now() + datetime.timedelta(days=100)\r\n",
        "hundred_after = hundred_after.replace(hour=9, minute=0, second=0)\r\n",
        "print(\"{}/{}/{}  {}:{}:{}\".format(hundred_after.year,hundred_after.month, hundred_after.day, hundred_after.hour, hundred_after.minute, hundred_after.second))"
      ],
      "execution_count": null,
      "outputs": []
    },
    {
      "cell_type": "code",
      "metadata": {
        "id": "5tu5_k1jqFpU"
      },
      "source": [
        "import datetime\r\n",
        "\r\n",
        "hundred_after = datetime.datetime.now() \r\n",
        "hundred_after = hundred_after.replace(hour=9, minute=0, second=0) + datetime.timedelta(days=100)\r\n",
        "print(\"{}/{}/{}  {}:{}:{}\".format(hundred_after.year,hundred_after.month, hundred_after.day, hundred_after.hour, hundred_after.minute, hundred_after.second))"
      ],
      "execution_count": null,
      "outputs": []
    }
  ]
}