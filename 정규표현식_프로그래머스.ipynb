{
  "nbformat": 4,
  "nbformat_minor": 0,
  "metadata": {
    "colab": {
      "name": "정규표현식.ipynb",
      "provenance": [],
      "collapsed_sections": []
    },
    "kernelspec": {
      "name": "python3",
      "display_name": "Python 3"
    }
  },
  "cells": [
    {
      "cell_type": "markdown",
      "metadata": {
        "id": "2PmFuu2PpRwU"
      },
      "source": [
        "# 정규표현식\r\n",
        "\r\n",
        "https://programmers.co.kr/learn/courses/11"
      ]
    },
    {
      "cell_type": "markdown",
      "metadata": {
        "id": "09Sj3XkfUEr0"
      },
      "source": [
        "## 파트1. 정규표현식"
      ]
    },
    {
      "cell_type": "markdown",
      "metadata": {
        "id": "4xXwnCSsUAcN"
      },
      "source": [
        "### 정규표현식 사용해 보기\r\n",
        "\r\n",
        "\r\n",
        "https://programmers.co.kr/learn/courses/11/lessons/132"
      ]
    },
    {
      "cell_type": "code",
      "metadata": {
        "id": "PaQfnFl4pRGa",
        "colab": {
          "base_uri": "https://localhost:8080/"
        },
        "outputId": "e5f317c1-3f14-40cf-8909-569a725219a7"
      },
      "source": [
        "# 전화번호를 찾는 정규표현식 0\\d{1,2}[ -]?\\d{3,4}[ -]?\\d{3,4}를 빈칸에 입력하세요.\r\n",
        "regex = r'0\\d{1,2}[ -]?\\d{3,4}[ -]?\\d{3,4}'  \r\n",
        "\r\n",
        "# 주소록입니다. 이후 강의에서 모두 이 search_target을 사용합니다.\r\n",
        "search_target = '''Luke Skywarker 02-123-4567 luke@daum.net\r\n",
        "다스베이더 070-9999-9999 darth_vader@gmail.com\r\n",
        "princess leia 010 2454 3457 leia@gmail.com'''\r\n",
        "\r\n",
        "# 정규표현식과 일치하는 부분을 모두 찾아주는 파이썬 코드입니다.\r\n",
        "import re\r\n",
        "result = re.findall(regex, search_target)\r\n",
        "print(\"\\n\".join(result))"
      ],
      "execution_count": 1,
      "outputs": [
        {
          "output_type": "stream",
          "text": [
            "02-123-4567\n",
            "070-9999-9999\n",
            "010 2454 3457\n"
          ],
          "name": "stdout"
        }
      ]
    },
    {
      "cell_type": "markdown",
      "metadata": {
        "id": "N5W2BxvDUGV5"
      },
      "source": [
        "## 파트2. 대표문자(Meta sequence)"
      ]
    },
    {
      "cell_type": "markdown",
      "metadata": {
        "id": "tnnAcLLKUTHn"
      },
      "source": [
        "### 숫자 대표문자\r\n",
        "\r\n",
        "전화번호를 찾기 위한 첫 단계는 숫자를 찾아내는 겁니다.\r\n",
        "\r\n",
        "\\d는 숫자를 대표하는 정규표현식입니다. 이때 d는 digit을 뜻합니다.\r\n",
        "\r\n",
        "빈칸에 \\d를 입력하고 [실행]해 보세요. Output으로 search_target에 들은 모든 숫자가 한 줄씩 나올 겁니다.\r\n",
        "\r\n",
        "https://programmers.co.kr/learn/courses/11/lessons/133"
      ]
    },
    {
      "cell_type": "code",
      "metadata": {
        "colab": {
          "base_uri": "https://localhost:8080/"
        },
        "id": "BcvKanrXUF2U",
        "outputId": "3b16d803-156f-4536-e981-0c7ea5cd2edd"
      },
      "source": [
        "# 빈칸에 정규표현식을 적습니다.\r\n",
        "regex = r'\\d'\r\n",
        "\r\n",
        "# 주소록입니다. 이후 강의에서 모두 이 search_target을 사용합니다.\r\n",
        "search_target = '''Luke Skywarker 02-123-4567 luke@daum.net\r\n",
        "다스베이더 070-9999-9999 darth_vader@gmail.com\r\n",
        "princess leia 010 2454 3457 leia@gmail.com'''\r\n",
        "\r\n",
        "# 정규표현식과 일치하는 부분을 모두 찾아주는 파이썬 코드입니다.\r\n",
        "import re\r\n",
        "result = re.findall(regex, search_target)\r\n",
        "print(\"\\n\".join(result))"
      ],
      "execution_count": 3,
      "outputs": [
        {
          "output_type": "stream",
          "text": [
            "0\n",
            "2\n",
            "1\n",
            "2\n",
            "3\n",
            "4\n",
            "5\n",
            "6\n",
            "7\n",
            "0\n",
            "7\n",
            "0\n",
            "9\n",
            "9\n",
            "9\n",
            "9\n",
            "9\n",
            "9\n",
            "9\n",
            "9\n",
            "0\n",
            "1\n",
            "0\n",
            "2\n",
            "4\n",
            "5\n",
            "4\n",
            "3\n",
            "4\n",
            "5\n",
            "7\n"
          ],
          "name": "stdout"
        }
      ]
    },
    {
      "cell_type": "markdown",
      "metadata": {
        "id": "ktEMY000Urjs"
      },
      "source": [
        "### 글자 대표문자\r\n",
        "\r\n",
        "\r\n",
        "\\w는 글자를 대표하는 정규표현식입니다. \\w는\r\n",
        "- a, b, c, 가, 나, 다, 1, 2와 같은 문자와 숫자를 포함합니다.\r\n",
        "- `특수문자는 포함하지 않지만`, `_(언더스코어)는 포함`합니다.\r\n",
        "\r\n",
        "빈칸에 \\w를 입력하고 [실행]해 보세요. Output으로 search_target에 들은 모든 문자와 숫자가 한 줄씩 나올 겁니다.\r\n",
        "\r\n",
        "https://programmers.co.kr/learn/courses/11/lessons/526"
      ]
    },
    {
      "cell_type": "code",
      "metadata": {
        "id": "JuwzMmjMUoSO"
      },
      "source": [
        "# 빈칸에 정규표현식을 적습니다.\r\n",
        "regex = r'\\w'\r\n",
        "\r\n",
        "search_target = '''Luke Skywarker 02-123-4567 luke@daum.net\r\n",
        "다스베이더 070-9999-9999 darth_vader@gmail.com\r\n",
        "princess leia 010 2454 3457 leia@gmail.com'''\r\n",
        "\r\n",
        "# 정규표현식과 일치하는 부분을 모두 찾아주는 파이썬 코드입니다.\r\n",
        "import re\r\n",
        "result = re.findall(regex, search_target)\r\n",
        "print(\"\\n\".join(result))"
      ],
      "execution_count": null,
      "outputs": []
    },
    {
      "cell_type": "code",
      "metadata": {
        "colab": {
          "base_uri": "https://localhost:8080/"
        },
        "id": "8lq3PvfsU7MF",
        "outputId": "96e6390c-bc34-4a29-eee6-57e6e0f8780b"
      },
      "source": [
        "# 빈칸에 정규표현식을 적습니다.\r\n",
        "regex = r'\\w'\r\n",
        "\r\n",
        "search_target = '''_%_^_!'''\r\n",
        "\r\n",
        "# 정규표현식과 일치하는 부분을 모두 찾아주는 파이썬 코드입니다.\r\n",
        "import re\r\n",
        "result = re.findall(regex, search_target)\r\n",
        "print(\"\\n\".join(result))"
      ],
      "execution_count": 5,
      "outputs": [
        {
          "output_type": "stream",
          "text": [
            "_\n",
            "_\n",
            "_\n"
          ],
          "name": "stdout"
        }
      ]
    },
    {
      "cell_type": "markdown",
      "metadata": {
        "id": "nTGmnHwwUH80"
      },
      "source": [
        "## 파트3. 횟수 정하기(Quantifier)"
      ]
    },
    {
      "cell_type": "markdown",
      "metadata": {
        "id": "MSqtq8saVMYI"
      },
      "source": [
        "### 하나 이상\r\n",
        "\r\n",
        "\\d는 숫자를 한글자만 찾습니다. 그런데, 전화번호를 구성하는 043이나 2568같이 연결된 숫자를 찾고 싶을 때는 어떻게 해야 할까요?\r\n",
        "\r\n",
        "그럴 땐 +를 이용하면 됩니다. `+는 하나 혹은 그 이상 연결된`이라는 뜻입니다. 따라서 \\d+는 하나 혹은 그 이상 연결된 숫자를 의미합니다.\r\n",
        "\r\n",
        "빈칸에 \\d+를 입력하고 [실행]해 보세요. Output으로 search_target에 들은 모든 연결된 숫자가 한 줄씩 나올 겁니다.\r\n",
        "\r\n",
        "https://programmers.co.kr/learn/courses/11/lessons/518"
      ]
    },
    {
      "cell_type": "code",
      "metadata": {
        "colab": {
          "base_uri": "https://localhost:8080/"
        },
        "id": "ukHDaHS7UJGj",
        "outputId": "cafecf51-6426-49dc-e0c8-2878d142632d"
      },
      "source": [
        "# 빈칸에 정규표현식을 적습니다.\r\n",
        "regex = r'\\d+'\r\n",
        "\r\n",
        "search_target = '''Luke Skywarker 02-123-4567 luke@daum.net\r\n",
        "다스베이더 070-9999-9999 darth_vader@gmail.com\r\n",
        "princess leia 010 2454 3457 leia@gmail.com'''\r\n",
        "\r\n",
        "#아래 부분은 본 강의에서 다루지 않습니다.\r\n",
        "import re\r\n",
        "result=re.findall(regex,search_target)\r\n",
        "print(result)"
      ],
      "execution_count": 7,
      "outputs": [
        {
          "output_type": "stream",
          "text": [
            "['02', '123', '4567', '070', '9999', '9999', '010', '2454', '3457']\n"
          ],
          "name": "stdout"
        }
      ]
    },
    {
      "cell_type": "markdown",
      "metadata": {
        "id": "NNyJI4hYVr3-"
      },
      "source": [
        "### 0개 이상\r\n",
        "\r\n",
        "정규표현식으로 010, 123, 456 중 자연수를 찾으려면 어떻게 해야 할까요? 자연수는\r\n",
        "\r\n",
        "- 0으로 시작하지 않으니 자연수의 첫자리는 반드시 1 ~ 9 중에 하나이어야 합니다.\r\n",
        "- 그다음 자리부터는 0~9 사이의 숫자가 나올 수도 있고, 나오지 않을 수도 있지요.\r\n",
        "\r\n",
        "다시 말해, 자연수는 다음과 같이 표현할 수 있습니다.\r\n",
        "\r\n",
        "1. 처음에 1~9중 하나의 숫자가 나온 다음\r\n",
        "2. 그 뒤에는 숫자가 0개 이상 나오면\r\n",
        "*은 0개 이상이라는 뜻입니다. 따라서 \\d*는 숫자가 0개 이상이다를 의미합니다. 이를 이용하면 자연수는 [1-9]\\d*로 표현할 수 있습니다.\r\n",
        "\r\n",
        "빈칸에 [1-9]\\d*를 입력하고 [실행]해 보세요. Output으로 search_target에 들은 모든 자연수가 한 줄씩 나올 겁니다.\r\n",
        "\r\n",
        "https://programmers.co.kr/learn/courses/11/lessons/539"
      ]
    },
    {
      "cell_type": "code",
      "metadata": {
        "colab": {
          "base_uri": "https://localhost:8080/"
        },
        "id": "XyqSsgL3WH1m",
        "outputId": "8d81d7d3-28d1-4f4d-cf83-d276dffa3ea5"
      },
      "source": [
        "# 빈칸에 정규표현식을 적습니다.\r\n",
        "regex = r'[1-9]\\d*' # 맨 앞자리 수는 1~9 사이이고 그 후는 0개 이상의 정수이다.\r\n",
        "\r\n",
        "search_target = '''Luke Skywarker 02-123-4567 luke@daum.net\r\n",
        "다스베이더 070-9999-9999 darth_vader@gmail.com\r\n",
        "princess leia 010 2454 3457 leia@gmail.com'''\r\n",
        "\r\n",
        "# 정규표현식과 일치하는 부분을 모두 찾아주는 파이썬 코드입니다.\r\n",
        "import re\r\n",
        "result = re.findall(regex, search_target)\r\n",
        "print(\"\\n\".join(result))"
      ],
      "execution_count": 8,
      "outputs": [
        {
          "output_type": "stream",
          "text": [
            "2\n",
            "123\n",
            "4567\n",
            "70\n",
            "9999\n",
            "9999\n",
            "10\n",
            "2454\n",
            "3457\n"
          ],
          "name": "stdout"
        }
      ]
    },
    {
      "cell_type": "markdown",
      "metadata": {
        "id": "9pX6yeQsWVJu"
      },
      "source": [
        "### 있거나 없거나?(1)\r\n",
        "\r\n",
        "전화번호는 -을 포함하거나, 포함하지 않을 수 있습니다. 예를 들어, 다음은 모두 유효한 전화번호입니다.\r\n",
        "\r\n",
        "```\r\n",
        "021234567\r\n",
        "02-123-4567\r\n",
        "```\r\n",
        "\r\n",
        "따라서 전화번호는 연속되는 숫자 3 ~ 4개 사이에 -가 있거나 없다고 표현할 수 있습니다.\r\n",
        "\r\n",
        "?는 '있거나 없거나'라는 뜻입니다. 따라서 -?는 -가 있거나 없다를 의미합니다. 따라서 이를 연속하는 숫자는 \\d+와 조합하면 전화번호를 찾는 정규표현식을 만들 수 있습니다.\r\n",
        "\r\n",
        "```\r\n",
        "\\d+-?\\d+-?\\d+\r\n",
        "```\r\n",
        "\r\n",
        "빈칸에 정규표현식을 입력하고 [실행]해 보세요. Output으로 search_target에 들은 Luke와 다스베이더의 전화번호가 한 줄씩 나올 겁니다.\r\n",
        "\r\n",
        "https://programmers.co.kr/learn/courses/11/lessons/918"
      ]
    },
    {
      "cell_type": "code",
      "metadata": {
        "colab": {
          "base_uri": "https://localhost:8080/"
        },
        "id": "0MWNHr4gWVdm",
        "outputId": "ce5e5937-bc6b-41c9-8dcd-13e16d49738a"
      },
      "source": [
        "regex = r'\\d+-?\\d+-?\\d+'\r\n",
        "\r\n",
        "search_target = '''Luke Skywarker 02-123-4567 luke@daum.net\r\n",
        "다스베이더 070-9999-9999 darth_vader@gmail.com\r\n",
        "princess leia 010 2454 3457 leia@gmail.com'''\r\n",
        "\r\n",
        "#아래 부분은 본 강의에서 다루지 않습니다.\r\n",
        "import re\r\n",
        "result=re.findall(regex,search_target)\r\n",
        "print(result)"
      ],
      "execution_count": 9,
      "outputs": [
        {
          "output_type": "stream",
          "text": [
            "['02-123-4567', '070-9999-9999', '010', '2454', '3457']\n"
          ],
          "name": "stdout"
        }
      ]
    },
    {
      "cell_type": "markdown",
      "metadata": {
        "id": "9EnHSIoEWs2P"
      },
      "source": [
        "### 있거나 없거나?(2)\r\n",
        "\r\n",
        "앞에서 배운 \\d+-?\\d+-?\\d+ 정규표현식은 한계가 있습니다. 010 2454 3457과 같이 공백이 포함된 전화번호를 찾을 수 없지요.\r\n",
        "\r\n",
        "```\r\n",
        "021234567\r\n",
        "02-123-4567\r\n",
        "010 2454 3457\r\n",
        "```\r\n",
        "\r\n",
        "모든 전화번호를 찾으려면\r\n",
        "\r\n",
        "- `-`가 있거나 없다는 조건이 아니라\r\n",
        "- `-` 또는 공백이 있거나 없다는 조건을 써야 합니다.\r\n",
        "\r\n",
        "\r\n",
        "---\r\n",
        "\r\n",
        "\r\n",
        "`-` 또는 (공백)이 있거나 없다는 조건은 [- ]?로 표현할 수 있습니다.\r\n",
        "\r\n",
        "빈칸에 \\d+[- ]?\\d+[- ]?\\d+를 입력하고 [실행]해 보세요. Output으로 search_target에 들은 모든 전화번호가 한 줄씩 나올 겁니다.\r\n",
        "\r\n",
        "https://programmers.co.kr/learn/courses/11/lessons/918"
      ]
    },
    {
      "cell_type": "code",
      "metadata": {
        "colab": {
          "base_uri": "https://localhost:8080/"
        },
        "id": "y-pYASyiWtIn",
        "outputId": "1ff4a8a0-1fa3-4a9a-f50a-0849057bdd1c"
      },
      "source": [
        "regex = r'\\d+[- ]?\\d+[- ]?\\d+'\r\n",
        "\r\n",
        "search_target = '''Luke Skywarker 02-123-4567 luke@daum.net\r\n",
        "다스베이더 070-9999-9999 darth_vader@gmail.com\r\n",
        "princess leia 010 2454 3457 leia@gmail.com'''\r\n",
        "\r\n",
        "#아래 부분은 본 강의에서 다루지 않습니다.\r\n",
        "import re\r\n",
        "result=re.findall(regex,search_target)\r\n",
        "print(result)"
      ],
      "execution_count": 10,
      "outputs": [
        {
          "output_type": "stream",
          "text": [
            "['02-123-4567', '070-9999-9999', '010 2454 3457']\n"
          ],
          "name": "stdout"
        }
      ]
    },
    {
      "cell_type": "markdown",
      "metadata": {
        "id": "HoMRKdq2XWu3"
      },
      "source": [
        "### n번(1)\r\n",
        "\r\n",
        "앞서 배운 \\d+[- ]?\\d+[- ]?\\d+ 정규표현식으로는 전화번호를 찾는데 한계가 있습니다. 0030589-5-95826과 같이 연결된 숫자가 너무 많은 문자열도 전화번호라고 인식합니다.\r\n",
        "\r\n",
        "코드를 실행해서 결과를 확인해 보세요. 다음 강의에서는 이를 해결할 방법을 알아보겠습니다.\r\n",
        "\r\n",
        "https://programmers.co.kr/learn/courses/11/lessons/541"
      ]
    },
    {
      "cell_type": "code",
      "metadata": {
        "colab": {
          "base_uri": "https://localhost:8080/"
        },
        "id": "TpVIvbXOXW8Y",
        "outputId": "ce6440e3-71f2-4370-e219-70db07e12131"
      },
      "source": [
        "# 본 문제는 실행만하면 통과하는 문제입니다.\r\n",
        "regex = r'\\d+[- ]?\\d+[- ]?\\d+'\r\n",
        "\r\n",
        "search_target = '''이상한 전화번호 0030589-5-95826\r\n",
        "Luke Skywarker 02-123-4567 luke@daum.net\r\n",
        "다스베이더 070-9999-9999 darth_vader@gmail.com\r\n",
        "princess leia 010 2454 3457 leia@gmail.com'''\r\n",
        "\r\n",
        "#아래 부분은 본 강의에서 다루지 않습니다.\r\n",
        "import re\r\n",
        "result=re.findall(regex,search_target)\r\n",
        "print(result)"
      ],
      "execution_count": 11,
      "outputs": [
        {
          "output_type": "stream",
          "text": [
            "['0030589-5-95826', '02-123-4567', '070-9999-9999', '010 2454 3457']\n"
          ],
          "name": "stdout"
        }
      ]
    },
    {
      "cell_type": "markdown",
      "metadata": {
        "id": "OR01mk4GXXOK"
      },
      "source": [
        "### n번(2)\r\n",
        "\r\n",
        "{숫자}는 `숫자`번 반복한다는 뜻입니다. 예를 들어 \\d{2}는 숫자가 연속 두 번 나온다는 뜻입니다.\r\n",
        "\r\n",
        "빈칸에 \\d{2}[- ]?\\d{3}[- ]?\\d{4}를 입력하고 [실행]해 보세요.\r\n",
        "\r\n",
        "https://programmers.co.kr/learn/courses/11/lessons/919"
      ]
    },
    {
      "cell_type": "code",
      "metadata": {
        "colab": {
          "base_uri": "https://localhost:8080/"
        },
        "id": "O3vaKFKLXXdG",
        "outputId": "798c51f2-560a-44df-f0b2-6131732fc5fd"
      },
      "source": [
        "regex = r'\\d{2}[- ]?\\d{3}[- ]?\\d{4}'\r\n",
        "\r\n",
        "search_target = '''이상한 전화번호 0030589-5-95826\r\n",
        "Luke Skywarker 02-123-4567 luke@daum.net\r\n",
        "다스베이더 070-9999-9999 darth_vader@gmail.com\r\n",
        "princess leia 010 2454 3457 leia@gmail.com'''\r\n",
        "\r\n",
        "#아래 부분은 본 강의에서 다루지 않습니다.\r\n",
        "import re\r\n",
        "result=re.findall(regex,search_target)\r\n",
        "print(result)"
      ],
      "execution_count": 12,
      "outputs": [
        {
          "output_type": "stream",
          "text": [
            "['02-123-4567']\n"
          ],
          "name": "stdout"
        }
      ]
    },
    {
      "cell_type": "markdown",
      "metadata": {
        "id": "EOEXV_VuXXqG"
      },
      "source": [
        "### n~m번\r\n",
        "\r\n",
        "앞서 배운 `\\d{2}[- ]?\\d{3}[- ]?\\d{4}` 정규표현식으로는 전화번호를 찾는데 한계가 있습니다. 전화번호의 첫 부분에 숫자가 3번(010 2454 3457) 나오는 경우를 인식하지 못하지요.\r\n",
        "\r\n",
        "```\r\n",
        "021234567\r\n",
        "02-123-4567\r\n",
        "010 2454 3457\r\n",
        "```\r\n",
        "---\r\n",
        "\r\n",
        "{숫자1, 숫자2}는 숫자1부터 숫자2까지 반복한다는 뜻입니다. 예를 들어, \\w{2,3}는 문자가 2 ~ 3번 나온다는 뜻입니다.\r\n",
        "\r\n",
        "전화번호의 자릿수는 다음과 같습니다. 따라서 전화번호는 \\d{2,3}[- ]?\\d{3,4}[- ]?\\d{4}와 같이 표현할 수 있습니다.\r\n",
        "\r\n",
        "\r\n",
        "|자리|수|\r\n",
        "|:---|---:|\r\n",
        "|처음|2~3자리|\r\n",
        "|가운데|3~4자리|\r\n",
        "|마지막|4자리|\r\n",
        "\r\n",
        "빈칸에 빈칸에 {}를 입력하고 [실행]해 보세요. Output으로 모든 전화번호가 한 줄씩 나올 겁니다.\r\n",
        "\r\n",
        "https://programmers.co.kr/learn/courses/11/lessons/594"
      ]
    },
    {
      "cell_type": "code",
      "metadata": {
        "colab": {
          "base_uri": "https://localhost:8080/"
        },
        "id": "1J6VbSHrXX3n",
        "outputId": "47dcb08d-c898-4a01-c509-5080ef48f7b6"
      },
      "source": [
        "regex = r'\\d{2,3}[- ]?\\d{3,4}[- ]?\\d{4}'\r\n",
        "\r\n",
        "search_target = '''이상한 전화번호 0030589-5-95826\r\n",
        "Luke Skywarker 02-123-4567 luke@daum.net\r\n",
        "다스베이더 070-9999-9999 darth_vader@gmail.com\r\n",
        "princess leia 010 2454 3457 leia@gmail.com'''\r\n",
        "\r\n",
        "#아래 부분은 본 강의에서 다루지 않습니다.\r\n",
        "import re\r\n",
        "result=re.findall(regex,search_target)\r\n",
        "print(result)"
      ],
      "execution_count": 13,
      "outputs": [
        {
          "output_type": "stream",
          "text": [
            "['02-123-4567', '070-9999-9999', '010 2454 3457']\n"
          ],
          "name": "stdout"
        }
      ]
    },
    {
      "cell_type": "markdown",
      "metadata": {
        "id": "FqkJbpd7UJke"
      },
      "source": [
        "## 파트4. 고르기"
      ]
    },
    {
      "cell_type": "markdown",
      "metadata": {
        "id": "AOGVXV0HYqco"
      },
      "source": [
        "### 몇 개 중에 고르기\r\n",
        "\r\n",
        "알파벳 중에 소문자 모음(a,e,i,o,u)만 고르고 싶을 땐 어떻게 할까요?\r\n",
        "\r\n",
        "그럴 때는 [aeiou]라고 적어주세요. 정규표현식에서 대괄호[ ] 안에 글자를 넣으면 해당 글자를 모두 선택할 수 있습니다.\r\n",
        "\r\n",
        "빈칸에 [aeiou]를 입력하고 [실행]해 보세요. Output으로 search_target에 들은 모든 소문자 알파벳이 한 줄씩 나올 겁니다.\r\n",
        "\r\n",
        "https://programmers.co.kr/learn/courses/11/lessons/531"
      ]
    },
    {
      "cell_type": "code",
      "metadata": {
        "colab": {
          "base_uri": "https://localhost:8080/"
        },
        "id": "b07g5pYgYqox",
        "outputId": "6bb0069f-eb85-478a-fbec-0e9e9005c6c9"
      },
      "source": [
        "regex = r'[aeiou]'\r\n",
        "\r\n",
        "search_target = '''Luke Skywarker 02-123-4567 luke@daum.net\r\n",
        "다스베이더 070-9999-9999 darth_vader@gmail.com\r\n",
        "princess leia 010 2454 3457 leia@gmail.com'''\r\n",
        "\r\n",
        "# 정규표현식과 일치하는 부분을 모두 찾아주는 파이썬 코드입니다.\r\n",
        "import re\r\n",
        "result = re.findall(regex, search_target)\r\n",
        "print(\"\\n\".join(result))"
      ],
      "execution_count": 14,
      "outputs": [
        {
          "output_type": "stream",
          "text": [
            "u\n",
            "e\n",
            "a\n",
            "e\n",
            "u\n",
            "e\n",
            "a\n",
            "u\n",
            "e\n",
            "a\n",
            "a\n",
            "e\n",
            "a\n",
            "i\n",
            "o\n",
            "i\n",
            "e\n",
            "e\n",
            "i\n",
            "a\n",
            "e\n",
            "i\n",
            "a\n",
            "a\n",
            "i\n",
            "o\n"
          ],
          "name": "stdout"
        }
      ]
    },
    {
      "cell_type": "markdown",
      "metadata": {
        "id": "Jywpx5ZWYx5n"
      },
      "source": [
        "### 범위에서 고르기(1)\r\n",
        "\r\n",
        "\r\n",
        "소문자 알파벳만 고르고 싶을 땐 어떻게 할까요? [abcdefghijklmnopqrlstuvwxyz]처럼 대괄호 안에 소문자를 모두 나열할 수도 있지만 뭔가 찜찜하지요.\r\n",
        "\r\n",
        "우리는 간단히 [a-z]를 쓰도록 합시다. [a-z]는 a부터 z까지 글자를 모두 선택하라는 의미입니다.\r\n",
        "\r\n",
        "빈칸에 [a-z]를 입력하고 [실행]해 보세요. Output으로 search_target에 들은 모든 소문자 알파벳이 한 줄씩 나올 겁니다.\r\n",
        "\r\n",
        "https://programmers.co.kr/learn/courses/11/lessons/532"
      ]
    },
    {
      "cell_type": "code",
      "metadata": {
        "id": "B6cttSrIUK7N"
      },
      "source": [
        "# 빈칸에 정규표현식을 적습니다.\r\n",
        "regex = r'[a-z]'\r\n",
        "\r\n",
        "search_target = '''Luke Skywarker 02-123-4567 luke@daum.net\r\n",
        "다스베이더 070-9999-9999 darth_vader@gmail.com\r\n",
        "princess leia 010 2454 3457 leia@gmail.com'''\r\n",
        "\r\n",
        "# 정규표현식과 일치하는 부분을 모두 찾아주는 파이썬 코드입니다.\r\n",
        "import re\r\n",
        "result = re.findall(regex, search_target)\r\n",
        "print(\"\\n\".join(result))"
      ],
      "execution_count": null,
      "outputs": []
    },
    {
      "cell_type": "markdown",
      "metadata": {
        "id": "P1b7mvd9YySn"
      },
      "source": [
        "### 범위에서 고르기(2)\r\n",
        "\r\n",
        "연속된 영어 소문자를 찾으려면 어떻게 할까요?\r\n",
        "\r\n",
        "1. 소문자를 뜻하는 [a-z]와\r\n",
        "2. 반복을 뜻하는 +를 붙여 => [a-z]+를 씁니다.\r\n",
        "\r\n",
        "빈칸에 [a-z]+를 입력하고 [실행]해 보세요. Output으로 search_target에 들은 모든 연속된 소문자가 한 줄씩 나올 겁니다.\r\n",
        "\r\n",
        "https://programmers.co.kr/learn/courses/11/lessons/917"
      ]
    },
    {
      "cell_type": "code",
      "metadata": {
        "colab": {
          "base_uri": "https://localhost:8080/"
        },
        "id": "MoEo274VYyh4",
        "outputId": "dfbf6c20-3fc9-40ff-f223-850f431f3ec5"
      },
      "source": [
        "# 빈칸에 정규표현식을 적습니다.\r\n",
        "regex = r'[a-z]+'\r\n",
        "\r\n",
        "search_target = '''Luke Skywarker 02-123-4567 luke@daum.net\r\n",
        "다스베이더 070-9999-9999 darth_vader@gmail.com\r\n",
        "princess leia 010 2454 3457 leia@gmail.com'''\r\n",
        "\r\n",
        "# 정규표현식과 일치하는 부분을 모두 찾아주는 파이썬 코드입니다.\r\n",
        "import re\r\n",
        "result = re.findall(regex, search_target)\r\n",
        "print(\"\\n\".join(result))"
      ],
      "execution_count": 16,
      "outputs": [
        {
          "output_type": "stream",
          "text": [
            "uke\n",
            "kywarker\n",
            "luke\n",
            "daum\n",
            "net\n",
            "darth\n",
            "vader\n",
            "gmail\n",
            "com\n",
            "princess\n",
            "leia\n",
            "leia\n",
            "gmail\n",
            "com\n"
          ],
          "name": "stdout"
        }
      ]
    },
    {
      "cell_type": "markdown",
      "metadata": {
        "id": "Oat9RwFOZgjx"
      },
      "source": [
        "### 한글 고르기\r\n",
        "\r\n",
        "한글 단어를 찾으려면 어떻게 할까요?\r\n",
        "\r\n",
        "한글의 첫 번째 글자는 가이고 마지막 글자는 힣입니다. 따라서 한글은 [가-힣]으로 찾을 수 있습니다.1\r\n",
        "\r\n",
        "빈칸에 [가-힣]+를 입력하고 [실행]해 보세요. Output으로 search_target에 들은 모든 한글 단어가 한 줄씩 나올 겁니다.\r\n",
        "\r\n",
        "1. 단, 이 방식으로는 ㄱㄴㄷ이나 ㅏㅑㅓㅕ같은 낱글자는 찾을 수 없습니다. ↩"
      ]
    },
    {
      "cell_type": "code",
      "metadata": {
        "id": "9ZxkQk5hZg3h"
      },
      "source": [
        "# 빈칸에 정규표현식을 적습니다.\r\n",
        "regex = r'[가-힣]+'\r\n",
        "\r\n",
        "search_target = '''Luke Skywarker 02-123-4567 luke@daum.net\r\n",
        "다스베이더 070-9999-9999 darth_vader@gmail.com\r\n",
        "princess leia 010 2454 3457 leia@gmail.com'''\r\n",
        "\r\n",
        "# 정규표현식과 일치하는 부분을 모두 찾아주는 파이썬 코드입니다.\r\n",
        "import re\r\n",
        "result = re.findall(regex, search_target)\r\n",
        "print(\"\\n\".join(result))"
      ],
      "execution_count": null,
      "outputs": []
    },
    {
      "cell_type": "markdown",
      "metadata": {
        "id": "l-8kN9mYUL9N"
      },
      "source": [
        "## 파트5. 더 알아보기"
      ]
    },
    {
      "cell_type": "markdown",
      "metadata": {
        "id": "3Pyr-A_sZoD4"
      },
      "source": [
        "### 기타 대표문자\r\n",
        "\r\n",
        "숫자(\\d)나 글자(\\w)이외에도 다양한 대표 문자가 있습니다.\r\n",
        "빈칸에 다양한 대표 문자를 입력해서 결과를 확인해 보세요.\r\n",
        "\r\n",
        "- \\s 공백 문자(스페이스, 탭, 뉴라인)\r\n",
        "- \\S 공백 문자를 제외한 문자\r\n",
        "- \\D 숫자를 제외한 문자\r\n",
        "- \\W 글자 대표 문자를 제외한 글자들(특수문자, 공백 등)\r\n",
        "\r\n",
        "https://programmers.co.kr/learn/courses/11/lessons/527"
      ]
    },
    {
      "cell_type": "code",
      "metadata": {
        "colab": {
          "base_uri": "https://localhost:8080/"
        },
        "id": "rq6HvJChUMsc",
        "outputId": "91bc2e93-5a93-4f31-bc45-dcab3c5c3a6a"
      },
      "source": [
        "# 빈칸에 정규표현식을 적습니다.\r\n",
        "regex = r'\\s'\r\n",
        "\r\n",
        "search_target = '''Luke Skywarker 02-123-4567 luke@daum.net\r\n",
        "다스베이더 070-9999-9999 darth_vader@gmail.com\r\n",
        "princess leia 010 2454 3457 leia@gmail.com'''\r\n",
        "\r\n",
        "# 정규표현식과 일치하는 부분을 모두 찾아주는 파이썬 코드입니다.\r\n",
        "import re\r\n",
        "result = re.findall(regex, search_target)\r\n",
        "print(\"\\n\".join(result))"
      ],
      "execution_count": 17,
      "outputs": [
        {
          "output_type": "stream",
          "text": [
            " \n",
            " \n",
            " \n",
            "\n",
            "\n",
            " \n",
            " \n",
            "\n",
            "\n",
            " \n",
            " \n",
            " \n",
            " \n",
            " \n"
          ],
          "name": "stdout"
        }
      ]
    },
    {
      "cell_type": "code",
      "metadata": {
        "colab": {
          "base_uri": "https://localhost:8080/"
        },
        "id": "8AXfvNyIZziP",
        "outputId": "dcb8748d-e53c-4c41-c267-59f59bf346d8"
      },
      "source": [
        "# 빈칸에 정규표현식을 적습니다.\r\n",
        "regex = r'\\S'\r\n",
        "\r\n",
        "search_target = '''Luke Skywarker 02-123-4567 luke@daum.net\r\n",
        "다스베이더 070-9999-9999 darth_vader@gmail.com\r\n",
        "princess leia 010 2454 3457 leia@gmail.com'''\r\n",
        "\r\n",
        "# 정규표현식과 일치하는 부분을 모두 찾아주는 파이썬 코드입니다.\r\n",
        "import re\r\n",
        "result = re.findall(regex, search_target)\r\n",
        "print(\"\\n\".join(result))"
      ],
      "execution_count": 18,
      "outputs": [
        {
          "output_type": "stream",
          "text": [
            "L\n",
            "u\n",
            "k\n",
            "e\n",
            "S\n",
            "k\n",
            "y\n",
            "w\n",
            "a\n",
            "r\n",
            "k\n",
            "e\n",
            "r\n",
            "0\n",
            "2\n",
            "-\n",
            "1\n",
            "2\n",
            "3\n",
            "-\n",
            "4\n",
            "5\n",
            "6\n",
            "7\n",
            "l\n",
            "u\n",
            "k\n",
            "e\n",
            "@\n",
            "d\n",
            "a\n",
            "u\n",
            "m\n",
            ".\n",
            "n\n",
            "e\n",
            "t\n",
            "다\n",
            "스\n",
            "베\n",
            "이\n",
            "더\n",
            "0\n",
            "7\n",
            "0\n",
            "-\n",
            "9\n",
            "9\n",
            "9\n",
            "9\n",
            "-\n",
            "9\n",
            "9\n",
            "9\n",
            "9\n",
            "d\n",
            "a\n",
            "r\n",
            "t\n",
            "h\n",
            "_\n",
            "v\n",
            "a\n",
            "d\n",
            "e\n",
            "r\n",
            "@\n",
            "g\n",
            "m\n",
            "a\n",
            "i\n",
            "l\n",
            ".\n",
            "c\n",
            "o\n",
            "m\n",
            "p\n",
            "r\n",
            "i\n",
            "n\n",
            "c\n",
            "e\n",
            "s\n",
            "s\n",
            "l\n",
            "e\n",
            "i\n",
            "a\n",
            "0\n",
            "1\n",
            "0\n",
            "2\n",
            "4\n",
            "5\n",
            "4\n",
            "3\n",
            "4\n",
            "5\n",
            "7\n",
            "l\n",
            "e\n",
            "i\n",
            "a\n",
            "@\n",
            "g\n",
            "m\n",
            "a\n",
            "i\n",
            "l\n",
            ".\n",
            "c\n",
            "o\n",
            "m\n"
          ],
          "name": "stdout"
        }
      ]
    },
    {
      "cell_type": "code",
      "metadata": {
        "colab": {
          "base_uri": "https://localhost:8080/"
        },
        "id": "6MaTk4MFZzxf",
        "outputId": "a3f62ee4-c322-4e2b-add7-e7a5b6093a54"
      },
      "source": [
        "# 빈칸에 정규표현식을 적습니다.\r\n",
        "regex = r'\\D'\r\n",
        "\r\n",
        "search_target = '''Luke Skywarker 02-123-4567 luke@daum.net\r\n",
        "다스베이더 070-9999-9999 darth_vader@gmail.com\r\n",
        "princess leia 010 2454 3457 leia@gmail.com'''\r\n",
        "\r\n",
        "# 정규표현식과 일치하는 부분을 모두 찾아주는 파이썬 코드입니다.\r\n",
        "import re\r\n",
        "result = re.findall(regex, search_target)\r\n",
        "print(\"\\n\".join(result))"
      ],
      "execution_count": 19,
      "outputs": [
        {
          "output_type": "stream",
          "text": [
            "L\n",
            "u\n",
            "k\n",
            "e\n",
            " \n",
            "S\n",
            "k\n",
            "y\n",
            "w\n",
            "a\n",
            "r\n",
            "k\n",
            "e\n",
            "r\n",
            " \n",
            "-\n",
            "-\n",
            " \n",
            "l\n",
            "u\n",
            "k\n",
            "e\n",
            "@\n",
            "d\n",
            "a\n",
            "u\n",
            "m\n",
            ".\n",
            "n\n",
            "e\n",
            "t\n",
            "\n",
            "\n",
            "다\n",
            "스\n",
            "베\n",
            "이\n",
            "더\n",
            " \n",
            "-\n",
            "-\n",
            " \n",
            "d\n",
            "a\n",
            "r\n",
            "t\n",
            "h\n",
            "_\n",
            "v\n",
            "a\n",
            "d\n",
            "e\n",
            "r\n",
            "@\n",
            "g\n",
            "m\n",
            "a\n",
            "i\n",
            "l\n",
            ".\n",
            "c\n",
            "o\n",
            "m\n",
            "\n",
            "\n",
            "p\n",
            "r\n",
            "i\n",
            "n\n",
            "c\n",
            "e\n",
            "s\n",
            "s\n",
            " \n",
            "l\n",
            "e\n",
            "i\n",
            "a\n",
            " \n",
            " \n",
            " \n",
            " \n",
            "l\n",
            "e\n",
            "i\n",
            "a\n",
            "@\n",
            "g\n",
            "m\n",
            "a\n",
            "i\n",
            "l\n",
            ".\n",
            "c\n",
            "o\n",
            "m\n"
          ],
          "name": "stdout"
        }
      ]
    },
    {
      "cell_type": "code",
      "metadata": {
        "colab": {
          "base_uri": "https://localhost:8080/"
        },
        "id": "gz_0BhW3Zz__",
        "outputId": "19c248d5-380c-4350-8539-e2b749ef9a02"
      },
      "source": [
        "# 빈칸에 정규표현식을 적습니다.\r\n",
        "regex = r'\\W'\r\n",
        "\r\n",
        "search_target = '''Luke Skywarker 02-123-4567 luke@daum.net\r\n",
        "다스베이더 070-9999-9999 darth_vader@gmail.com\r\n",
        "princess leia 010 2454 3457 leia@gmail.com'''\r\n",
        "\r\n",
        "# 정규표현식과 일치하는 부분을 모두 찾아주는 파이썬 코드입니다.\r\n",
        "import re\r\n",
        "result = re.findall(regex, search_target)\r\n",
        "print(\"\\n\".join(result))"
      ],
      "execution_count": 20,
      "outputs": [
        {
          "output_type": "stream",
          "text": [
            " \n",
            " \n",
            "-\n",
            "-\n",
            " \n",
            "@\n",
            ".\n",
            "\n",
            "\n",
            " \n",
            "-\n",
            "-\n",
            " \n",
            "@\n",
            ".\n",
            "\n",
            "\n",
            " \n",
            " \n",
            " \n",
            " \n",
            " \n",
            "@\n",
            ".\n"
          ],
          "name": "stdout"
        }
      ]
    },
    {
      "cell_type": "markdown",
      "metadata": {
        "id": "gMz8dM-3UNFl"
      },
      "source": [
        "## 파트6. 프로그래밍 언어별 정규표현식"
      ]
    },
    {
      "cell_type": "markdown",
      "metadata": {
        "id": "qtZU2IH9aCDW"
      },
      "source": [
        "### 자바 정규표현식\r\n",
        "\r\n",
        "이번 시간에는 자바 언어로 정규표현식을 다루겠습니다.\r\n",
        "\r\n",
        "Java로 정규 표현식을 다룰 때에는 Pattern 클래스와 Matcher 클래스를 이용합니다.\r\n",
        "\r\n",
        "\r\n",
        "---\r\n",
        "\r\n",
        "\r\n",
        "주의할 점: Java에서는 \\ 대신 \\\\\\를 적어야 합니다.\r\n",
        "\r\n",
        "Python은 raw string을 지원해 대표 문자(1)를 표현할 때 역슬래시 \\ 를 한 번만 쓸 수 있습니다. 허나, 자바에서는 escape 때문에 역슬래시를 사용해 역슬래시 \\를 두 번 적어야 합니다.\r\n",
        "\r\n",
        "빈칸에 \\\\\\d를 입력하고 [실행]해 보세요. Output으로 search_target에 들은 모든 숫자가 한 줄씩 나올 겁니다.\r\n",
        "\r\n",
        "\r\n",
        "---\r\n",
        "\r\n",
        "- (1). \\d, \\w 등 ↩\r\n",
        "\r\n",
        "https://programmers.co.kr/learn/courses/11/lessons/538"
      ]
    },
    {
      "cell_type": "code",
      "metadata": {
        "id": "mBsHDdIMUOPt"
      },
      "source": [
        "# import java.io.Console;\r\n",
        "# import java.util.regex.Pattern;\r\n",
        "# import java.util.regex.Matcher;\r\n",
        "\r\n",
        "# public class MyRegex{\r\n",
        "#     public static void main(String[] args){\r\n",
        "#         String searchTarget = \"Luke Skywarker 02-123-4567 luke@daum.net\\n다스베이더 070-9999-9999 darth_vader@gmail.com\\nprincess leia 010 2454 3457 leia@gmail.com\";\r\n",
        "\r\n",
        "#         Pattern pattern = Pattern.compile(\"\\\\d\");\r\n",
        "#         Matcher matcher = pattern.matcher(searchTarget);\r\n",
        "#         while(matcher.find()){\r\n",
        "#             System.out.println(matcher.group(0));\r\n",
        "#         }\r\n",
        "#     }\r\n",
        "# }"
      ],
      "execution_count": null,
      "outputs": []
    },
    {
      "cell_type": "markdown",
      "metadata": {
        "id": "qJ8lXL1gaCRD"
      },
      "source": [
        "### 자바스크립트 정규표현식\r\n",
        "\r\n",
        "이번 시간에는 javascript로 정규표현식을 다루겠습니다.\r\n",
        "\r\n",
        "Javascript로 정규표현식을 다룰 때에는 String class의 match 함수를 이용할 수 있습니다.\r\n",
        "\r\n",
        "빈칸에 \\d를 입력하고 [실행]해 보세요. Output으로 search_target에 들은 모든 숫자가 한 줄씩 나올 겁니다\r\n",
        "\r\n",
        "https://programmers.co.kr/learn/courses/11/lessons/544"
      ]
    },
    {
      "cell_type": "code",
      "metadata": {
        "id": "hUKkTLfYaCeA"
      },
      "source": [
        "# var searchTarget = \"Luke Skywarker 02-123-4567 luke@daum.net\\\r\n",
        "# 다스베이더 070-9999-9999 darth_vader@gmail.com\\\r\n",
        "# princess leia 010 2454 3457 leia@gmail.com\";\r\n",
        "\r\n",
        "# /* 아래 코드의 /와 /g가운데에 정규표현식을 넣으세요.\r\n",
        "#  * g는 global의 약자로, 정규표현식과 일치하는 모든 내용을 찾아오라는 옵션입니다.\r\n",
        "#  */\r\n",
        "# var regex = /\\d/g;    // 여기에 정규표현식을 입력하세요.\r\n",
        "# console.log(searchTarget.match(regex));"
      ],
      "execution_count": null,
      "outputs": []
    },
    {
      "cell_type": "markdown",
      "metadata": {
        "id": "jxpN8wqVaCn4"
      },
      "source": [
        "### C# 정규표현식\r\n",
        "\r\n",
        "이번 시간에는 C#으로 정규표현식을 다루겠습니다.\r\n",
        "\r\n",
        "C#으로 정규표현식을 다룰 때에는 Regex.matches라는 메소드를 이용합니다.\r\n",
        "\r\n",
        "\r\n",
        "---\r\n",
        "\r\n",
        "\r\n",
        "주의할 점: C#에서는 \\ 대신 `\\\\\\`를 적어야 합니다.\r\n",
        "\r\n",
        "Python은 raw string을 지원해 대표 문자(1)를 표현할 때 역슬래시 \\ 를 한 번만 쓸 수 있습니다. 허나, C#에서는 escape 때문에 역슬래시를 사용해 역슬래시 \\를 두 번 적어야 합니다.\r\n",
        "\r\n",
        "빈칸에 \\\\d를 입력하고 [실행]해 보세요. Output으로 search_target에 들은 모든 숫자가 한 줄씩 나올 겁니다.\r\n",
        "\r\n",
        "\r\n",
        "---\r\n",
        "\r\n",
        "---\r\n",
        "\r\n",
        "\r\n",
        "\r\n",
        "\r\n",
        "(1). \\d, \\w 등 ↩"
      ]
    },
    {
      "cell_type": "code",
      "metadata": {
        "id": "5jBYSJ-5aC1o"
      },
      "source": [
        "# using System;\r\n",
        "# using System.Text.RegularExpressions;\r\n",
        "\r\n",
        "# public class RegexTest {\r\n",
        "#     public static void Main() {\r\n",
        "#         string regex = \"\\\\d\";\r\n",
        "#         string searchTarget = \"Luke Skywarker 02-123-4567 luke@daum.net\\n다스베이더 070-9999-9999 darth_vader@gmail.com\\nprincess leia 010 2454 3457 leia@gmail.com\";\r\n",
        "\r\n",
        "#         foreach (Match m in Regex.Matches(searchTarget, regex)){\r\n",
        "#             Console.WriteLine(m.Value);\r\n",
        "#         }\r\n",
        "#     }\r\n",
        "# }"
      ],
      "execution_count": null,
      "outputs": []
    }
  ]
}
